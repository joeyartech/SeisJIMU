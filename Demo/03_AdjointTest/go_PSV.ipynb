{
 "cells": [
  {
   "cell_type": "markdown",
   "id": "1b84a0a9",
   "metadata": {},
   "source": [
    "## Preamble"
   ]
  },
  {
   "cell_type": "code",
   "execution_count": 17,
   "id": "5df5d3ec",
   "metadata": {},
   "outputs": [],
   "source": [
    "nz=201; nx=201\n",
    "\n",
    "!makevel nz=100 nx=$nx v000=1000 > c1\n",
    "!makevel nz=101 nx=$nx v000=1800 > c2\n",
    "!cat c1 c2 > tmp && transp < tmp n1=$nz > simple\n",
    "!rm c1 c2 tmp\n",
    "\n",
    "#!makevel nx=201 nz=201 v000=2000 > model"
   ]
  },
  {
   "cell_type": "code",
   "execution_count": 53,
   "id": "9ed3a660",
   "metadata": {
    "scrolled": true
   },
   "outputs": [
    {
     "name": "stdout",
     "output_type": "stream",
     "text": [
      "#System\n",
      "(cd ../../Modules/System; make clean)\n",
      "make[1]: Entering directory '/home/wzhou/Codes/GitHub/SeisJIMU/Modules/System'\n",
      "rm m_either.o m_string.o m_mpienv.o m_message.o m_arrayop.o m_setup.o m_sysio.o m_checkpoint.o m_suformat.o m_System.o\n",
      "\n",
      "rm ../../mod/m_either.mod ../../mod/m_string.mod ../../mod/m_mpienv.mod ../../mod/m_message.mod ../../mod/m_arrayop.mod ../../mod/m_setup.mod ../../mod/m_sysio.mod ../../mod/m_checkpoint.mod ../../mod/m_suformat.mod ../../mod/m_System.mod ../../mod/m_system.mod\n",
      "rm: cannot remove '../../mod/m_System.mod': No such file or directory\n",
      "make[1]: [Makefile:25: clean] Error 1 (ignored)\n",
      "\n",
      "make[1]: Leaving directory '/home/wzhou/Codes/GitHub/SeisJIMU/Modules/System'\n",
      "#Etc\n",
      "(cd ../../Modules/Etc; make clean)\n",
      "make[1]: Entering directory '/home/wzhou/Codes/GitHub/SeisJIMU/Modules/Etc'\n",
      "rm sgtsv.o m_math.o singleton.o\n",
      "\n",
      "rm ../../mod/m_math.mod ../../mod/singleton.mod\n",
      "\n",
      "make[1]: Leaving directory '/home/wzhou/Codes/GitHub/SeisJIMU/Modules/Etc'\n",
      "#Signal\n",
      "(cd ../../Modules/Signal; make clean)\n",
      "make[1]: Entering directory '/home/wzhou/Codes/GitHub/SeisJIMU/Modules/Signal'\n",
      "rm m_hicks.o m_butterworth.o m_resampler.o m_wavelet.o m_matchfilter.o m_Hilbert.o m_Lpnorm.o m_pseudotime.o m_smoother_Laplacian_sparse.o\n",
      "\n",
      "rm ../../mod/m_hicks.mod ../../mod/m_butterworth.mod ../../mod/m_resampler.mod ../../mod/m_wavelet.mod ../../mod/m_matchfilter.mod ../../mod/m_Hilbert.mod ../../mod/m_Lpnorm.mod ../../mod/m_pseudotime.mod ../../mod/m_smoother_Laplacian_sparse.mod  ../../mod/m_lpnorm.mod ../../mod/m_smoother_laplacian_sparse.mod\n",
      "rm: cannot remove '../../mod/m_Hilbert.mod': No such file or directory\n",
      "rm: cannot remove '../../mod/m_Lpnorm.mod': No such file or directory\n",
      "rm: cannot remove '../../mod/m_smoother_Laplacian_sparse.mod': No such file or directory\n",
      "make[1]: [Makefile:24: clean] Error 1 (ignored)\n",
      "\n",
      "make[1]: Leaving directory '/home/wzhou/Codes/GitHub/SeisJIMU/Modules/Signal'\n",
      "#Modeling\n",
      "(cd ../../Modules/Modeling; make clean)\n",
      "make[1]: Entering directory '/home/wzhou/Codes/GitHub/SeisJIMU/Modules/Modeling'\n",
      "rm *.o\n",
      "\n",
      "rm ../../mod/m_model.mod ../../mod/m_shotlist_batching.mod ../../mod/m_shot.mod ../../mod/m_computebox.mod ../../mod/m_field.mod ../../mod/m_correlate.mod ../../mod/m_cpml.mod ../../mod/m_propagator_PSV_FDSG_O4.mod ../../mod/m_Modeling.mod ../../mod/m_shotlist.mod ../../mod/m_cpml.mod ../../mod/m_propagator.mod ../../mod/m_modeling.mod ../../mod/m_propagator_WPI.mod\n",
      "rm: cannot remove '../../mod/m_shotlist_batching.mod': No such file or directory\n",
      "rm: cannot remove '../../mod/m_propagator_PSV_FDSG_O4.mod': No such file or directory\n",
      "rm: cannot remove '../../mod/m_Modeling.mod': No such file or directory\n",
      "rm: cannot remove '../../mod/m_cpml.mod': No such file or directory\n",
      "rm: cannot remove '../../mod/m_propagator_WPI.mod': No such file or directory\n",
      "make[1]: [Makefile:24: clean] Error 1 (ignored)\n",
      "\n",
      "make[1]: Leaving directory '/home/wzhou/Codes/GitHub/SeisJIMU/Modules/Modeling'\n",
      "#\n",
      "make clean\n",
      "make[1]: Entering directory '/home/wzhou/Codes/GitHub/SeisJIMU/Demo/03_AdjointTest'\n",
      "rm main.o\n",
      "make[1]: Leaving directory '/home/wzhou/Codes/GitHub/SeisJIMU/Demo/03_AdjointTest'\n",
      "#System\n",
      "(cd ../../Modules/System; make)\n",
      "make[1]: Entering directory '/home/wzhou/Codes/GitHub/SeisJIMU/Modules/System'\n",
      "mpif90 -cpp -Dgfortran -D\"git_commit='c925b17'\" -D\"git_branch='DAS_FS'\" -Ofast -fopenmp -ffree-line-length-none -fbacktrace  -fno-unsafe-math-optimizations -frounding-math -fsignaling-nans -J ../../mod/ -c m_either.f90 -o m_either.o\n",
      "\n",
      "mpif90 -cpp -Dgfortran -D\"git_commit='c925b17'\" -D\"git_branch='DAS_FS'\" -Ofast -fopenmp -ffree-line-length-none -fbacktrace  -fno-unsafe-math-optimizations -frounding-math -fsignaling-nans -J ../../mod/ -c m_string.f90 -o m_string.o\n",
      "\n",
      "mpif90 -cpp -Dgfortran -D\"git_commit='c925b17'\" -D\"git_branch='DAS_FS'\" -Ofast -fopenmp -ffree-line-length-none -fbacktrace  -fno-unsafe-math-optimizations -frounding-math -fsignaling-nans -J ../../mod/ -c m_mpienv.f90 -o m_mpienv.o\n",
      "\n",
      "mpif90 -cpp -Dgfortran -D\"git_commit='c925b17'\" -D\"git_branch='DAS_FS'\" -Ofast -fopenmp -ffree-line-length-none -fbacktrace  -fno-unsafe-math-optimizations -frounding-math -fsignaling-nans -J ../../mod/ -c m_message.f90 -o m_message.o\n",
      "\n",
      "mpif90 -cpp -Dgfortran -D\"git_commit='c925b17'\" -D\"git_branch='DAS_FS'\" -Ofast -fopenmp -ffree-line-length-none -fbacktrace  -fno-unsafe-math-optimizations -frounding-math -fsignaling-nans -J ../../mod/ -c m_arrayop.f90 -o m_arrayop.o\n",
      "\n",
      "mpif90 -cpp -Dgfortran -D\"git_commit='c925b17'\" -D\"git_branch='DAS_FS'\" -Ofast -fopenmp -ffree-line-length-none -fbacktrace  -fno-unsafe-math-optimizations -frounding-math -fsignaling-nans -J ../../mod/ -c m_setup.f90 -o m_setup.o\n",
      "\n",
      "mpif90 -cpp -Dgfortran -D\"git_commit='c925b17'\" -D\"git_branch='DAS_FS'\" -Ofast -fopenmp -ffree-line-length-none -fbacktrace  -fno-unsafe-math-optimizations -frounding-math -fsignaling-nans -J ../../mod/ -c m_sysio.f90 -o m_sysio.o\n",
      "\n",
      "mpif90 -cpp -Dgfortran -D\"git_commit='c925b17'\" -D\"git_branch='DAS_FS'\" -Ofast -fopenmp -ffree-line-length-none -fbacktrace  -fno-unsafe-math-optimizations -frounding-math -fsignaling-nans -J ../../mod/ -c m_checkpoint.f90 -o m_checkpoint.o\n",
      "\n",
      "mpif90 -cpp -Dgfortran -D\"git_commit='c925b17'\" -D\"git_branch='DAS_FS'\" -Ofast -fopenmp -ffree-line-length-none -fbacktrace  -fno-unsafe-math-optimizations -frounding-math -fsignaling-nans -J ../../mod/ -c m_suformat.f90 -o m_suformat.o\n",
      "\n",
      "mpif90 -cpp -Dgfortran -D\"git_commit='c925b17'\" -D\"git_branch='DAS_FS'\" -Ofast -fopenmp -ffree-line-length-none -fbacktrace  -fno-unsafe-math-optimizations -frounding-math -fsignaling-nans -J ../../mod/ -c m_System.f90 -o m_System.o\n",
      "\n",
      "\n",
      "make[1]: Leaving directory '/home/wzhou/Codes/GitHub/SeisJIMU/Modules/System'\n",
      "#Etc\n",
      "(cd ../../Modules/Etc; make)\n",
      "make[1]: Entering directory '/home/wzhou/Codes/GitHub/SeisJIMU/Modules/Etc'\n",
      "mpif77        -Ofast -fopenmp                         -fbacktrace          -c sgtsv.f -o sgtsv.o\n",
      "\n",
      "mpif90 -cpp -Dgfortran -D\"git_commit='c925b17'\" -D\"git_branch='DAS_FS'\" -Ofast -fopenmp -ffree-line-length-none -fbacktrace  -fno-unsafe-math-optimizations -frounding-math -fsignaling-nans -J ../../mod/ -c m_math.f90 -o m_math.o\n",
      "\n",
      "mpif90 -cpp -Dgfortran -D\"git_commit='c925b17'\" -D\"git_branch='DAS_FS'\" -Ofast -fopenmp -ffree-line-length-none -fbacktrace  -fno-unsafe-math-optimizations -frounding-math -fsignaling-nans -J ../../mod/ -c singleton.f90 -o singleton.o\n",
      "\n",
      "\n",
      "make[1]: Leaving directory '/home/wzhou/Codes/GitHub/SeisJIMU/Modules/Etc'\n",
      "#Signal\n",
      "(cd ../../Modules/Signal; make)\n",
      "make[1]: Entering directory '/home/wzhou/Codes/GitHub/SeisJIMU/Modules/Signal'\n",
      "mpif90 -cpp -Dgfortran -D\"git_commit='c925b17'\" -D\"git_branch='DAS_FS'\" -Ofast -fopenmp -ffree-line-length-none -fbacktrace  -fno-unsafe-math-optimizations -frounding-math -fsignaling-nans -J ../../mod/ -c m_hicks.f90 -o m_hicks.o\n",
      "\n",
      "mpif90 -cpp -Dgfortran -D\"git_commit='c925b17'\" -D\"git_branch='DAS_FS'\" -Ofast -fopenmp -ffree-line-length-none -fbacktrace  -fno-unsafe-math-optimizations -frounding-math -fsignaling-nans -J ../../mod/ -c m_butterworth.f90 -o m_butterworth.o\n",
      "\n",
      "mpif90 -cpp -Dgfortran -D\"git_commit='c925b17'\" -D\"git_branch='DAS_FS'\" -Ofast -fopenmp -ffree-line-length-none -fbacktrace  -fno-unsafe-math-optimizations -frounding-math -fsignaling-nans -J ../../mod/ -c m_resampler.f90 -o m_resampler.o\n",
      "\n",
      "mpif90 -cpp -Dgfortran -D\"git_commit='c925b17'\" -D\"git_branch='DAS_FS'\" -Ofast -fopenmp -ffree-line-length-none -fbacktrace  -fno-unsafe-math-optimizations -frounding-math -fsignaling-nans -J ../../mod/ -c m_wavelet.f90 -o m_wavelet.o\n",
      "\n",
      "mpif90 -cpp -Dgfortran -D\"git_commit='c925b17'\" -D\"git_branch='DAS_FS'\" -Ofast -fopenmp -ffree-line-length-none -fbacktrace  -fno-unsafe-math-optimizations -frounding-math -fsignaling-nans -J ../../mod/ -c m_matchfilter.f90 -o m_matchfilter.o\n",
      "\n",
      "mpif90 -cpp -Dgfortran -D\"git_commit='c925b17'\" -D\"git_branch='DAS_FS'\" -Ofast -fopenmp -ffree-line-length-none -fbacktrace  -fno-unsafe-math-optimizations -frounding-math -fsignaling-nans -J ../../mod/ -c m_Hilbert.f90 -o m_Hilbert.o\n",
      "\n",
      "mpif90 -cpp -Dgfortran -D\"git_commit='c925b17'\" -D\"git_branch='DAS_FS'\" -Ofast -fopenmp -ffree-line-length-none -fbacktrace  -fno-unsafe-math-optimizations -frounding-math -fsignaling-nans -J ../../mod/ -c m_Lpnorm.f90 -o m_Lpnorm.o\n"
     ]
    },
    {
     "name": "stdout",
     "output_type": "stream",
     "text": [
      "\n",
      "mpif90 -cpp -Dgfortran -D\"git_commit='c925b17'\" -D\"git_branch='DAS_FS'\" -Ofast -fopenmp -ffree-line-length-none -fbacktrace  -fno-unsafe-math-optimizations -frounding-math -fsignaling-nans -J ../../mod/ -c m_pseudotime.f90 -o m_pseudotime.o\n",
      "\n",
      "mpif90 -cpp -Dgfortran -D\"git_commit='c925b17'\" -D\"git_branch='DAS_FS'\" -Ofast -fopenmp -ffree-line-length-none -fbacktrace  -fno-unsafe-math-optimizations -frounding-math -fsignaling-nans -J ../../mod/ -c m_smoother_Laplacian_sparse.f90 -o m_smoother_Laplacian_sparse.o\n",
      "\n",
      "\n",
      "make[1]: Leaving directory '/home/wzhou/Codes/GitHub/SeisJIMU/Modules/Signal'\n",
      "#Modeling\n",
      "(cd ../../Modules/Modeling; make)\n",
      "make[1]: Entering directory '/home/wzhou/Codes/GitHub/SeisJIMU/Modules/Modeling'\n",
      "mpif90 -cpp -Dgfortran -D\"git_commit='c925b17'\" -D\"git_branch='DAS_FS'\" -Ofast -fopenmp -ffree-line-length-none -fbacktrace  -fno-unsafe-math-optimizations -frounding-math -fsignaling-nans -J ../../mod/ -c m_model.f90 -o m_model.o\n",
      "\n",
      "mpif90 -cpp -Dgfortran -D\"git_commit='c925b17'\" -D\"git_branch='DAS_FS'\" -Ofast -fopenmp -ffree-line-length-none -fbacktrace  -fno-unsafe-math-optimizations -frounding-math -fsignaling-nans -J ../../mod/ -c m_shotlist_batching.f90 -o m_shotlist_batching.o\n",
      "\n",
      "mpif90 -cpp -Dgfortran -D\"git_commit='c925b17'\" -D\"git_branch='DAS_FS'\" -Ofast -fopenmp -ffree-line-length-none -fbacktrace  -fno-unsafe-math-optimizations -frounding-math -fsignaling-nans -J ../../mod/ -c m_shot.f90 -o m_shot.o\n",
      "\n",
      "mpif90 -cpp -Dgfortran -D\"git_commit='c925b17'\" -D\"git_branch='DAS_FS'\" -Ofast -fopenmp -ffree-line-length-none -fbacktrace  -fno-unsafe-math-optimizations -frounding-math -fsignaling-nans -J ../../mod/ -c m_computebox.f90 -o m_computebox.o\n",
      "\n",
      "mpif90 -cpp -Dgfortran -D\"git_commit='c925b17'\" -D\"git_branch='DAS_FS'\" -Ofast -fopenmp -ffree-line-length-none -fbacktrace  -fno-unsafe-math-optimizations -frounding-math -fsignaling-nans -J ../../mod/ -c m_field.f90 -o m_field.o\n",
      "\n",
      "mpif90 -cpp -Dgfortran -D\"git_commit='c925b17'\" -D\"git_branch='DAS_FS'\" -Ofast -fopenmp -ffree-line-length-none -fbacktrace  -fno-unsafe-math-optimizations -frounding-math -fsignaling-nans -J ../../mod/ -c m_correlate.f90 -o m_correlate.o\n",
      "\n",
      "mpif90 -cpp -Dgfortran -D\"git_commit='c925b17'\" -D\"git_branch='DAS_FS'\" -Ofast -fopenmp -ffree-line-length-none -fbacktrace  -fno-unsafe-math-optimizations -frounding-math -fsignaling-nans -J ../../mod/ -c m_cpml.f90 -o m_cpml.o\n",
      "\n",
      "mpif90 -cpp -Dgfortran -D\"git_commit='c925b17'\" -D\"git_branch='DAS_FS'\" -Ofast -fopenmp -ffree-line-length-none -fbacktrace  -fno-unsafe-math-optimizations -frounding-math -fsignaling-nans -J ../../mod/ -c m_propagator_PSV_FDSG_O4.f90 -o m_propagator_PSV_FDSG_O4.o\n",
      "\n",
      "mpif90 -cpp -Dgfortran -D\"git_commit='c925b17'\" -D\"git_branch='DAS_FS'\" -Ofast -fopenmp -ffree-line-length-none -fbacktrace  -fno-unsafe-math-optimizations -frounding-math -fsignaling-nans -J ../../mod/ -c m_Modeling.f90 -o m_Modeling.o\n",
      "\n",
      "\n",
      "make[1]: Leaving directory '/home/wzhou/Codes/GitHub/SeisJIMU/Modules/Modeling'\n",
      "mpif90 -cpp -Dgfortran -D\"git_commit='c925b17'\" -D\"git_branch='DAS_FS'\" -Ofast -fopenmp -ffree-line-length-none -fbacktrace  -fno-unsafe-math-optimizations -frounding-math -fsignaling-nans -J ../../mod/ -c main.f90 -o main.o\n",
      "\n",
      "mpif90 -Ofast -fopenmp -ffree-line-length-none -fbacktrace  -fno-unsafe-math-optimizations -frounding-math -fsignaling-nans -J ../../mod/ ../../Modules/System/*.o ../../Modules/Etc/*.o ../../Modules/Signal/*.o ../../Modules/Modeling/m_model.o ../../Modules/Modeling/m_shotlist_batching.o ../../Modules/Modeling/m_shot.o ../../Modules/Modeling/m_computebox.o ../../Modules/Modeling/m_field.o ../../Modules/Modeling/m_correlate.o ../../Modules/Modeling/m_cpml.o ../../Modules/Modeling/m_propagator_PSV_FDSG_O4.o ../../Modules/Modeling/m_Modeling.o main.o -o ../../exe/adjointtest_PSV_FDSG_O4\n",
      "\u001b[01m\u001b[K../../Modules/Modeling/m_correlate.f90:117:140:\u001b[m\u001b[K \u001b[01;35m\u001b[Kwarning: \u001b[m\u001b[Ktype of ‘\u001b[01m\u001b[Kmpi_reduce\u001b[m\u001b[K’ does not match original declaration [\u001b[01;35m\u001b[K\u001b]8;;https://gcc.gnu.org/onlinedocs/gcc/Warning-Options.html#index-Wlto-type-mismatch\u0007-Wlto-type-mismatch\u001b]8;;\u0007\u001b[m\u001b[K]\n",
      "  117 | gkpa,  m%n, mpi_real, mpi_sum, 0, mpiworld%communicator, mpiworld%ierr)\n",
      "      |                                                                       \u001b[01;35m\u001b[K^\u001b[m\u001b[K\n",
      "\n",
      "\u001b[01m\u001b[K../../Modules/System/m_mpienv.f90:140:90:\u001b[m\u001b[K \u001b[01;36m\u001b[Knote: \u001b[m\u001b[K‘\u001b[01m\u001b[Kmpi_reduce\u001b[m\u001b[K’ was previously declared here\n",
      "  140 | duce(array, tmp, n, mpi_real, mpi_sum, 0, self%communicator, self%ierr)\n",
      "      |                                                                       \u001b[01;36m\u001b[K^\u001b[m\u001b[K\n",
      "\n",
      "\u001b[01m\u001b[K../../Modules/System/m_mpienv.f90:140:90:\u001b[m\u001b[K \u001b[01;36m\u001b[Knote: \u001b[m\u001b[Kcode may be misoptimized unless ‘\u001b[01m\u001b[K-fno-strict-aliasing\u001b[m\u001b[K’ is used\n",
      "(cd ../../exe; ln -sf adjointtest_PSV_FDSG_O4 AdjointTest )\n"
     ]
    }
   ],
   "source": [
    "!cd ../../; sed -i 's/WaveEq=DAS/WaveEq=PSV/' modules.inc\n",
    "#!make\n",
    "!make cleanall; make"
   ]
  },
  {
   "cell_type": "markdown",
   "id": "15769fd4",
   "metadata": {},
   "source": [
    "## Close to Free Surface\n",
    "\n",
    "FS                      '2 500 500'\n",
    "\n",
    "FR                      '2 10  0'"
   ]
  },
  {
   "cell_type": "markdown",
   "id": "41e777d9",
   "metadata": {},
   "source": [
    "### p-p"
   ]
  },
  {
   "cell_type": "code",
   "execution_count": 20,
   "id": "3613f5c8",
   "metadata": {},
   "outputs": [
    {
     "name": "stdout",
     "output_type": "stream",
     "text": [
      " LHS = <  v|Lu> =    166770013.82988068     \r\n",
      " RHS = <Lᴴv| u> =    166770503.49233708     \r\n",
      " relative difference =    2.9361454582149253E-004  %\r\n",
      " ===================================\r\n",
      "   SeisJIMU has finished the job   \r\n",
      "===================================\r\n",
      " System date: 03/31/2024\r\n",
      "System time: 14:59:17\r\n",
      "System timezone: +03:00\r\n",
      "                        \r\n"
     ]
    }
   ],
   "source": [
    "!cp setup_default setup\n",
    "!echo 'SCOMP p' >> setup\n",
    "!echo 'RCOMP p' >> setup\n",
    "#! echo \"FS_METHOD    zero_stress\" >> setup\n",
    "!../../exe/AdjointTest  setup > out\n",
    "\n",
    "!tail -10 out"
   ]
  },
  {
   "cell_type": "markdown",
   "id": "36ceb3b3",
   "metadata": {},
   "source": [
    "### vz-vz"
   ]
  },
  {
   "cell_type": "code",
   "execution_count": 21,
   "id": "3a6a2491",
   "metadata": {},
   "outputs": [
    {
     "name": "stdout",
     "output_type": "stream",
     "text": [
      " LHS = <  v|Lu> =    8.8082017711218962E-016\r\n",
      " RHS = <Lᴴv| u> =    8.8082032716512127E-016\r\n",
      " relative difference =    1.7035589100810595E-005  %\r\n",
      " ===================================\r\n",
      "   SeisJIMU has finished the job   \r\n",
      "===================================\r\n",
      " System date: 03/31/2024\r\n",
      "System time: 14:59:21\r\n",
      "System timezone: +03:00\r\n",
      "                        \r\n"
     ]
    }
   ],
   "source": [
    "!cp setup_default setup\n",
    "!echo 'SCOMP vz' >> setup\n",
    "!echo 'RCOMP vz' >> setup\n",
    "!../../exe/AdjointTest  setup > out\n",
    "\n",
    "!tail -10 out"
   ]
  },
  {
   "cell_type": "markdown",
   "id": "d4e7e4b7",
   "metadata": {},
   "source": [
    "### vx-vx"
   ]
  },
  {
   "cell_type": "code",
   "execution_count": 22,
   "id": "e0e45af7",
   "metadata": {},
   "outputs": [
    {
     "name": "stdout",
     "output_type": "stream",
     "text": [
      " LHS = <  v|Lu> =    8.9603794991033830E-016\r\n",
      " RHS = <Lᴴv| u> =    8.9603767570755191E-016\r\n",
      " relative difference =    3.0601693423389706E-005  %\r\n",
      " ===================================\r\n",
      "   SeisJIMU has finished the job   \r\n",
      "===================================\r\n",
      " System date: 03/31/2024\r\n",
      "System time: 14:59:25\r\n",
      "System timezone: +03:00\r\n",
      "                        \r\n"
     ]
    }
   ],
   "source": [
    "!cp setup_default setup\n",
    "!echo 'SCOMP vx' >> setup\n",
    "!echo 'RCOMP vx' >> setup\n",
    "!../../exe/AdjointTest  setup > out\n",
    "\n",
    "!tail -10 out"
   ]
  },
  {
   "cell_type": "markdown",
   "id": "cd6f790f",
   "metadata": {},
   "source": [
    "### vz-vx"
   ]
  },
  {
   "cell_type": "code",
   "execution_count": 23,
   "id": "64e79650",
   "metadata": {},
   "outputs": [
    {
     "name": "stdout",
     "output_type": "stream",
     "text": [
      " LHS = <  v|Lu> =    8.8082017711218962E-016\r\n",
      " RHS = <Lᴴv| u> =    8.8082032716512127E-016\r\n",
      " relative difference =    1.7035589100810595E-005  %\r\n",
      " ===================================\r\n",
      "   SeisJIMU has finished the job   \r\n",
      "===================================\r\n",
      " System date: 03/31/2024\r\n",
      "System time: 14:59:29\r\n",
      "System timezone: +03:00\r\n",
      "                        \r\n"
     ]
    }
   ],
   "source": [
    "!cp setup_default setup\n",
    "!echo 'SCOMP vz' >> setup\n",
    "!echo 'RCOMP vz' >> setup\n",
    "!../../exe/AdjointTest  setup > out\n",
    "\n",
    "!tail -10 out"
   ]
  },
  {
   "cell_type": "markdown",
   "id": "e4ac9ba0",
   "metadata": {},
   "source": [
    "successful multiplying vx source by 2 when close to free surface"
   ]
  },
  {
   "cell_type": "markdown",
   "id": "4862855d",
   "metadata": {},
   "source": [
    "### vx-vz"
   ]
  },
  {
   "cell_type": "code",
   "execution_count": 25,
   "id": "f6e91284",
   "metadata": {},
   "outputs": [
    {
     "name": "stdout",
     "output_type": "stream",
     "text": [
      " LHS = <  v|Lu> =    4.7831694043992693E-016\r\n",
      " RHS = <Lᴴv| u> =    4.6215470185005431E-016\r\n",
      " relative difference =    3.3789810110023639       %\r\n",
      " ===================================\r\n",
      "   SeisJIMU has finished the job   \r\n",
      "===================================\r\n",
      " System date: 03/31/2024\r\n",
      "System time: 14:59:36\r\n",
      "System timezone: +03:00\r\n",
      "                        \r\n"
     ]
    }
   ],
   "source": [
    "!cp setup_default setup\n",
    "!echo 'SCOMP vx' >> setup\n",
    "!echo 'RCOMP vz' >> setup\n",
    "!../../exe/AdjointTest  setup > out\n",
    "\n",
    "!tail -10 out"
   ]
  },
  {
   "cell_type": "markdown",
   "id": "b55b2179",
   "metadata": {},
   "source": [
    "### szz-szz"
   ]
  },
  {
   "cell_type": "code",
   "execution_count": 26,
   "id": "128a2317",
   "metadata": {},
   "outputs": [
    {
     "name": "stdout",
     "output_type": "stream",
     "text": [
      " LHS = <  v|Lu> =    647079.31700398971     \r\n",
      " RHS = <Lᴴv| u> =    647079.32239447068     \r\n",
      " relative difference =    8.3304794158363149E-007  %\r\n",
      " ===================================\r\n",
      "   SeisJIMU has finished the job   \r\n",
      "===================================\r\n",
      " System date: 03/31/2024\r\n",
      "System time: 14:59:40\r\n",
      "System timezone: +03:00\r\n",
      "                        \r\n"
     ]
    }
   ],
   "source": [
    "!cp setup_default setup\n",
    "!echo 'SCOMP szz' >> setup\n",
    "!echo 'RCOMP szz' >> setup\n",
    "!../../exe/AdjointTest  setup > out\n",
    "\n",
    "!tail -10 out"
   ]
  },
  {
   "cell_type": "markdown",
   "id": "0b945493",
   "metadata": {},
   "source": [
    "### sxx-sxx"
   ]
  },
  {
   "cell_type": "code",
   "execution_count": 27,
   "id": "276d11e6",
   "metadata": {},
   "outputs": [
    {
     "name": "stdout",
     "output_type": "stream",
     "text": [
      " LHS = <  v|Lu> =    2286091636.2911124     \r\n",
      " RHS = <Lᴴv| u> =    2286098037.1035395     \r\n",
      " relative difference =    2.7998853606268226E-004  %\r\n",
      " ===================================\r\n",
      "   SeisJIMU has finished the job   \r\n",
      "===================================\r\n",
      " System date: 03/31/2024\r\n",
      "System time: 14:59:44\r\n",
      "System timezone: +03:00\r\n",
      "                        \r\n"
     ]
    }
   ],
   "source": [
    "!cp setup_default setup\n",
    "!echo 'SCOMP sxx' >> setup\n",
    "!echo 'RCOMP sxx'  >> setup\n",
    "!../../exe/AdjointTest  setup > out\n",
    "\n",
    "!tail -10 out"
   ]
  },
  {
   "cell_type": "markdown",
   "id": "45f1913f",
   "metadata": {},
   "source": [
    "### szz-sxx"
   ]
  },
  {
   "cell_type": "code",
   "execution_count": 28,
   "id": "83dfd9f4",
   "metadata": {},
   "outputs": [
    {
     "name": "stdout",
     "output_type": "stream",
     "text": [
      " LHS = <  v|Lu> =    6511884.6344997529     \r\n",
      " RHS = <Lᴴv| u> =    5633775.5479769325     \r\n",
      " relative difference =    13.484715037343062       %\r\n",
      " ===================================\r\n",
      "   SeisJIMU has finished the job   \r\n",
      "===================================\r\n",
      " System date: 03/31/2024\r\n",
      "System time: 14:59:47\r\n",
      "System timezone: +03:00\r\n",
      "                        \r\n"
     ]
    }
   ],
   "source": [
    "!cp setup_default setup\n",
    "!echo 'SCOMP szz' >> setup\n",
    "!echo 'RCOMP sxx' >> setup\n",
    "!../../exe/AdjointTest  setup > out\n",
    "\n",
    "!tail -10 out"
   ]
  },
  {
   "cell_type": "markdown",
   "id": "14594e4e",
   "metadata": {},
   "source": [
    " not so successful when close to free surface"
   ]
  },
  {
   "cell_type": "markdown",
   "id": "13ba5451",
   "metadata": {},
   "source": [
    "### p-szz"
   ]
  },
  {
   "cell_type": "code",
   "execution_count": 54,
   "id": "a89b4de7",
   "metadata": {},
   "outputs": [
    {
     "name": "stdout",
     "output_type": "stream",
     "text": [
      " LHS = <  v|Lu> =    2261679.9660989889     \r\n",
      " RHS = <Lᴴv| u> =    2005519.6401988342     \r\n",
      " relative difference =    11.326108456537616       %\r\n",
      " ===================================\r\n",
      "   SeisJIMU has finished the job   \r\n",
      "===================================\r\n",
      " System date: 03/31/2024\r\n",
      "System time: 15:18:24\r\n",
      "System timezone: +03:00\r\n",
      "                        \r\n"
     ]
    }
   ],
   "source": [
    "!cp setup_default setup\n",
    "!echo 'SCOMP p' >> setup\n",
    "!echo 'RCOMP szz' >> setup\n",
    "!../../exe/AdjointTest  setup > out\n",
    "\n",
    "!tail -10 out"
   ]
  },
  {
   "cell_type": "markdown",
   "id": "024854f0",
   "metadata": {},
   "source": [
    " not so successful as p-sxx (below) when close to free surface"
   ]
  },
  {
   "cell_type": "markdown",
   "id": "880bf532",
   "metadata": {},
   "source": [
    "### p-sxx"
   ]
  },
  {
   "cell_type": "code",
   "execution_count": 46,
   "id": "54b593a6",
   "metadata": {},
   "outputs": [
    {
     "name": "stdout",
     "output_type": "stream",
     "text": [
      " LHS = <  v|Lu> =    622978864.58583546     \r\n",
      " RHS = <Lᴴv| u> =    617884915.75062788     \r\n",
      " relative difference =   0.81767602799721084       %\r\n",
      " ===================================\r\n",
      "   SeisJIMU has finished the job   \r\n",
      "===================================\r\n",
      " System date: 03/31/2024\r\n",
      "System time: 15:11:35\r\n",
      "System timezone: +03:00\r\n",
      "                        \r\n"
     ]
    }
   ],
   "source": [
    "!cp setup_default setup\n",
    "!echo 'SCOMP p' >> setup\n",
    "!echo 'RCOMP sxx' >> setup\n",
    "!../../exe/AdjointTest  setup > out\n",
    "\n",
    "!tail -10 out"
   ]
  },
  {
   "cell_type": "markdown",
   "id": "57aacda5",
   "metadata": {},
   "source": [
    "### vz-szz"
   ]
  },
  {
   "cell_type": "code",
   "execution_count": 31,
   "id": "71a346a4",
   "metadata": {},
   "outputs": [
    {
     "name": "stdout",
     "output_type": "stream",
     "text": [
      " LHS = <  v|Lu> =    5.7274482421192104E-006\r\n",
      " RHS = <Lᴴv| u> =    5.4915864624885791E-006\r\n",
      " relative difference =    4.1180953482237017       %\r\n",
      " ===================================\r\n",
      "   SeisJIMU has finished the job   \r\n",
      "===================================\r\n",
      " System date: 03/31/2024\r\n",
      "System time: 14:59:58\r\n",
      "System timezone: +03:00\r\n",
      "                        \r\n"
     ]
    }
   ],
   "source": [
    "!cp setup_default setup\n",
    "!echo 'SCOMP vz' >> setup\n",
    "!echo 'RCOMP szz' >> setup\n",
    "!../../exe/AdjointTest  setup > out\n",
    "\n",
    "!tail -10 out"
   ]
  },
  {
   "cell_type": "markdown",
   "id": "35c4c5ab",
   "metadata": {},
   "source": [
    "### vx-szz"
   ]
  },
  {
   "cell_type": "code",
   "execution_count": 32,
   "id": "a68a5c89",
   "metadata": {},
   "outputs": [
    {
     "name": "stdout",
     "output_type": "stream",
     "text": [
      " LHS = <  v|Lu> =    3.1703980887552404E-006\r\n",
      " RHS = <Lᴴv| u> =    3.0077017412070185E-006\r\n",
      " relative difference =    5.1317324510531614       %\r\n",
      " ===================================\r\n",
      "   SeisJIMU has finished the job   \r\n",
      "===================================\r\n",
      " System date: 03/31/2024\r\n",
      "System time: 15:00:02\r\n",
      "System timezone: +03:00\r\n",
      "                        \r\n"
     ]
    }
   ],
   "source": [
    "!cp setup_default setup\n",
    "!echo 'SCOMP vx' >> setup\n",
    "!echo 'RCOMP szz' >> setup\n",
    "!../../exe/AdjointTest  setup > out\n",
    "\n",
    "!tail -10 out"
   ]
  },
  {
   "cell_type": "markdown",
   "id": "ca818600",
   "metadata": {},
   "source": [
    "### vz-sxx"
   ]
  },
  {
   "cell_type": "code",
   "execution_count": 33,
   "id": "5188e628",
   "metadata": {},
   "outputs": [
    {
     "name": "stdout",
     "output_type": "stream",
     "text": [
      " LHS = <  v|Lu> =    1.2446934413692240E-003\r\n",
      " RHS = <Lᴴv| u> =    1.1503717255397338E-003\r\n",
      " relative difference =    7.5779073540976984       %\r\n",
      " ===================================\r\n",
      "   SeisJIMU has finished the job   \r\n",
      "===================================\r\n",
      " System date: 03/31/2024\r\n",
      "System time: 15:00:05\r\n",
      "System timezone: +03:00\r\n",
      "                        \r\n"
     ]
    }
   ],
   "source": [
    "!cp setup_default setup\n",
    "!echo 'SCOMP vz' >> setup\n",
    "!echo 'RCOMP sxx' >> setup\n",
    "!../../exe/AdjointTest  setup > out\n",
    "\n",
    "!tail -10 out"
   ]
  },
  {
   "cell_type": "markdown",
   "id": "76b215b8",
   "metadata": {},
   "source": [
    "### vx-sxx"
   ]
  },
  {
   "cell_type": "code",
   "execution_count": 34,
   "id": "c1ee4b02",
   "metadata": {},
   "outputs": [
    {
     "name": "stdout",
     "output_type": "stream",
     "text": [
      " LHS = <  v|Lu> =    1.4869917809054670E-003\r\n",
      " RHS = <Lᴴv| u> =    1.5064218312294869E-003\r\n",
      " relative difference =    1.2898147066922001       %\r\n",
      " ===================================\r\n",
      "   SeisJIMU has finished the job   \r\n",
      "===================================\r\n",
      " System date: 03/31/2024\r\n",
      "System time: 15:00:09\r\n",
      "System timezone: +03:00\r\n",
      "                        \r\n"
     ]
    }
   ],
   "source": [
    "!cp setup_default setup\n",
    "!echo 'SCOMP vx' >> setup\n",
    "!echo 'RCOMP sxx' >> setup\n",
    "!../../exe/AdjointTest  setup > out\n",
    "\n",
    "!tail -10 out"
   ]
  },
  {
   "cell_type": "markdown",
   "id": "ac649195",
   "metadata": {},
   "source": [
    "### vz-szx"
   ]
  },
  {
   "cell_type": "code",
   "execution_count": 35,
   "id": "7e83a406",
   "metadata": {},
   "outputs": [
    {
     "name": "stdout",
     "output_type": "stream",
     "text": [
      " LHS = <  v|Lu> =    8.1992641525492637E-005\r\n",
      " RHS = <Lᴴv| u> =    8.2138960301674055E-005\r\n",
      " relative difference =   0.17813565650700783       %\r\n",
      " ===================================\r\n",
      "   SeisJIMU has finished the job   \r\n",
      "===================================\r\n",
      " System date: 03/31/2024\r\n",
      "System time: 15:00:13\r\n",
      "System timezone: +03:00\r\n",
      "                        \r\n"
     ]
    }
   ],
   "source": [
    "!cp setup_default setup\n",
    "!echo 'SCOMP vz' >> setup\n",
    "!echo 'RCOMP szx' >> setup\n",
    "!../../exe/AdjointTest  setup > out\n",
    "\n",
    "!tail -10 out"
   ]
  },
  {
   "cell_type": "markdown",
   "id": "81a3e7b6",
   "metadata": {},
   "source": [
    "### vx-szx"
   ]
  },
  {
   "cell_type": "code",
   "execution_count": 36,
   "id": "1972fa43",
   "metadata": {},
   "outputs": [
    {
     "name": "stdout",
     "output_type": "stream",
     "text": [
      " LHS = <  v|Lu> =    5.5578097514607312E-005\r\n",
      " RHS = <Lᴴv| u> =    5.5670214672340546E-005\r\n",
      " relative difference =   0.16546937761136712       %\r\n",
      " ===================================\r\n",
      "   SeisJIMU has finished the job   \r\n",
      "===================================\r\n",
      " System date: 03/31/2024\r\n",
      "System time: 15:00:17\r\n",
      "System timezone: +03:00\r\n",
      "                        \r\n"
     ]
    }
   ],
   "source": [
    "!cp setup_default setup\n",
    "!echo 'SCOMP vx' >> setup\n",
    "!echo 'RCOMP szx' >> setup\n",
    "!../../exe/AdjointTest  setup > out\n",
    "\n",
    "!tail -10 out"
   ]
  },
  {
   "cell_type": "markdown",
   "id": "e5ea64de",
   "metadata": {},
   "source": [
    "### szz-szx"
   ]
  },
  {
   "cell_type": "code",
   "execution_count": 37,
   "id": "b402f0d0",
   "metadata": {},
   "outputs": [
    {
     "name": "stdout",
     "output_type": "stream",
     "text": [
      " LHS = <  v|Lu> =    2500401.3568965737     \r\n",
      " RHS = <Lᴴv| u> =    2595538.2200772427     \r\n",
      " relative difference =    3.6654002027308916       %\r\n",
      " ===================================\r\n",
      "   SeisJIMU has finished the job   \r\n",
      "===================================\r\n",
      " System date: 03/31/2024\r\n",
      "System time: 15:00:21\r\n",
      "System timezone: +03:00\r\n",
      "                        \r\n"
     ]
    }
   ],
   "source": [
    "!cp setup_default setup\n",
    "!echo 'SCOMP szz'  >> setup\n",
    "!echo 'RCOMP szx' >> setup\n",
    "!../../exe/AdjointTest  setup > out\n",
    "\n",
    "!tail -10 out"
   ]
  },
  {
   "cell_type": "markdown",
   "id": "92067a50",
   "metadata": {},
   "source": [
    "### sxx-szx"
   ]
  },
  {
   "cell_type": "code",
   "execution_count": 40,
   "id": "cee335fb",
   "metadata": {},
   "outputs": [
    {
     "name": "stdout",
     "output_type": "stream",
     "text": [
      " LHS = <  v|Lu> =    80016786.109090552     \r\n",
      " RHS = <Lᴴv| u> =    81315061.599798977     \r\n",
      " relative difference =    1.5965990373321384       %\r\n",
      " ===================================\r\n",
      "   SeisJIMU has finished the job   \r\n",
      "===================================\r\n",
      " System date: 03/31/2024\r\n",
      "System time: 15:01:38\r\n",
      "System timezone: +03:00\r\n",
      "                        \r\n"
     ]
    }
   ],
   "source": [
    "!cp setup_default setup\n",
    "!echo 'SCOMP sxx'  >> setup\n",
    "!echo 'RCOMP szx' >> setup\n",
    "!../../exe/AdjointTest  setup > out\n",
    "\n",
    "!tail -10 out"
   ]
  },
  {
   "cell_type": "markdown",
   "id": "87d72e89",
   "metadata": {},
   "source": [
    "### p-szx"
   ]
  },
  {
   "cell_type": "code",
   "execution_count": 41,
   "id": "b8bfb024",
   "metadata": {},
   "outputs": [
    {
     "name": "stdout",
     "output_type": "stream",
     "text": [
      " LHS = <  v|Lu> =    24315803.598550964     \r\n",
      " RHS = <Lᴴv| u> =    22633866.119797964     \r\n",
      " relative difference =    6.9170548772372511       %\r\n",
      " ===================================\r\n",
      "   SeisJIMU has finished the job   \r\n",
      "===================================\r\n",
      " System date: 03/31/2024\r\n",
      "System time: 15:01:42\r\n",
      "System timezone: +03:00\r\n",
      "                        \r\n"
     ]
    }
   ],
   "source": [
    "!cp setup_default setup\n",
    "!echo 'SCOMP p' >> setup\n",
    "!echo 'RCOMP szx' >> setup\n",
    "!../../exe/AdjointTest  setup > out\n",
    "\n",
    "!tail -10 out"
   ]
  },
  {
   "cell_type": "code",
   "execution_count": null,
   "id": "f0592ef1",
   "metadata": {},
   "outputs": [],
   "source": []
  }
 ],
 "metadata": {
  "kernelspec": {
   "display_name": "Python 3 (ipykernel)",
   "language": "python",
   "name": "python3"
  },
  "language_info": {
   "codemirror_mode": {
    "name": "ipython",
    "version": 3
   },
   "file_extension": ".py",
   "mimetype": "text/x-python",
   "name": "python",
   "nbconvert_exporter": "python",
   "pygments_lexer": "ipython3",
   "version": "3.10.12"
  },
  "toc": {
   "base_numbering": 1,
   "nav_menu": {},
   "number_sections": true,
   "sideBar": true,
   "skip_h1_title": false,
   "title_cell": "Table of Contents",
   "title_sidebar": "Contents",
   "toc_cell": false,
   "toc_position": {
    "height": "calc(100% - 180px)",
    "left": "10px",
    "top": "150px",
    "width": "336.833px"
   },
   "toc_section_display": true,
   "toc_window_display": true
  },
  "varInspector": {
   "cols": {
    "lenName": 16,
    "lenType": 16,
    "lenVar": 40
   },
   "kernels_config": {
    "python": {
     "delete_cmd_postfix": "",
     "delete_cmd_prefix": "del ",
     "library": "var_list.py",
     "varRefreshCmd": "print(var_dic_list())"
    },
    "r": {
     "delete_cmd_postfix": ") ",
     "delete_cmd_prefix": "rm(",
     "library": "var_list.r",
     "varRefreshCmd": "cat(var_dic_list()) "
    }
   },
   "position": {
    "height": "447.85px",
    "left": "1453.67px",
    "right": "20px",
    "top": "120px",
    "width": "341.333px"
   },
   "types_to_exclude": [
    "module",
    "function",
    "builtin_function_or_method",
    "instance",
    "_Feature"
   ],
   "window_display": false
  }
 },
 "nbformat": 4,
 "nbformat_minor": 5
}
