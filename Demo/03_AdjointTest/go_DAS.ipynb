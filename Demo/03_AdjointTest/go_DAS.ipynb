{
 "cells": [
  {
   "cell_type": "markdown",
   "id": "1b84a0a9",
   "metadata": {},
   "source": [
    "## Preamble"
   ]
  },
  {
   "cell_type": "code",
   "execution_count": 23,
   "id": "5df5d3ec",
   "metadata": {},
   "outputs": [],
   "source": [
    "nz=201; nx=201\n",
    "\n",
    "!makevel nz=100 nx=$nx v000=1000 > c1\n",
    "!makevel nz=101 nx=$nx v000=1800 > c2\n",
    "!cat c1 c2 > tmp && transp < tmp n1=$nz > simple\n",
    "!rm c1 c2 tmp\n",
    "\n",
    "#!makevel nx=201 nz=201 v000=2000 > model"
   ]
  },
  {
   "cell_type": "markdown",
   "id": "c04acf36",
   "metadata": {},
   "source": [
    "## On Free Surface\n",
    "\n",
    "FS                      '0 500 500'\n",
    "\n",
    "FR                      '0 10  0'"
   ]
  },
  {
   "cell_type": "code",
   "execution_count": 24,
   "id": "84da4529",
   "metadata": {
    "scrolled": true
   },
   "outputs": [
    {
     "name": "stdout",
     "output_type": "stream",
     "text": [
      "#System\n",
      "(cd ../../Modules/System; make clean)\n",
      "make[1]: Entering directory '/home/wzhou/Codes/GitHub/SeisJIMU/Modules/System'\n",
      "rm m_either.o m_string.o m_mpienv.o m_message.o m_arrayop.o m_setup.o m_sysio.o m_checkpoint.o m_suformat.o m_System.o\n",
      "\n",
      "rm ../../mod/m_either.mod ../../mod/m_string.mod ../../mod/m_mpienv.mod ../../mod/m_message.mod ../../mod/m_arrayop.mod ../../mod/m_setup.mod ../../mod/m_sysio.mod ../../mod/m_checkpoint.mod ../../mod/m_suformat.mod ../../mod/m_System.mod ../../mod/m_system.mod\n",
      "rm: cannot remove '../../mod/m_System.mod': No such file or directory\n",
      "make[1]: [Makefile:25: clean] Error 1 (ignored)\n",
      "\n",
      "make[1]: Leaving directory '/home/wzhou/Codes/GitHub/SeisJIMU/Modules/System'\n",
      "#Etc\n",
      "(cd ../../Modules/Etc; make clean)\n",
      "make[1]: Entering directory '/home/wzhou/Codes/GitHub/SeisJIMU/Modules/Etc'\n",
      "rm sgtsv.o m_math.o singleton.o\n",
      "\n",
      "rm ../../mod/m_math.mod ../../mod/singleton.mod\n",
      "\n",
      "make[1]: Leaving directory '/home/wzhou/Codes/GitHub/SeisJIMU/Modules/Etc'\n",
      "#Signal\n",
      "(cd ../../Modules/Signal; make clean)\n",
      "make[1]: Entering directory '/home/wzhou/Codes/GitHub/SeisJIMU/Modules/Signal'\n",
      "rm m_hicks.o m_butterworth.o m_resampler.o m_wavelet.o m_matchfilter.o m_Hilbert.o m_Lpnorm.o m_pseudotime.o m_smoother_Laplacian_sparse.o\n",
      "\n",
      "rm ../../mod/m_hicks.mod ../../mod/m_butterworth.mod ../../mod/m_resampler.mod ../../mod/m_wavelet.mod ../../mod/m_matchfilter.mod ../../mod/m_Hilbert.mod ../../mod/m_Lpnorm.mod ../../mod/m_pseudotime.mod ../../mod/m_smoother_Laplacian_sparse.mod  ../../mod/m_lpnorm.mod ../../mod/m_smoother_laplacian_sparse.mod\n",
      "rm: cannot remove '../../mod/m_Hilbert.mod': No such file or directory\n",
      "rm: cannot remove '../../mod/m_Lpnorm.mod': No such file or directory\n",
      "rm: cannot remove '../../mod/m_smoother_Laplacian_sparse.mod': No such file or directory\n",
      "make[1]: [Makefile:24: clean] Error 1 (ignored)\n",
      "\n",
      "make[1]: Leaving directory '/home/wzhou/Codes/GitHub/SeisJIMU/Modules/Signal'\n",
      "#Modeling\n",
      "(cd ../../Modules/Modeling; make clean)\n",
      "make[1]: Entering directory '/home/wzhou/Codes/GitHub/SeisJIMU/Modules/Modeling'\n",
      "rm *.o\n",
      "\n",
      "rm ../../mod/m_model.mod ../../mod/m_shotlist_batching.mod ../../mod/m_shot.mod ../../mod/m_computebox.mod ../../mod/m_field.mod ../../mod/m_correlate.mod ../../mod/m_cpml.mod ../../mod/m_propagator_DAS_FDSG_O4.mod ../../mod/m_Modeling.mod ../../mod/m_shotlist.mod ../../mod/m_cpml.mod ../../mod/m_propagator.mod ../../mod/m_modeling.mod ../../mod/m_propagator_WPI.mod\n",
      "rm: cannot remove '../../mod/m_shotlist_batching.mod': No such file or directory\n",
      "rm: cannot remove '../../mod/m_propagator_DAS_FDSG_O4.mod': No such file or directory\n",
      "rm: cannot remove '../../mod/m_Modeling.mod': No such file or directory\n",
      "rm: cannot remove '../../mod/m_cpml.mod': No such file or directory\n",
      "rm: cannot remove '../../mod/m_propagator_WPI.mod': No such file or directory\n",
      "make[1]: [Makefile:24: clean] Error 1 (ignored)\n",
      "\n",
      "make[1]: Leaving directory '/home/wzhou/Codes/GitHub/SeisJIMU/Modules/Modeling'\n",
      "#\n",
      "make clean\n",
      "make[1]: Entering directory '/home/wzhou/Codes/GitHub/SeisJIMU/Demo/03_AdjointTest'\n",
      "rm main.o\n",
      "make[1]: Leaving directory '/home/wzhou/Codes/GitHub/SeisJIMU/Demo/03_AdjointTest'\n",
      "#System\n",
      "(cd ../../Modules/System; make)\n",
      "make[1]: Entering directory '/home/wzhou/Codes/GitHub/SeisJIMU/Modules/System'\n",
      "mpif90 -cpp -Dgfortran -D\"git_commit='1ba1ff3'\" -D\"git_branch='DAS_FS'\" -Ofast -fopenmp -ffree-line-length-none -fbacktrace  -fno-unsafe-math-optimizations -frounding-math -fsignaling-nans -J ../../mod/ -c m_either.f90 -o m_either.o\n",
      "\n",
      "mpif90 -cpp -Dgfortran -D\"git_commit='1ba1ff3'\" -D\"git_branch='DAS_FS'\" -Ofast -fopenmp -ffree-line-length-none -fbacktrace  -fno-unsafe-math-optimizations -frounding-math -fsignaling-nans -J ../../mod/ -c m_string.f90 -o m_string.o\n",
      "\n",
      "mpif90 -cpp -Dgfortran -D\"git_commit='1ba1ff3'\" -D\"git_branch='DAS_FS'\" -Ofast -fopenmp -ffree-line-length-none -fbacktrace  -fno-unsafe-math-optimizations -frounding-math -fsignaling-nans -J ../../mod/ -c m_mpienv.f90 -o m_mpienv.o\n",
      "\n",
      "mpif90 -cpp -Dgfortran -D\"git_commit='1ba1ff3'\" -D\"git_branch='DAS_FS'\" -Ofast -fopenmp -ffree-line-length-none -fbacktrace  -fno-unsafe-math-optimizations -frounding-math -fsignaling-nans -J ../../mod/ -c m_message.f90 -o m_message.o\n",
      "\n",
      "mpif90 -cpp -Dgfortran -D\"git_commit='1ba1ff3'\" -D\"git_branch='DAS_FS'\" -Ofast -fopenmp -ffree-line-length-none -fbacktrace  -fno-unsafe-math-optimizations -frounding-math -fsignaling-nans -J ../../mod/ -c m_arrayop.f90 -o m_arrayop.o\n",
      "\n",
      "mpif90 -cpp -Dgfortran -D\"git_commit='1ba1ff3'\" -D\"git_branch='DAS_FS'\" -Ofast -fopenmp -ffree-line-length-none -fbacktrace  -fno-unsafe-math-optimizations -frounding-math -fsignaling-nans -J ../../mod/ -c m_setup.f90 -o m_setup.o\n",
      "\n",
      "mpif90 -cpp -Dgfortran -D\"git_commit='1ba1ff3'\" -D\"git_branch='DAS_FS'\" -Ofast -fopenmp -ffree-line-length-none -fbacktrace  -fno-unsafe-math-optimizations -frounding-math -fsignaling-nans -J ../../mod/ -c m_sysio.f90 -o m_sysio.o\n",
      "\n",
      "mpif90 -cpp -Dgfortran -D\"git_commit='1ba1ff3'\" -D\"git_branch='DAS_FS'\" -Ofast -fopenmp -ffree-line-length-none -fbacktrace  -fno-unsafe-math-optimizations -frounding-math -fsignaling-nans -J ../../mod/ -c m_checkpoint.f90 -o m_checkpoint.o\n",
      "\n",
      "mpif90 -cpp -Dgfortran -D\"git_commit='1ba1ff3'\" -D\"git_branch='DAS_FS'\" -Ofast -fopenmp -ffree-line-length-none -fbacktrace  -fno-unsafe-math-optimizations -frounding-math -fsignaling-nans -J ../../mod/ -c m_suformat.f90 -o m_suformat.o\n",
      "\n",
      "mpif90 -cpp -Dgfortran -D\"git_commit='1ba1ff3'\" -D\"git_branch='DAS_FS'\" -Ofast -fopenmp -ffree-line-length-none -fbacktrace  -fno-unsafe-math-optimizations -frounding-math -fsignaling-nans -J ../../mod/ -c m_System.f90 -o m_System.o\n",
      "\n",
      "\n",
      "make[1]: Leaving directory '/home/wzhou/Codes/GitHub/SeisJIMU/Modules/System'\n",
      "#Etc\n",
      "(cd ../../Modules/Etc; make)\n",
      "make[1]: Entering directory '/home/wzhou/Codes/GitHub/SeisJIMU/Modules/Etc'\n",
      "mpif77        -Ofast -fopenmp                         -fbacktrace          -c sgtsv.f -o sgtsv.o\n",
      "\n",
      "mpif90 -cpp -Dgfortran -D\"git_commit='1ba1ff3'\" -D\"git_branch='DAS_FS'\" -Ofast -fopenmp -ffree-line-length-none -fbacktrace  -fno-unsafe-math-optimizations -frounding-math -fsignaling-nans -J ../../mod/ -c m_math.f90 -o m_math.o\n",
      "\n",
      "mpif90 -cpp -Dgfortran -D\"git_commit='1ba1ff3'\" -D\"git_branch='DAS_FS'\" -Ofast -fopenmp -ffree-line-length-none -fbacktrace  -fno-unsafe-math-optimizations -frounding-math -fsignaling-nans -J ../../mod/ -c singleton.f90 -o singleton.o\n",
      "\n",
      "\n",
      "make[1]: Leaving directory '/home/wzhou/Codes/GitHub/SeisJIMU/Modules/Etc'\n",
      "#Signal\n",
      "(cd ../../Modules/Signal; make)\n",
      "make[1]: Entering directory '/home/wzhou/Codes/GitHub/SeisJIMU/Modules/Signal'\n",
      "mpif90 -cpp -Dgfortran -D\"git_commit='1ba1ff3'\" -D\"git_branch='DAS_FS'\" -Ofast -fopenmp -ffree-line-length-none -fbacktrace  -fno-unsafe-math-optimizations -frounding-math -fsignaling-nans -J ../../mod/ -c m_hicks.f90 -o m_hicks.o\n",
      "\n",
      "mpif90 -cpp -Dgfortran -D\"git_commit='1ba1ff3'\" -D\"git_branch='DAS_FS'\" -Ofast -fopenmp -ffree-line-length-none -fbacktrace  -fno-unsafe-math-optimizations -frounding-math -fsignaling-nans -J ../../mod/ -c m_butterworth.f90 -o m_butterworth.o\n",
      "\n",
      "mpif90 -cpp -Dgfortran -D\"git_commit='1ba1ff3'\" -D\"git_branch='DAS_FS'\" -Ofast -fopenmp -ffree-line-length-none -fbacktrace  -fno-unsafe-math-optimizations -frounding-math -fsignaling-nans -J ../../mod/ -c m_resampler.f90 -o m_resampler.o\n",
      "\n",
      "mpif90 -cpp -Dgfortran -D\"git_commit='1ba1ff3'\" -D\"git_branch='DAS_FS'\" -Ofast -fopenmp -ffree-line-length-none -fbacktrace  -fno-unsafe-math-optimizations -frounding-math -fsignaling-nans -J ../../mod/ -c m_wavelet.f90 -o m_wavelet.o\n",
      "\n",
      "mpif90 -cpp -Dgfortran -D\"git_commit='1ba1ff3'\" -D\"git_branch='DAS_FS'\" -Ofast -fopenmp -ffree-line-length-none -fbacktrace  -fno-unsafe-math-optimizations -frounding-math -fsignaling-nans -J ../../mod/ -c m_matchfilter.f90 -o m_matchfilter.o\n",
      "\n",
      "mpif90 -cpp -Dgfortran -D\"git_commit='1ba1ff3'\" -D\"git_branch='DAS_FS'\" -Ofast -fopenmp -ffree-line-length-none -fbacktrace  -fno-unsafe-math-optimizations -frounding-math -fsignaling-nans -J ../../mod/ -c m_Hilbert.f90 -o m_Hilbert.o\n",
      "\n",
      "mpif90 -cpp -Dgfortran -D\"git_commit='1ba1ff3'\" -D\"git_branch='DAS_FS'\" -Ofast -fopenmp -ffree-line-length-none -fbacktrace  -fno-unsafe-math-optimizations -frounding-math -fsignaling-nans -J ../../mod/ -c m_Lpnorm.f90 -o m_Lpnorm.o\n"
     ]
    },
    {
     "name": "stdout",
     "output_type": "stream",
     "text": [
      "\n",
      "mpif90 -cpp -Dgfortran -D\"git_commit='1ba1ff3'\" -D\"git_branch='DAS_FS'\" -Ofast -fopenmp -ffree-line-length-none -fbacktrace  -fno-unsafe-math-optimizations -frounding-math -fsignaling-nans -J ../../mod/ -c m_pseudotime.f90 -o m_pseudotime.o\n",
      "\n",
      "mpif90 -cpp -Dgfortran -D\"git_commit='1ba1ff3'\" -D\"git_branch='DAS_FS'\" -Ofast -fopenmp -ffree-line-length-none -fbacktrace  -fno-unsafe-math-optimizations -frounding-math -fsignaling-nans -J ../../mod/ -c m_smoother_Laplacian_sparse.f90 -o m_smoother_Laplacian_sparse.o\n",
      "\n",
      "\n",
      "make[1]: Leaving directory '/home/wzhou/Codes/GitHub/SeisJIMU/Modules/Signal'\n",
      "#Modeling\n",
      "(cd ../../Modules/Modeling; make)\n",
      "make[1]: Entering directory '/home/wzhou/Codes/GitHub/SeisJIMU/Modules/Modeling'\n",
      "mpif90 -cpp -Dgfortran -D\"git_commit='1ba1ff3'\" -D\"git_branch='DAS_FS'\" -Ofast -fopenmp -ffree-line-length-none -fbacktrace  -fno-unsafe-math-optimizations -frounding-math -fsignaling-nans -J ../../mod/ -c m_model.f90 -o m_model.o\n",
      "\n",
      "mpif90 -cpp -Dgfortran -D\"git_commit='1ba1ff3'\" -D\"git_branch='DAS_FS'\" -Ofast -fopenmp -ffree-line-length-none -fbacktrace  -fno-unsafe-math-optimizations -frounding-math -fsignaling-nans -J ../../mod/ -c m_shotlist_batching.f90 -o m_shotlist_batching.o\n",
      "\n",
      "mpif90 -cpp -Dgfortran -D\"git_commit='1ba1ff3'\" -D\"git_branch='DAS_FS'\" -Ofast -fopenmp -ffree-line-length-none -fbacktrace  -fno-unsafe-math-optimizations -frounding-math -fsignaling-nans -J ../../mod/ -c m_shot.f90 -o m_shot.o\n",
      "\n",
      "mpif90 -cpp -Dgfortran -D\"git_commit='1ba1ff3'\" -D\"git_branch='DAS_FS'\" -Ofast -fopenmp -ffree-line-length-none -fbacktrace  -fno-unsafe-math-optimizations -frounding-math -fsignaling-nans -J ../../mod/ -c m_computebox.f90 -o m_computebox.o\n",
      "\n",
      "mpif90 -cpp -Dgfortran -D\"git_commit='1ba1ff3'\" -D\"git_branch='DAS_FS'\" -Ofast -fopenmp -ffree-line-length-none -fbacktrace  -fno-unsafe-math-optimizations -frounding-math -fsignaling-nans -J ../../mod/ -c m_field.f90 -o m_field.o\n",
      "\n",
      "mpif90 -cpp -Dgfortran -D\"git_commit='1ba1ff3'\" -D\"git_branch='DAS_FS'\" -Ofast -fopenmp -ffree-line-length-none -fbacktrace  -fno-unsafe-math-optimizations -frounding-math -fsignaling-nans -J ../../mod/ -c m_correlate.f90 -o m_correlate.o\n",
      "\n",
      "mpif90 -cpp -Dgfortran -D\"git_commit='1ba1ff3'\" -D\"git_branch='DAS_FS'\" -Ofast -fopenmp -ffree-line-length-none -fbacktrace  -fno-unsafe-math-optimizations -frounding-math -fsignaling-nans -J ../../mod/ -c m_cpml.f90 -o m_cpml.o\n",
      "\n",
      "mpif90 -cpp -Dgfortran -D\"git_commit='1ba1ff3'\" -D\"git_branch='DAS_FS'\" -Ofast -fopenmp -ffree-line-length-none -fbacktrace  -fno-unsafe-math-optimizations -frounding-math -fsignaling-nans -J ../../mod/ -c m_propagator_DAS_FDSG_O4.f90 -o m_propagator_DAS_FDSG_O4.o\n",
      "\n",
      "mpif90 -cpp -Dgfortran -D\"git_commit='1ba1ff3'\" -D\"git_branch='DAS_FS'\" -Ofast -fopenmp -ffree-line-length-none -fbacktrace  -fno-unsafe-math-optimizations -frounding-math -fsignaling-nans -J ../../mod/ -c m_Modeling.f90 -o m_Modeling.o\n",
      "\n",
      "\n",
      "make[1]: Leaving directory '/home/wzhou/Codes/GitHub/SeisJIMU/Modules/Modeling'\n",
      "mpif90 -cpp -Dgfortran -D\"git_commit='1ba1ff3'\" -D\"git_branch='DAS_FS'\" -Ofast -fopenmp -ffree-line-length-none -fbacktrace  -fno-unsafe-math-optimizations -frounding-math -fsignaling-nans -J ../../mod/ -c main.f90 -o main.o\n",
      "\n",
      "mpif90 -Ofast -fopenmp -ffree-line-length-none -fbacktrace  -fno-unsafe-math-optimizations -frounding-math -fsignaling-nans -J ../../mod/ ../../Modules/System/*.o ../../Modules/Etc/*.o ../../Modules/Signal/*.o ../../Modules/Modeling/m_model.o ../../Modules/Modeling/m_shotlist_batching.o ../../Modules/Modeling/m_shot.o ../../Modules/Modeling/m_computebox.o ../../Modules/Modeling/m_field.o ../../Modules/Modeling/m_correlate.o ../../Modules/Modeling/m_cpml.o ../../Modules/Modeling/m_propagator_DAS_FDSG_O4.o ../../Modules/Modeling/m_Modeling.o main.o -o ../../exe/adjointtest_DAS_FDSG_O4\n",
      "\u001b[01m\u001b[K../../Modules/Modeling/m_correlate.f90:117:140:\u001b[m\u001b[K \u001b[01;35m\u001b[Kwarning: \u001b[m\u001b[Ktype of ‘\u001b[01m\u001b[Kmpi_reduce\u001b[m\u001b[K’ does not match original declaration [\u001b[01;35m\u001b[K\u001b]8;;https://gcc.gnu.org/onlinedocs/gcc/Warning-Options.html#index-Wlto-type-mismatch\u0007-Wlto-type-mismatch\u001b]8;;\u0007\u001b[m\u001b[K]\n",
      "  117 | gkpa,  m%n, mpi_real, mpi_sum, 0, mpiworld%communicator, mpiworld%ierr)\n",
      "      |                                                                       \u001b[01;35m\u001b[K^\u001b[m\u001b[K\n",
      "\n",
      "\u001b[01m\u001b[K../../Modules/System/m_mpienv.f90:140:90:\u001b[m\u001b[K \u001b[01;36m\u001b[Knote: \u001b[m\u001b[K‘\u001b[01m\u001b[Kmpi_reduce\u001b[m\u001b[K’ was previously declared here\n",
      "  140 | duce(array, tmp, n, mpi_real, mpi_sum, 0, self%communicator, self%ierr)\n",
      "      |                                                                       \u001b[01;36m\u001b[K^\u001b[m\u001b[K\n",
      "\n",
      "\u001b[01m\u001b[K../../Modules/System/m_mpienv.f90:140:90:\u001b[m\u001b[K \u001b[01;36m\u001b[Knote: \u001b[m\u001b[Kcode may be misoptimized unless ‘\u001b[01m\u001b[K-fno-strict-aliasing\u001b[m\u001b[K’ is used\n",
      "(cd ../../exe; ln -sf adjointtest_DAS_FDSG_O4 AdjointTest )\n"
     ]
    }
   ],
   "source": [
    "!cd ../../; sed -i 's/WaveEq=PSV/WaveEq=DAS/' modules.inc\n",
    "#!make\n",
    "!make cleanall; make"
   ]
  },
  {
   "cell_type": "markdown",
   "id": "276bd903",
   "metadata": {},
   "source": [
    "### pz-pz"
   ]
  },
  {
   "cell_type": "code",
   "execution_count": 5,
   "id": "1a847392",
   "metadata": {},
   "outputs": [
    {
     "name": "stdout",
     "output_type": "stream",
     "text": [
      " LHS = <  v|Lu> =    1.8886715850966897E-004\r\n",
      " RHS = <Lᴴv| u> =    1.8886715956132046E-004\r\n",
      " relative difference =    5.5682072964102514E-007  %\r\n",
      " ===================================\r\n",
      "   SeisJIMU has finished the job   \r\n",
      "===================================\r\n",
      " System date: 04/16/2024\r\n",
      "System time: 16:39:48\r\n",
      "System timezone: +03:00\r\n",
      "                        \r\n"
     ]
    }
   ],
   "source": [
    "!cp setup_default setup\n",
    "!echo 'SCOMP pz' >> setup\n",
    "!echo 'RCOMP pz' >> setup\n",
    "!echo  \"FS '0 500 500'\" >> setup\n",
    "!echo  \"FR '0 10 0' \" >> setup\n",
    "!../../exe/AdjointTest  setup > out\n",
    "\n",
    "!tail -10 out"
   ]
  },
  {
   "cell_type": "markdown",
   "id": "329c76e1",
   "metadata": {},
   "source": [
    "### px-px"
   ]
  },
  {
   "cell_type": "code",
   "execution_count": 6,
   "id": "1fa4e155",
   "metadata": {},
   "outputs": [
    {
     "name": "stdout",
     "output_type": "stream",
     "text": [
      " LHS = <  v|Lu> =    6.4819808284562175E-004\r\n",
      " RHS = <Lᴴv| u> =    6.4819796924990103E-004\r\n",
      " relative difference =    1.7524846760087317E-005  %\r\n",
      " ===================================\r\n",
      "   SeisJIMU has finished the job   \r\n",
      "===================================\r\n",
      " System date: 04/16/2024\r\n",
      "System time: 16:39:56\r\n",
      "System timezone: +03:00\r\n",
      "                        \r\n"
     ]
    }
   ],
   "source": [
    "!cp setup_default setup\n",
    "!echo 'SCOMP px' >> setup\n",
    "!echo 'RCOMP px' >> setup\n",
    "!echo  \"FS '0 500 500'\" >> setup\n",
    "!echo  \"FR '0 10 0' \" >> setup\n",
    "!../../exe/AdjointTest  setup > out\n",
    "\n",
    "!tail -10 out"
   ]
  },
  {
   "cell_type": "markdown",
   "id": "3244548e",
   "metadata": {},
   "source": [
    "### pz-px"
   ]
  },
  {
   "cell_type": "code",
   "execution_count": 25,
   "id": "547ca2e9",
   "metadata": {},
   "outputs": [
    {
     "name": "stdout",
     "output_type": "stream",
     "text": [
      " LHS = <  v|Lu> =    2.2425763380544593E-004\r\n",
      " RHS = <Lᴴv| u> =    2.2311209652903490E-004\r\n",
      " relative difference =   0.51081305771951335       %\r\n",
      " ===================================\r\n",
      "   SeisJIMU has finished the job   \r\n",
      "===================================\r\n",
      " System date: 04/16/2024\r\n",
      "System time: 16:55:25\r\n",
      "System timezone: +03:00\r\n",
      "                        \r\n"
     ]
    }
   ],
   "source": [
    "!cp setup_default setup\n",
    "!echo 'SCOMP pz' >> setup\n",
    "!echo 'RCOMP px' >> setup\n",
    "!echo  \"FS '0 500 500'\" >> setup\n",
    "!echo  \"FR '0 10 0' \" >> setup\n",
    "!../../exe/AdjointTest  setup > out\n",
    "\n",
    "!tail -10 out"
   ]
  },
  {
   "cell_type": "markdown",
   "id": "3fc9480e",
   "metadata": {},
   "source": [
    "successful multiplying px source by 2"
   ]
  },
  {
   "cell_type": "markdown",
   "id": "2b3dbb70",
   "metadata": {},
   "source": [
    "### px-pz"
   ]
  },
  {
   "cell_type": "code",
   "execution_count": 8,
   "id": "4d05b00a",
   "metadata": {},
   "outputs": [
    {
     "name": "stdout",
     "output_type": "stream",
     "text": [
      " LHS = <  v|Lu> =    2.2197250830932269E-004\r\n",
      " RHS = <Lᴴv| u> =    2.2311202312855281E-004\r\n",
      " relative difference =   0.51073662604617120       %\r\n",
      " ===================================\r\n",
      "   SeisJIMU has finished the job   \r\n",
      "===================================\r\n",
      " System date: 04/16/2024\r\n",
      "System time: 16:40:16\r\n",
      "System timezone: +03:00\r\n",
      "                        \r\n"
     ]
    }
   ],
   "source": [
    "!cp setup_default setup\n",
    "!echo 'SCOMP px' >> setup\n",
    "!echo 'RCOMP pz' >> setup\n",
    "!echo  \"FS '0 500 500'\" >> setup\n",
    "!echo  \"FR '0 10 0' \" >> setup\n",
    "!../../exe/AdjointTest  setup > out\n",
    "\n",
    "!tail -10 out"
   ]
  },
  {
   "cell_type": "markdown",
   "id": "78cc6d4e",
   "metadata": {},
   "source": [
    "successful multiplying px source by 2"
   ]
  },
  {
   "cell_type": "markdown",
   "id": "9a669342",
   "metadata": {},
   "source": [
    "### ez-ez"
   ]
  },
  {
   "cell_type": "code",
   "execution_count": 9,
   "id": "0255ce0f",
   "metadata": {},
   "outputs": [
    {
     "name": "stdout",
     "output_type": "stream",
     "text": [
      " LHS = <  v|Lu> =    0.0000000000000000     \r\n",
      " RHS = <Lᴴv| u> =    0.0000000000000000     \r\n",
      " relative difference =                        NaN  %\r\n",
      " ===================================\r\n",
      "   SeisJIMU has finished the job   \r\n",
      "===================================\r\n",
      " System date: 04/16/2024\r\n",
      "System time: 16:40:24\r\n",
      "System timezone: +03:00\r\n",
      "                        \r\n"
     ]
    }
   ],
   "source": [
    "!cp setup_default setup\n",
    "!echo 'SCOMP ez' >> setup\n",
    "!echo 'RCOMP ez' >> setup\n",
    "!echo  \"FS '0 500 500'\" >> setup\n",
    "!echo  \"FR '0 10 0' \" >> setup\n",
    "!../../exe/AdjointTest  setup > out\n",
    "\n",
    "!tail -10 out"
   ]
  },
  {
   "cell_type": "markdown",
   "id": "05c17ff8",
   "metadata": {},
   "source": [
    "### ex-ex"
   ]
  },
  {
   "cell_type": "code",
   "execution_count": 22,
   "id": "e623d8d0",
   "metadata": {},
   "outputs": [
    {
     "name": "stdout",
     "output_type": "stream",
     "text": [
      " LHS = <  v|Lu> =    4.3564825501053683E-027\r\n",
      " RHS = <Lᴴv| u> =    4.3551391472529489E-027\r\n",
      " relative difference =    3.0836869813397859E-002  %\r\n",
      " ===================================\r\n",
      "   SeisJIMU has finished the job   \r\n",
      "===================================\r\n",
      " System date: 04/16/2024\r\n",
      "System time: 16:44:49\r\n",
      "System timezone: +03:00\r\n",
      "                        \r\n"
     ]
    }
   ],
   "source": [
    "!cp setup_default setup\n",
    "!echo 'SCOMP ex' >> setup\n",
    "!echo 'RCOMP ex'  >> setup\n",
    "!echo  \"FS '0 500 500'\" >> setup\n",
    "!echo  \"FR '0 10 0' \" >> setup\n",
    "!../../exe/AdjointTest  setup > out\n",
    "\n",
    "!tail -10 out"
   ]
  },
  {
   "cell_type": "markdown",
   "id": "11cbcfb5",
   "metadata": {},
   "source": [
    "### ez-ex"
   ]
  },
  {
   "cell_type": "code",
   "execution_count": 11,
   "id": "7ed4ae55",
   "metadata": {},
   "outputs": [
    {
     "name": "stdout",
     "output_type": "stream",
     "text": [
      " LHS = <  v|Lu> =    0.0000000000000000     \r\n",
      " RHS = <Lᴴv| u> =    0.0000000000000000     \r\n",
      " relative difference =                        NaN  %\r\n",
      " ===================================\r\n",
      "   SeisJIMU has finished the job   \r\n",
      "===================================\r\n",
      " System date: 04/16/2024\r\n",
      "System time: 16:40:42\r\n",
      "System timezone: +03:00\r\n",
      "                        \r\n"
     ]
    }
   ],
   "source": [
    "!cp setup_default setup\n",
    "!echo 'SCOMP ez' >> setup\n",
    "!echo 'RCOMP ex' >> setup\n",
    "!echo  \"FS '0 500 500'\" >> setup\n",
    "!echo  \"FR '0 10 0' \" >> setup\n",
    "!../../exe/AdjointTest  setup > out\n",
    "\n",
    "!tail -10 out"
   ]
  },
  {
   "cell_type": "markdown",
   "id": "19ab8052",
   "metadata": {},
   "source": [
    " not so successful when close to free surface"
   ]
  },
  {
   "cell_type": "markdown",
   "id": "454b8bce",
   "metadata": {},
   "source": [
    "### pz-ez"
   ]
  },
  {
   "cell_type": "code",
   "execution_count": 12,
   "id": "9003726a",
   "metadata": {},
   "outputs": [
    {
     "name": "stdout",
     "output_type": "stream",
     "text": [
      " LHS = <  v|Lu> =    8.5792767192726565E-017\r\n",
      " RHS = <Lᴴv| u> =    0.0000000000000000     \r\n",
      " relative difference =    100.00000000000000       %\r\n",
      " ===================================\r\n",
      "   SeisJIMU has finished the job   \r\n",
      "===================================\r\n",
      " System date: 04/16/2024\r\n",
      "System time: 16:40:51\r\n",
      "System timezone: +03:00\r\n",
      "                        \r\n"
     ]
    }
   ],
   "source": [
    "!cp setup_default setup\n",
    "!echo 'SCOMP pz' >> setup\n",
    "!echo 'RCOMP ez' >> setup\n",
    "!echo  \"FS '0 500 500'\" >> setup\n",
    "!echo  \"FR '0 10 0' \" >> setup\n",
    "!../../exe/AdjointTest  setup > out\n",
    "\n",
    "!tail -10 out"
   ]
  },
  {
   "cell_type": "markdown",
   "id": "50890dc7",
   "metadata": {},
   "source": [
    "### px-ez"
   ]
  },
  {
   "cell_type": "code",
   "execution_count": 13,
   "id": "632941b3",
   "metadata": {},
   "outputs": [
    {
     "name": "stdout",
     "output_type": "stream",
     "text": [
      " LHS = <  v|Lu> =    1.9303648297601713E-016\r\n",
      " RHS = <Lᴴv| u> =    0.0000000000000000     \r\n",
      " relative difference =    100.00000000000000       %\r\n",
      " ===================================\r\n",
      "   SeisJIMU has finished the job   \r\n",
      "===================================\r\n",
      " System date: 04/16/2024\r\n",
      "System time: 16:41:14\r\n",
      "System timezone: +03:00\r\n",
      "                        \r\n"
     ]
    }
   ],
   "source": [
    "!cp setup_default setup\n",
    "!echo 'SCOMP px' >> setup\n",
    "!echo 'RCOMP ez' >> setup\n",
    "!echo  \"FS '0 500 500'\" >> setup\n",
    "!echo  \"FR '0 10 0' \" >> setup\n",
    "!../../exe/AdjointTest  setup > out\n",
    "\n",
    "!tail -10 out"
   ]
  },
  {
   "cell_type": "markdown",
   "id": "081e510c",
   "metadata": {},
   "source": [
    "### pz-ex"
   ]
  },
  {
   "cell_type": "code",
   "execution_count": 21,
   "id": "a5ee90b8",
   "metadata": {},
   "outputs": [
    {
     "name": "stdout",
     "output_type": "stream",
     "text": [
      " LHS = <  v|Lu> =    7.7213500311116641E-016\r\n",
      " RHS = <Lᴴv| u> =    7.6818351505086156E-016\r\n",
      " relative difference =   0.51176129101557433       %\r\n",
      " ===================================\r\n",
      "   SeisJIMU has finished the job   \r\n",
      "===================================\r\n",
      " System date: 04/16/2024\r\n",
      "System time: 16:44:31\r\n",
      "System timezone: +03:00\r\n",
      "                        \r\n"
     ]
    }
   ],
   "source": [
    "!cp setup_default setup\n",
    "!echo 'SCOMP pz' >> setup\n",
    "!echo 'RCOMP ex' >> setup\n",
    "!echo  \"FS '0 500 500'\" >> setup\n",
    "!echo  \"FR '0 10 0' \" >> setup\n",
    "!../../exe/AdjointTest  setup > out\n",
    "\n",
    "!tail -10 out"
   ]
  },
  {
   "cell_type": "markdown",
   "id": "558f64c9",
   "metadata": {},
   "source": [
    "successful multiplying ex source by 2"
   ]
  },
  {
   "cell_type": "markdown",
   "id": "5ee7316a",
   "metadata": {},
   "source": [
    "### px-ex"
   ]
  },
  {
   "cell_type": "code",
   "execution_count": 20,
   "id": "d9372f7b",
   "metadata": {},
   "outputs": [
    {
     "name": "stdout",
     "output_type": "stream",
     "text": [
      " LHS = <  v|Lu> =    1.7373285655994195E-015\r\n",
      " RHS = <Lᴴv| u> =    1.7373286902566545E-015\r\n",
      " relative difference =    7.1752245664797102E-006  %\r\n",
      " ===================================\r\n",
      "   SeisJIMU has finished the job   \r\n",
      "===================================\r\n",
      " System date: 04/16/2024\r\n",
      "System time: 16:44:18\r\n",
      "System timezone: +03:00\r\n",
      "                        \r\n"
     ]
    }
   ],
   "source": [
    "!cp setup_default setup\n",
    "!echo 'SCOMP px' >> setup\n",
    "!echo 'RCOMP ex' >> setup\n",
    "!echo  \"FS '0 500 500'\" >> setup\n",
    "!echo  \"FR '0 10 0' \" >> setup\n",
    "!../../exe/AdjointTest  setup > out\n",
    "\n",
    "!tail -10 out"
   ]
  },
  {
   "cell_type": "markdown",
   "id": "d7dadb00",
   "metadata": {},
   "source": [
    "successful multiplying ex source by 2"
   ]
  },
  {
   "cell_type": "markdown",
   "id": "da0d5223",
   "metadata": {},
   "source": [
    "### ez-es"
   ]
  },
  {
   "cell_type": "code",
   "execution_count": 16,
   "id": "315457e0",
   "metadata": {},
   "outputs": [
    {
     "name": "stdout",
     "output_type": "stream",
     "text": [
      " LHS = <  v|Lu> =    1.6979347120888234E-028\r\n",
      " RHS = <Lᴴv| u> =    1.6979352548556239E-028\r\n",
      " relative difference =    3.1966283693098166E-005  %\r\n",
      " ===================================\r\n",
      "   SeisJIMU has finished the job   \r\n",
      "===================================\r\n",
      " System date: 04/16/2024\r\n",
      "System time: 16:42:08\r\n",
      "System timezone: +03:00\r\n",
      "                        \r\n"
     ]
    }
   ],
   "source": [
    "!cp setup_default setup\n",
    "!echo 'SCOMP es'  >> setup\n",
    "!echo 'RCOMP es' >> setup\n",
    "!echo  \"FS '0 500 500'\" >> setup\n",
    "!echo  \"FR '0 10 0' \" >> setup\n",
    "!../../exe/AdjointTest  setup > out\n",
    "\n",
    "!tail -10 out"
   ]
  },
  {
   "cell_type": "markdown",
   "id": "245a1379",
   "metadata": {},
   "source": [
    "### ex-es"
   ]
  },
  {
   "cell_type": "code",
   "execution_count": 19,
   "id": "384bd90a",
   "metadata": {},
   "outputs": [
    {
     "name": "stdout",
     "output_type": "stream",
     "text": [
      " LHS = <  v|Lu> =    9.5779949725044634E-028\r\n",
      " RHS = <Lᴴv| u> =    9.6253699428173017E-028\r\n",
      " relative difference =   0.49218856619833856       %\r\n",
      " ===================================\r\n",
      "   SeisJIMU has finished the job   \r\n",
      "===================================\r\n",
      " System date: 04/16/2024\r\n",
      "System time: 16:43:30\r\n",
      "System timezone: +03:00\r\n",
      "                        \r\n"
     ]
    }
   ],
   "source": [
    "!cp setup_default setup\n",
    "!echo 'SCOMP ex'  >> setup\n",
    "!echo 'RCOMP es' >> setup\n",
    "!echo  \"FS '0 500 500'\" >> setup\n",
    "!echo  \"FR '0 10 0' \" >> setup\n",
    "!../../exe/AdjointTest  setup > out\n",
    "\n",
    "!tail -10 out"
   ]
  },
  {
   "cell_type": "markdown",
   "id": "43659148",
   "metadata": {},
   "source": [
    "successful multiplying ex source by 2"
   ]
  },
  {
   "cell_type": "markdown",
   "id": "8684ad52",
   "metadata": {},
   "source": [
    "## Close to Free Surface w/ Hicks symm folding\n",
    "\n",
    "FS                      '2 500 500'\n",
    "\n",
    "FR                      '2 10  0'"
   ]
  },
  {
   "cell_type": "code",
   "execution_count": 38,
   "id": "7d627df1",
   "metadata": {
    "scrolled": true
   },
   "outputs": [
    {
     "name": "stdout",
     "output_type": "stream",
     "text": [
      "#System\n",
      "(cd ../../Modules/System; make clean)\n",
      "make[1]: Entering directory '/home/wzhou/Codes/GitHub/SeisJIMU/Modules/System'\n",
      "rm m_either.o m_string.o m_mpienv.o m_message.o m_arrayop.o m_setup.o m_sysio.o m_checkpoint.o m_suformat.o m_System.o\n",
      "\n",
      "rm ../../mod/m_either.mod ../../mod/m_string.mod ../../mod/m_mpienv.mod ../../mod/m_message.mod ../../mod/m_arrayop.mod ../../mod/m_setup.mod ../../mod/m_sysio.mod ../../mod/m_checkpoint.mod ../../mod/m_suformat.mod ../../mod/m_System.mod ../../mod/m_system.mod\n",
      "rm: cannot remove '../../mod/m_System.mod': No such file or directory\n",
      "make[1]: [Makefile:25: clean] Error 1 (ignored)\n",
      "\n",
      "make[1]: Leaving directory '/home/wzhou/Codes/GitHub/SeisJIMU/Modules/System'\n",
      "#Etc\n",
      "(cd ../../Modules/Etc; make clean)\n",
      "make[1]: Entering directory '/home/wzhou/Codes/GitHub/SeisJIMU/Modules/Etc'\n",
      "rm sgtsv.o m_math.o singleton.o\n",
      "\n",
      "rm ../../mod/m_math.mod ../../mod/singleton.mod\n",
      "\n",
      "make[1]: Leaving directory '/home/wzhou/Codes/GitHub/SeisJIMU/Modules/Etc'\n",
      "#Signal\n",
      "(cd ../../Modules/Signal; make clean)\n",
      "make[1]: Entering directory '/home/wzhou/Codes/GitHub/SeisJIMU/Modules/Signal'\n",
      "rm m_hicks.o m_butterworth.o m_resampler.o m_wavelet.o m_matchfilter.o m_Hilbert.o m_Lpnorm.o m_pseudotime.o m_smoother_Laplacian_sparse.o\n",
      "\n",
      "rm ../../mod/m_hicks.mod ../../mod/m_butterworth.mod ../../mod/m_resampler.mod ../../mod/m_wavelet.mod ../../mod/m_matchfilter.mod ../../mod/m_Hilbert.mod ../../mod/m_Lpnorm.mod ../../mod/m_pseudotime.mod ../../mod/m_smoother_Laplacian_sparse.mod  ../../mod/m_lpnorm.mod ../../mod/m_smoother_laplacian_sparse.mod\n",
      "rm: cannot remove '../../mod/m_Hilbert.mod': No such file or directory\n",
      "rm: cannot remove '../../mod/m_Lpnorm.mod': No such file or directory\n",
      "rm: cannot remove '../../mod/m_smoother_Laplacian_sparse.mod': No such file or directory\n",
      "make[1]: [Makefile:24: clean] Error 1 (ignored)\n",
      "\n",
      "make[1]: Leaving directory '/home/wzhou/Codes/GitHub/SeisJIMU/Modules/Signal'\n",
      "#Modeling\n",
      "(cd ../../Modules/Modeling; make clean)\n",
      "make[1]: Entering directory '/home/wzhou/Codes/GitHub/SeisJIMU/Modules/Modeling'\n",
      "rm *.o\n",
      "\n",
      "rm ../../mod/m_model.mod ../../mod/m_shotlist_batching.mod ../../mod/m_shot.mod ../../mod/m_computebox.mod ../../mod/m_field.mod ../../mod/m_correlate.mod ../../mod/m_cpml.mod ../../mod/m_propagator_DAS_FDSG_O4.mod ../../mod/m_Modeling.mod ../../mod/m_shotlist.mod ../../mod/m_cpml.mod ../../mod/m_propagator.mod ../../mod/m_modeling.mod ../../mod/m_propagator_WPI.mod\n",
      "rm: cannot remove '../../mod/m_shotlist_batching.mod': No such file or directory\n",
      "rm: cannot remove '../../mod/m_propagator_DAS_FDSG_O4.mod': No such file or directory\n",
      "rm: cannot remove '../../mod/m_Modeling.mod': No such file or directory\n",
      "rm: cannot remove '../../mod/m_cpml.mod': No such file or directory\n",
      "rm: cannot remove '../../mod/m_propagator_WPI.mod': No such file or directory\n",
      "make[1]: [Makefile:24: clean] Error 1 (ignored)\n",
      "\n",
      "make[1]: Leaving directory '/home/wzhou/Codes/GitHub/SeisJIMU/Modules/Modeling'\n",
      "#\n",
      "make clean\n",
      "make[1]: Entering directory '/home/wzhou/Codes/GitHub/SeisJIMU/Demo/03_AdjointTest'\n",
      "rm main.o\n",
      "make[1]: Leaving directory '/home/wzhou/Codes/GitHub/SeisJIMU/Demo/03_AdjointTest'\n",
      "#System\n",
      "(cd ../../Modules/System; make)\n",
      "make[1]: Entering directory '/home/wzhou/Codes/GitHub/SeisJIMU/Modules/System'\n",
      "mpif90 -cpp -Dgfortran -D\"git_commit='c925b17'\" -D\"git_branch='DAS_FS'\" -Ofast -fopenmp -ffree-line-length-none -fbacktrace  -fno-unsafe-math-optimizations -frounding-math -fsignaling-nans -J ../../mod/ -c m_either.f90 -o m_either.o\n",
      "\n",
      "mpif90 -cpp -Dgfortran -D\"git_commit='c925b17'\" -D\"git_branch='DAS_FS'\" -Ofast -fopenmp -ffree-line-length-none -fbacktrace  -fno-unsafe-math-optimizations -frounding-math -fsignaling-nans -J ../../mod/ -c m_string.f90 -o m_string.o\n",
      "\n",
      "mpif90 -cpp -Dgfortran -D\"git_commit='c925b17'\" -D\"git_branch='DAS_FS'\" -Ofast -fopenmp -ffree-line-length-none -fbacktrace  -fno-unsafe-math-optimizations -frounding-math -fsignaling-nans -J ../../mod/ -c m_mpienv.f90 -o m_mpienv.o\n",
      "\n",
      "mpif90 -cpp -Dgfortran -D\"git_commit='c925b17'\" -D\"git_branch='DAS_FS'\" -Ofast -fopenmp -ffree-line-length-none -fbacktrace  -fno-unsafe-math-optimizations -frounding-math -fsignaling-nans -J ../../mod/ -c m_message.f90 -o m_message.o\n",
      "\n",
      "mpif90 -cpp -Dgfortran -D\"git_commit='c925b17'\" -D\"git_branch='DAS_FS'\" -Ofast -fopenmp -ffree-line-length-none -fbacktrace  -fno-unsafe-math-optimizations -frounding-math -fsignaling-nans -J ../../mod/ -c m_arrayop.f90 -o m_arrayop.o\n",
      "\n",
      "mpif90 -cpp -Dgfortran -D\"git_commit='c925b17'\" -D\"git_branch='DAS_FS'\" -Ofast -fopenmp -ffree-line-length-none -fbacktrace  -fno-unsafe-math-optimizations -frounding-math -fsignaling-nans -J ../../mod/ -c m_setup.f90 -o m_setup.o\n",
      "\n",
      "mpif90 -cpp -Dgfortran -D\"git_commit='c925b17'\" -D\"git_branch='DAS_FS'\" -Ofast -fopenmp -ffree-line-length-none -fbacktrace  -fno-unsafe-math-optimizations -frounding-math -fsignaling-nans -J ../../mod/ -c m_sysio.f90 -o m_sysio.o\n",
      "\n",
      "mpif90 -cpp -Dgfortran -D\"git_commit='c925b17'\" -D\"git_branch='DAS_FS'\" -Ofast -fopenmp -ffree-line-length-none -fbacktrace  -fno-unsafe-math-optimizations -frounding-math -fsignaling-nans -J ../../mod/ -c m_checkpoint.f90 -o m_checkpoint.o\n",
      "\n",
      "mpif90 -cpp -Dgfortran -D\"git_commit='c925b17'\" -D\"git_branch='DAS_FS'\" -Ofast -fopenmp -ffree-line-length-none -fbacktrace  -fno-unsafe-math-optimizations -frounding-math -fsignaling-nans -J ../../mod/ -c m_suformat.f90 -o m_suformat.o\n",
      "\n",
      "mpif90 -cpp -Dgfortran -D\"git_commit='c925b17'\" -D\"git_branch='DAS_FS'\" -Ofast -fopenmp -ffree-line-length-none -fbacktrace  -fno-unsafe-math-optimizations -frounding-math -fsignaling-nans -J ../../mod/ -c m_System.f90 -o m_System.o\n",
      "\n",
      "\n",
      "make[1]: Leaving directory '/home/wzhou/Codes/GitHub/SeisJIMU/Modules/System'\n",
      "#Etc\n",
      "(cd ../../Modules/Etc; make)\n",
      "make[1]: Entering directory '/home/wzhou/Codes/GitHub/SeisJIMU/Modules/Etc'\n",
      "mpif77        -Ofast -fopenmp                         -fbacktrace          -c sgtsv.f -o sgtsv.o\n",
      "\n",
      "mpif90 -cpp -Dgfortran -D\"git_commit='c925b17'\" -D\"git_branch='DAS_FS'\" -Ofast -fopenmp -ffree-line-length-none -fbacktrace  -fno-unsafe-math-optimizations -frounding-math -fsignaling-nans -J ../../mod/ -c m_math.f90 -o m_math.o\n",
      "\n",
      "mpif90 -cpp -Dgfortran -D\"git_commit='c925b17'\" -D\"git_branch='DAS_FS'\" -Ofast -fopenmp -ffree-line-length-none -fbacktrace  -fno-unsafe-math-optimizations -frounding-math -fsignaling-nans -J ../../mod/ -c singleton.f90 -o singleton.o\n",
      "\n",
      "\n",
      "make[1]: Leaving directory '/home/wzhou/Codes/GitHub/SeisJIMU/Modules/Etc'\n",
      "#Signal\n",
      "(cd ../../Modules/Signal; make)\n",
      "make[1]: Entering directory '/home/wzhou/Codes/GitHub/SeisJIMU/Modules/Signal'\n",
      "mpif90 -cpp -Dgfortran -D\"git_commit='c925b17'\" -D\"git_branch='DAS_FS'\" -Ofast -fopenmp -ffree-line-length-none -fbacktrace  -fno-unsafe-math-optimizations -frounding-math -fsignaling-nans -J ../../mod/ -c m_hicks.f90 -o m_hicks.o\n",
      "\n",
      "mpif90 -cpp -Dgfortran -D\"git_commit='c925b17'\" -D\"git_branch='DAS_FS'\" -Ofast -fopenmp -ffree-line-length-none -fbacktrace  -fno-unsafe-math-optimizations -frounding-math -fsignaling-nans -J ../../mod/ -c m_butterworth.f90 -o m_butterworth.o\n",
      "\n",
      "mpif90 -cpp -Dgfortran -D\"git_commit='c925b17'\" -D\"git_branch='DAS_FS'\" -Ofast -fopenmp -ffree-line-length-none -fbacktrace  -fno-unsafe-math-optimizations -frounding-math -fsignaling-nans -J ../../mod/ -c m_resampler.f90 -o m_resampler.o\n",
      "\n",
      "mpif90 -cpp -Dgfortran -D\"git_commit='c925b17'\" -D\"git_branch='DAS_FS'\" -Ofast -fopenmp -ffree-line-length-none -fbacktrace  -fno-unsafe-math-optimizations -frounding-math -fsignaling-nans -J ../../mod/ -c m_wavelet.f90 -o m_wavelet.o\n",
      "\n",
      "mpif90 -cpp -Dgfortran -D\"git_commit='c925b17'\" -D\"git_branch='DAS_FS'\" -Ofast -fopenmp -ffree-line-length-none -fbacktrace  -fno-unsafe-math-optimizations -frounding-math -fsignaling-nans -J ../../mod/ -c m_matchfilter.f90 -o m_matchfilter.o\n",
      "\n",
      "mpif90 -cpp -Dgfortran -D\"git_commit='c925b17'\" -D\"git_branch='DAS_FS'\" -Ofast -fopenmp -ffree-line-length-none -fbacktrace  -fno-unsafe-math-optimizations -frounding-math -fsignaling-nans -J ../../mod/ -c m_Hilbert.f90 -o m_Hilbert.o\n",
      "\n",
      "mpif90 -cpp -Dgfortran -D\"git_commit='c925b17'\" -D\"git_branch='DAS_FS'\" -Ofast -fopenmp -ffree-line-length-none -fbacktrace  -fno-unsafe-math-optimizations -frounding-math -fsignaling-nans -J ../../mod/ -c m_Lpnorm.f90 -o m_Lpnorm.o\n"
     ]
    },
    {
     "name": "stdout",
     "output_type": "stream",
     "text": [
      "\n",
      "mpif90 -cpp -Dgfortran -D\"git_commit='c925b17'\" -D\"git_branch='DAS_FS'\" -Ofast -fopenmp -ffree-line-length-none -fbacktrace  -fno-unsafe-math-optimizations -frounding-math -fsignaling-nans -J ../../mod/ -c m_pseudotime.f90 -o m_pseudotime.o\n",
      "\n",
      "mpif90 -cpp -Dgfortran -D\"git_commit='c925b17'\" -D\"git_branch='DAS_FS'\" -Ofast -fopenmp -ffree-line-length-none -fbacktrace  -fno-unsafe-math-optimizations -frounding-math -fsignaling-nans -J ../../mod/ -c m_smoother_Laplacian_sparse.f90 -o m_smoother_Laplacian_sparse.o\n",
      "\n",
      "\n",
      "make[1]: Leaving directory '/home/wzhou/Codes/GitHub/SeisJIMU/Modules/Signal'\n",
      "#Modeling\n",
      "(cd ../../Modules/Modeling; make)\n",
      "make[1]: Entering directory '/home/wzhou/Codes/GitHub/SeisJIMU/Modules/Modeling'\n",
      "mpif90 -cpp -Dgfortran -D\"git_commit='c925b17'\" -D\"git_branch='DAS_FS'\" -Ofast -fopenmp -ffree-line-length-none -fbacktrace  -fno-unsafe-math-optimizations -frounding-math -fsignaling-nans -J ../../mod/ -c m_model.f90 -o m_model.o\n",
      "\n",
      "mpif90 -cpp -Dgfortran -D\"git_commit='c925b17'\" -D\"git_branch='DAS_FS'\" -Ofast -fopenmp -ffree-line-length-none -fbacktrace  -fno-unsafe-math-optimizations -frounding-math -fsignaling-nans -J ../../mod/ -c m_shotlist_batching.f90 -o m_shotlist_batching.o\n",
      "\n",
      "mpif90 -cpp -Dgfortran -D\"git_commit='c925b17'\" -D\"git_branch='DAS_FS'\" -Ofast -fopenmp -ffree-line-length-none -fbacktrace  -fno-unsafe-math-optimizations -frounding-math -fsignaling-nans -J ../../mod/ -c m_shot.f90 -o m_shot.o\n",
      "\n",
      "mpif90 -cpp -Dgfortran -D\"git_commit='c925b17'\" -D\"git_branch='DAS_FS'\" -Ofast -fopenmp -ffree-line-length-none -fbacktrace  -fno-unsafe-math-optimizations -frounding-math -fsignaling-nans -J ../../mod/ -c m_computebox.f90 -o m_computebox.o\n",
      "\n",
      "mpif90 -cpp -Dgfortran -D\"git_commit='c925b17'\" -D\"git_branch='DAS_FS'\" -Ofast -fopenmp -ffree-line-length-none -fbacktrace  -fno-unsafe-math-optimizations -frounding-math -fsignaling-nans -J ../../mod/ -c m_field.f90 -o m_field.o\n",
      "\n",
      "mpif90 -cpp -Dgfortran -D\"git_commit='c925b17'\" -D\"git_branch='DAS_FS'\" -Ofast -fopenmp -ffree-line-length-none -fbacktrace  -fno-unsafe-math-optimizations -frounding-math -fsignaling-nans -J ../../mod/ -c m_correlate.f90 -o m_correlate.o\n",
      "\n",
      "mpif90 -cpp -Dgfortran -D\"git_commit='c925b17'\" -D\"git_branch='DAS_FS'\" -Ofast -fopenmp -ffree-line-length-none -fbacktrace  -fno-unsafe-math-optimizations -frounding-math -fsignaling-nans -J ../../mod/ -c m_cpml.f90 -o m_cpml.o\n",
      "\n",
      "mpif90 -cpp -Dgfortran -D\"git_commit='c925b17'\" -D\"git_branch='DAS_FS'\" -Ofast -fopenmp -ffree-line-length-none -fbacktrace  -fno-unsafe-math-optimizations -frounding-math -fsignaling-nans -J ../../mod/ -c m_propagator_DAS_FDSG_O4.f90 -o m_propagator_DAS_FDSG_O4.o\n",
      "\n",
      "mpif90 -cpp -Dgfortran -D\"git_commit='c925b17'\" -D\"git_branch='DAS_FS'\" -Ofast -fopenmp -ffree-line-length-none -fbacktrace  -fno-unsafe-math-optimizations -frounding-math -fsignaling-nans -J ../../mod/ -c m_Modeling.f90 -o m_Modeling.o\n",
      "\n",
      "\n",
      "make[1]: Leaving directory '/home/wzhou/Codes/GitHub/SeisJIMU/Modules/Modeling'\n",
      "mpif90 -cpp -Dgfortran -D\"git_commit='c925b17'\" -D\"git_branch='DAS_FS'\" -Ofast -fopenmp -ffree-line-length-none -fbacktrace  -fno-unsafe-math-optimizations -frounding-math -fsignaling-nans -J ../../mod/ -c main.f90 -o main.o\n",
      "\n",
      "mpif90 -Ofast -fopenmp -ffree-line-length-none -fbacktrace  -fno-unsafe-math-optimizations -frounding-math -fsignaling-nans -J ../../mod/ ../../Modules/System/*.o ../../Modules/Etc/*.o ../../Modules/Signal/*.o ../../Modules/Modeling/m_model.o ../../Modules/Modeling/m_shotlist_batching.o ../../Modules/Modeling/m_shot.o ../../Modules/Modeling/m_computebox.o ../../Modules/Modeling/m_field.o ../../Modules/Modeling/m_correlate.o ../../Modules/Modeling/m_cpml.o ../../Modules/Modeling/m_propagator_DAS_FDSG_O4.o ../../Modules/Modeling/m_Modeling.o main.o -o ../../exe/adjointtest_DAS_FDSG_O4\n",
      "\u001b[01m\u001b[K../../Modules/Modeling/m_correlate.f90:117:140:\u001b[m\u001b[K \u001b[01;35m\u001b[Kwarning: \u001b[m\u001b[Ktype of ‘\u001b[01m\u001b[Kmpi_reduce\u001b[m\u001b[K’ does not match original declaration [\u001b[01;35m\u001b[K\u001b]8;;https://gcc.gnu.org/onlinedocs/gcc/Warning-Options.html#index-Wlto-type-mismatch\u0007-Wlto-type-mismatch\u001b]8;;\u0007\u001b[m\u001b[K]\n",
      "  117 | gkpa,  m%n, mpi_real, mpi_sum, 0, mpiworld%communicator, mpiworld%ierr)\n",
      "      |                                                                       \u001b[01;35m\u001b[K^\u001b[m\u001b[K\n",
      "\n",
      "\u001b[01m\u001b[K../../Modules/System/m_mpienv.f90:140:90:\u001b[m\u001b[K \u001b[01;36m\u001b[Knote: \u001b[m\u001b[K‘\u001b[01m\u001b[Kmpi_reduce\u001b[m\u001b[K’ was previously declared here\n",
      "  140 | duce(array, tmp, n, mpi_real, mpi_sum, 0, self%communicator, self%ierr)\n",
      "      |                                                                       \u001b[01;36m\u001b[K^\u001b[m\u001b[K\n",
      "\n",
      "\u001b[01m\u001b[K../../Modules/System/m_mpienv.f90:140:90:\u001b[m\u001b[K \u001b[01;36m\u001b[Knote: \u001b[m\u001b[Kcode may be misoptimized unless ‘\u001b[01m\u001b[K-fno-strict-aliasing\u001b[m\u001b[K’ is used\n",
      "(cd ../../exe; ln -sf adjointtest_DAS_FDSG_O4 AdjointTest )\n"
     ]
    }
   ],
   "source": [
    "!cd ../../; sed -i 's/WaveEq=PSV/WaveEq=DAS/' modules.inc\n",
    "#!make\n",
    "!make cleanall; make"
   ]
  },
  {
   "cell_type": "markdown",
   "id": "36ceb3b3",
   "metadata": {},
   "source": [
    "### pz-pz"
   ]
  },
  {
   "cell_type": "code",
   "execution_count": 22,
   "id": "3a6a2491",
   "metadata": {},
   "outputs": [
    {
     "name": "stdout",
     "output_type": "stream",
     "text": [
      " LHS = <  v|Lu> =    8.8081993179295629E-004\r\n",
      " RHS = <Lᴴv| u> =    8.8082005921073087E-004\r\n",
      " relative difference =    1.4465812085130076E-005  %\r\n",
      " ===================================\r\n",
      "   SeisJIMU has finished the job   \r\n",
      "===================================\r\n",
      " System date: 03/31/2024\r\n",
      "System time: 15:30:58\r\n",
      "System timezone: +03:00\r\n",
      "                        \r\n"
     ]
    }
   ],
   "source": [
    "!cp setup_default setup\n",
    "!echo 'SCOMP pz' >> setup\n",
    "!echo 'RCOMP pz' >> setup\n",
    "!../../exe/AdjointTest  setup > out\n",
    "\n",
    "!tail -10 out"
   ]
  },
  {
   "cell_type": "markdown",
   "id": "d4e7e4b7",
   "metadata": {},
   "source": [
    "### px-px"
   ]
  },
  {
   "cell_type": "code",
   "execution_count": 23,
   "id": "e0e45af7",
   "metadata": {},
   "outputs": [
    {
     "name": "stdout",
     "output_type": "stream",
     "text": [
      " LHS = <  v|Lu> =    8.9603764282847245E-004\r\n",
      " RHS = <Lᴴv| u> =    8.9603741790266508E-004\r\n",
      " relative difference =    2.5102272115835532E-005  %\r\n",
      " ===================================\r\n",
      "   SeisJIMU has finished the job   \r\n",
      "===================================\r\n",
      " System date: 03/31/2024\r\n",
      "System time: 15:31:04\r\n",
      "System timezone: +03:00\r\n",
      "                        \r\n"
     ]
    }
   ],
   "source": [
    "!cp setup_default setup\n",
    "!echo 'SCOMP px' >> setup\n",
    "!echo 'RCOMP px' >> setup\n",
    "!../../exe/AdjointTest  setup > out\n",
    "\n",
    "!tail -10 out"
   ]
  },
  {
   "cell_type": "markdown",
   "id": "cd6f790f",
   "metadata": {},
   "source": [
    "### pz-px"
   ]
  },
  {
   "cell_type": "code",
   "execution_count": 24,
   "id": "64e79650",
   "metadata": {},
   "outputs": [
    {
     "name": "stdout",
     "output_type": "stream",
     "text": [
      " LHS = <  v|Lu> =    4.4707216076537488E-004\r\n",
      " RHS = <Lᴴv| u> =    4.6215427407121206E-004\r\n",
      " relative difference =    3.2634369413000868       %\r\n",
      " ===================================\r\n",
      "   SeisJIMU has finished the job   \r\n",
      "===================================\r\n",
      " System date: 03/31/2024\r\n",
      "System time: 15:31:09\r\n",
      "System timezone: +03:00\r\n",
      "                        \r\n"
     ]
    }
   ],
   "source": [
    "!cp setup_default setup\n",
    "!echo 'SCOMP pz' >> setup\n",
    "!echo 'RCOMP px' >> setup\n",
    "!../../exe/AdjointTest  setup > out\n",
    "\n",
    "!tail -10 out"
   ]
  },
  {
   "cell_type": "markdown",
   "id": "e4ac9ba0",
   "metadata": {},
   "source": [
    "successful multiplying vx source by 2 when close to free surface"
   ]
  },
  {
   "cell_type": "markdown",
   "id": "4862855d",
   "metadata": {},
   "source": [
    "### px-pz"
   ]
  },
  {
   "cell_type": "code",
   "execution_count": 25,
   "id": "f6e91284",
   "metadata": {},
   "outputs": [
    {
     "name": "stdout",
     "output_type": "stream",
     "text": [
      " LHS = <  v|Lu> =    4.7831672386027099E-004\r\n",
      " RHS = <Lᴴv| u> =    4.6215447189401859E-004\r\n",
      " relative difference =    3.3789853375425407       %\r\n",
      " ===================================\r\n",
      "   SeisJIMU has finished the job   \r\n",
      "===================================\r\n",
      " System date: 03/31/2024\r\n",
      "System time: 15:31:13\r\n",
      "System timezone: +03:00\r\n",
      "                        \r\n"
     ]
    }
   ],
   "source": [
    "!cp setup_default setup\n",
    "!echo 'SCOMP px' >> setup\n",
    "!echo 'RCOMP pz' >> setup\n",
    "!../../exe/AdjointTest  setup > out\n",
    "\n",
    "!tail -10 out"
   ]
  },
  {
   "cell_type": "markdown",
   "id": "b53437c6",
   "metadata": {},
   "source": [
    "### ez-ez"
   ]
  },
  {
   "cell_type": "code",
   "execution_count": 39,
   "id": "44c3351b",
   "metadata": {},
   "outputs": [
    {
     "name": "stdout",
     "output_type": "stream",
     "text": [
      " LHS = <  v|Lu> =    2.0183825764909836E-031\r\n",
      " RHS = <Lᴴv| u> =    1.2591830748251830E-031\r\n",
      " relative difference =    37.614251654197837       %\r\n",
      " ===================================\r\n",
      "   SeisJIMU has finished the job   \r\n",
      "===================================\r\n",
      " System date: 03/31/2024\r\n",
      "System time: 15:34:35\r\n",
      "System timezone: +03:00\r\n",
      "                        \r\n"
     ]
    }
   ],
   "source": [
    "!cp setup_default setup\n",
    "!echo 'SCOMP ez' >> setup\n",
    "!echo 'RCOMP ez' >> setup\n",
    "!../../exe/AdjointTest  setup > out\n",
    "\n",
    "!tail -10 out"
   ]
  },
  {
   "cell_type": "markdown",
   "id": "69d9018d",
   "metadata": {},
   "source": [
    "### ex-ex"
   ]
  },
  {
   "cell_type": "code",
   "execution_count": 40,
   "id": "adb59fb7",
   "metadata": {},
   "outputs": [
    {
     "name": "stdout",
     "output_type": "stream",
     "text": [
      " LHS = <  v|Lu> =    3.4165947190467898E-030\r\n",
      " RHS = <Lᴴv| u> =    1.5322192343262915E-030\r\n",
      " relative difference =    55.153614627321915       %\r\n",
      " ===================================\r\n",
      "   SeisJIMU has finished the job   \r\n",
      "===================================\r\n",
      " System date: 03/31/2024\r\n",
      "System time: 15:34:40\r\n",
      "System timezone: +03:00\r\n",
      "                        \r\n"
     ]
    }
   ],
   "source": [
    "!cp setup_default setup\n",
    "!echo 'SCOMP ex' >> setup\n",
    "!echo 'RCOMP ex'  >> setup\n",
    "!../../exe/AdjointTest  setup > out\n",
    "\n",
    "!tail -10 out"
   ]
  },
  {
   "cell_type": "markdown",
   "id": "4f418f67",
   "metadata": {},
   "source": [
    "### ez-ex"
   ]
  },
  {
   "cell_type": "code",
   "execution_count": 41,
   "id": "8b40b609",
   "metadata": {},
   "outputs": [
    {
     "name": "stdout",
     "output_type": "stream",
     "text": [
      " LHS = <  v|Lu> =    7.6874849209172992E-031\r\n",
      " RHS = <Lᴴv| u> =    8.0918526160201910E-032\r\n",
      " relative difference =    89.473992210374789       %\r\n",
      " ===================================\r\n",
      "   SeisJIMU has finished the job   \r\n",
      "===================================\r\n",
      " System date: 03/31/2024\r\n",
      "System time: 15:34:45\r\n",
      "System timezone: +03:00\r\n",
      "                        \r\n"
     ]
    }
   ],
   "source": [
    "!cp setup_default setup\n",
    "!echo 'SCOMP ez' >> setup\n",
    "!echo 'RCOMP ex' >> setup\n",
    "!../../exe/AdjointTest  setup > out\n",
    "\n",
    "!tail -10 out"
   ]
  },
  {
   "cell_type": "markdown",
   "id": "5a4a080d",
   "metadata": {},
   "source": [
    " not so successful when close to free surface"
   ]
  },
  {
   "cell_type": "markdown",
   "id": "36e39ee0",
   "metadata": {},
   "source": [
    "### pz-ez"
   ]
  },
  {
   "cell_type": "code",
   "execution_count": 42,
   "id": "44199098",
   "metadata": {},
   "outputs": [
    {
     "name": "stdout",
     "output_type": "stream",
     "text": [
      " LHS = <  v|Lu> =    1.2091801058102605E-016\r\n",
      " RHS = <Lᴴv| u> =   -3.6047539223158750E-018\r\n",
      " relative difference =    102.98115549949473       %\r\n",
      " ===================================\r\n",
      "   SeisJIMU has finished the job   \r\n",
      "===================================\r\n",
      " System date: 03/31/2024\r\n",
      "System time: 15:34:50\r\n",
      "System timezone: +03:00\r\n",
      "                        \r\n"
     ]
    }
   ],
   "source": [
    "!cp setup_default setup\n",
    "!echo 'SCOMP pz' >> setup\n",
    "!echo 'RCOMP ez' >> setup\n",
    "!../../exe/AdjointTest  setup > out\n",
    "\n",
    "!tail -10 out"
   ]
  },
  {
   "cell_type": "markdown",
   "id": "a2041480",
   "metadata": {},
   "source": [
    "### px-ez"
   ]
  },
  {
   "cell_type": "code",
   "execution_count": 43,
   "id": "26543188",
   "metadata": {},
   "outputs": [
    {
     "name": "stdout",
     "output_type": "stream",
     "text": [
      " LHS = <  v|Lu> =    1.6970237282716995E-016\r\n",
      " RHS = <Lᴴv| u> =    1.1882322193819007E-018\r\n",
      " relative difference =    99.299814021697827       %\r\n",
      " ===================================\r\n",
      "   SeisJIMU has finished the job   \r\n",
      "===================================\r\n",
      " System date: 03/31/2024\r\n",
      "System time: 15:34:55\r\n",
      "System timezone: +03:00\r\n",
      "                        \r\n"
     ]
    }
   ],
   "source": [
    "!cp setup_default setup\n",
    "!echo 'SCOMP px' >> setup\n",
    "!echo 'RCOMP ez' >> setup\n",
    "!../../exe/AdjointTest  setup > out\n",
    "\n",
    "!tail -10 out"
   ]
  },
  {
   "cell_type": "markdown",
   "id": "6cb6ef2a",
   "metadata": {},
   "source": [
    "### pz-ex"
   ]
  },
  {
   "cell_type": "code",
   "execution_count": 44,
   "id": "b92a9dc3",
   "metadata": {},
   "outputs": [
    {
     "name": "stdout",
     "output_type": "stream",
     "text": [
      " LHS = <  v|Lu> =    1.5147544705178562E-015\r\n",
      " RHS = <Lᴴv| u> =    2.8017725290599200E-017\r\n",
      " relative difference =    98.150345429842460       %\r\n",
      " ===================================\r\n",
      "   SeisJIMU has finished the job   \r\n",
      "===================================\r\n",
      " System date: 03/31/2024\r\n",
      "System time: 15:35:00\r\n",
      "System timezone: +03:00\r\n",
      "                        \r\n"
     ]
    }
   ],
   "source": [
    "!cp setup_default setup\n",
    "!echo 'SCOMP pz' >> setup\n",
    "!echo 'RCOMP ex' >> setup\n",
    "!../../exe/AdjointTest  setup > out\n",
    "\n",
    "!tail -10 out"
   ]
  },
  {
   "cell_type": "markdown",
   "id": "4c8ded6c",
   "metadata": {},
   "source": [
    "### px-ex"
   ]
  },
  {
   "cell_type": "code",
   "execution_count": 45,
   "id": "52a8c73d",
   "metadata": {},
   "outputs": [
    {
     "name": "stdout",
     "output_type": "stream",
     "text": [
      " LHS = <  v|Lu> =    1.8390010916849090E-015\r\n",
      " RHS = <Lᴴv| u> =    5.8017477549538125E-017\r\n",
      " relative difference =    96.845163506869795       %\r\n",
      " ===================================\r\n",
      "   SeisJIMU has finished the job   \r\n",
      "===================================\r\n",
      " System date: 03/31/2024\r\n",
      "System time: 15:35:04\r\n",
      "System timezone: +03:00\r\n",
      "                        \r\n"
     ]
    }
   ],
   "source": [
    "!cp setup_default setup\n",
    "!echo 'SCOMP px' >> setup\n",
    "!echo 'RCOMP ex' >> setup\n",
    "!../../exe/AdjointTest  setup > out\n",
    "\n",
    "!tail -10 out"
   ]
  },
  {
   "cell_type": "markdown",
   "id": "59cc7a5f",
   "metadata": {},
   "source": [
    "### ez-es"
   ]
  },
  {
   "cell_type": "code",
   "execution_count": 46,
   "id": "9e7ee3cb",
   "metadata": {},
   "outputs": [
    {
     "name": "stdout",
     "output_type": "stream",
     "text": [
      " LHS = <  v|Lu> =    5.8379835208620848E-028\r\n",
      " RHS = <Lᴴv| u> =    5.8379864991174054E-028\r\n",
      " relative difference =    5.1015111477412654E-005  %\r\n",
      " ===================================\r\n",
      "   SeisJIMU has finished the job   \r\n",
      "===================================\r\n",
      " System date: 03/31/2024\r\n",
      "System time: 15:35:10\r\n",
      "System timezone: +03:00\r\n",
      "                        \r\n"
     ]
    }
   ],
   "source": [
    "!cp setup_default setup\n",
    "!echo 'SCOMP es'  >> setup\n",
    "!echo 'RCOMP es' >> setup\n",
    "!../../exe/AdjointTest  setup > out\n",
    "\n",
    "!tail -10 out"
   ]
  },
  {
   "cell_type": "markdown",
   "id": "bc5bfd45",
   "metadata": {},
   "source": [
    "### ex-es"
   ]
  },
  {
   "cell_type": "code",
   "execution_count": 47,
   "id": "667ee3bb",
   "metadata": {},
   "outputs": [
    {
     "name": "stdout",
     "output_type": "stream",
     "text": [
      " LHS = <  v|Lu> =    1.4503304627045737E-030\r\n",
      " RHS = <Lᴴv| u> =   -5.5414940721689648E-030\r\n",
      " relative difference =    482.08492579237401       %\r\n",
      " ===================================\r\n",
      "   SeisJIMU has finished the job   \r\n",
      "===================================\r\n",
      " System date: 03/31/2024\r\n",
      "System time: 15:35:16\r\n",
      "System timezone: +03:00\r\n",
      "                        \r\n"
     ]
    }
   ],
   "source": [
    "!cp setup_default setup\n",
    "!echo 'SCOMP ex'  >> setup\n",
    "!echo 'RCOMP es' >> setup\n",
    "!../../exe/AdjointTest  setup > out\n",
    "\n",
    "!tail -10 out"
   ]
  },
  {
   "cell_type": "code",
   "execution_count": null,
   "id": "f0592ef1",
   "metadata": {},
   "outputs": [],
   "source": []
  },
  {
   "cell_type": "markdown",
   "id": "15769fd4",
   "metadata": {},
   "source": [
    "## Close to Free Surface w/ Hicks Matrix implementation\n",
    "\n",
    "$$\\frac{1}{8}\\left(\\begin{matrix} -9 & -3 \\\\ 3 & 1 \\end{matrix}\\right)$$\n",
    "\n",
    "FS                      '2 500 500'\n",
    "\n",
    "FR                      '2 10  0'"
   ]
  },
  {
   "cell_type": "code",
   "execution_count": 21,
   "id": "9ed3a660",
   "metadata": {
    "scrolled": true
   },
   "outputs": [
    {
     "name": "stdout",
     "output_type": "stream",
     "text": [
      "#System\n",
      "(cd ../../Modules/System; make clean)\n",
      "make[1]: Entering directory '/home/wzhou/Codes/GitHub/SeisJIMU/Modules/System'\n",
      "rm m_either.o m_string.o m_mpienv.o m_message.o m_arrayop.o m_setup.o m_sysio.o m_checkpoint.o m_suformat.o m_System.o\n",
      "rm: cannot remove 'm_either.o': No such file or directory\n",
      "rm: cannot remove 'm_string.o': No such file or directory\n",
      "rm: cannot remove 'm_mpienv.o': No such file or directory\n",
      "rm: cannot remove 'm_message.o': No such file or directory\n",
      "rm: cannot remove 'm_arrayop.o': No such file or directory\n",
      "rm: cannot remove 'm_setup.o': No such file or directory\n",
      "rm: cannot remove 'm_sysio.o': No such file or directory\n",
      "rm: cannot remove 'm_checkpoint.o': No such file or directory\n",
      "rm: cannot remove 'm_suformat.o': No such file or directory\n",
      "rm: cannot remove 'm_System.o': No such file or directory\n",
      "make[1]: [Makefile:23: clean] Error 1 (ignored)\n",
      "\n",
      "rm ../../mod/m_either.mod ../../mod/m_string.mod ../../mod/m_mpienv.mod ../../mod/m_message.mod ../../mod/m_arrayop.mod ../../mod/m_setup.mod ../../mod/m_sysio.mod ../../mod/m_checkpoint.mod ../../mod/m_suformat.mod ../../mod/m_System.mod ../../mod/m_system.mod\n",
      "rm: cannot remove '../../mod/m_either.mod': No such file or directory\n",
      "rm: cannot remove '../../mod/m_string.mod': No such file or directory\n",
      "rm: cannot remove '../../mod/m_mpienv.mod': No such file or directory\n",
      "rm: cannot remove '../../mod/m_message.mod': No such file or directory\n",
      "rm: cannot remove '../../mod/m_arrayop.mod': No such file or directory\n",
      "rm: cannot remove '../../mod/m_setup.mod': No such file or directory\n",
      "rm: cannot remove '../../mod/m_sysio.mod': No such file or directory\n",
      "rm: cannot remove '../../mod/m_checkpoint.mod': No such file or directory\n",
      "rm: cannot remove '../../mod/m_suformat.mod': No such file or directory\n",
      "rm: cannot remove '../../mod/m_System.mod': No such file or directory\n",
      "rm: cannot remove '../../mod/m_system.mod': No such file or directory\n",
      "make[1]: [Makefile:25: clean] Error 1 (ignored)\n",
      "\n",
      "make[1]: Leaving directory '/home/wzhou/Codes/GitHub/SeisJIMU/Modules/System'\n",
      "#Etc\n",
      "(cd ../../Modules/Etc; make clean)\n",
      "make[1]: Entering directory '/home/wzhou/Codes/GitHub/SeisJIMU/Modules/Etc'\n",
      "rm sgtsv.o m_math.o singleton.o\n",
      "rm: cannot remove 'sgtsv.o': No such file or directory\n",
      "rm: cannot remove 'm_math.o': No such file or directory\n",
      "rm: cannot remove 'singleton.o': No such file or directory\n",
      "make[1]: [Makefile:18: clean] Error 1 (ignored)\n",
      "\n",
      "rm ../../mod/m_math.mod ../../mod/singleton.mod\n",
      "rm: cannot remove '../../mod/m_math.mod': No such file or directory\n",
      "rm: cannot remove '../../mod/singleton.mod': No such file or directory\n",
      "make[1]: [Makefile:20: clean] Error 1 (ignored)\n",
      "\n",
      "make[1]: Leaving directory '/home/wzhou/Codes/GitHub/SeisJIMU/Modules/Etc'\n",
      "#Signal\n",
      "(cd ../../Modules/Signal; make clean)\n",
      "make[1]: Entering directory '/home/wzhou/Codes/GitHub/SeisJIMU/Modules/Signal'\n",
      "rm m_hicks.o m_butterworth.o m_resampler.o m_wavelet.o m_matchfilter.o m_Hilbert.o m_Lpnorm.o m_pseudotime.o m_smoother_Laplacian_sparse.o\n",
      "rm: cannot remove 'm_hicks.o': No such file or directory\n",
      "rm: cannot remove 'm_butterworth.o': No such file or directory\n",
      "rm: cannot remove 'm_resampler.o': No such file or directory\n",
      "rm: cannot remove 'm_wavelet.o': No such file or directory\n",
      "rm: cannot remove 'm_matchfilter.o': No such file or directory\n",
      "rm: cannot remove 'm_Hilbert.o': No such file or directory\n",
      "rm: cannot remove 'm_Lpnorm.o': No such file or directory\n",
      "rm: cannot remove 'm_pseudotime.o': No such file or directory\n",
      "rm: cannot remove 'm_smoother_Laplacian_sparse.o': No such file or directory\n",
      "make[1]: [Makefile:22: clean] Error 1 (ignored)\n",
      "\n",
      "rm ../../mod/m_hicks.mod ../../mod/m_butterworth.mod ../../mod/m_resampler.mod ../../mod/m_wavelet.mod ../../mod/m_matchfilter.mod ../../mod/m_Hilbert.mod ../../mod/m_Lpnorm.mod ../../mod/m_pseudotime.mod ../../mod/m_smoother_Laplacian_sparse.mod  ../../mod/m_lpnorm.mod ../../mod/m_smoother_laplacian_sparse.mod\n",
      "rm: cannot remove '../../mod/m_hicks.mod': No such file or directory\n",
      "rm: cannot remove '../../mod/m_butterworth.mod': No such file or directory\n",
      "rm: cannot remove '../../mod/m_resampler.mod': No such file or directory\n",
      "rm: cannot remove '../../mod/m_wavelet.mod': No such file or directory\n",
      "rm: cannot remove '../../mod/m_matchfilter.mod': No such file or directory\n",
      "rm: cannot remove '../../mod/m_Hilbert.mod': No such file or directory\n",
      "rm: cannot remove '../../mod/m_Lpnorm.mod': No such file or directory\n",
      "rm: cannot remove '../../mod/m_pseudotime.mod': No such file or directory\n",
      "rm: cannot remove '../../mod/m_smoother_Laplacian_sparse.mod': No such file or directory\n",
      "rm: cannot remove '../../mod/m_lpnorm.mod': No such file or directory\n",
      "rm: cannot remove '../../mod/m_smoother_laplacian_sparse.mod': No such file or directory\n",
      "make[1]: [Makefile:24: clean] Error 1 (ignored)\n",
      "\n",
      "make[1]: Leaving directory '/home/wzhou/Codes/GitHub/SeisJIMU/Modules/Signal'\n",
      "#Modeling\n",
      "(cd ../../Modules/Modeling; make clean)\n",
      "make[1]: Entering directory '/home/wzhou/Codes/GitHub/SeisJIMU/Modules/Modeling'\n",
      "rm *.o\n",
      "rm: cannot remove '*.o': No such file or directory\n",
      "make[1]: [Makefile:22: clean] Error 1 (ignored)\n",
      "\n",
      "rm ../../mod/m_model.mod ../../mod/m_shotlist_batching.mod ../../mod/m_shot.mod ../../mod/m_computebox.mod ../../mod/m_field.mod ../../mod/m_correlate.mod ../../mod/m_cpml.mod ../../mod/m_propagator_DAS_FDSG_O4.mod ../../mod/m_Modeling.mod ../../mod/m_shotlist.mod ../../mod/m_cpml.mod ../../mod/m_propagator.mod ../../mod/m_modeling.mod ../../mod/m_propagator_WPI.mod\n",
      "rm: cannot remove '../../mod/m_model.mod': No such file or directory\n",
      "rm: cannot remove '../../mod/m_shotlist_batching.mod': No such file or directory\n",
      "rm: cannot remove '../../mod/m_shot.mod': No such file or directory\n",
      "rm: cannot remove '../../mod/m_computebox.mod': No such file or directory\n",
      "rm: cannot remove '../../mod/m_field.mod': No such file or directory\n",
      "rm: cannot remove '../../mod/m_correlate.mod': No such file or directory\n",
      "rm: cannot remove '../../mod/m_cpml.mod': No such file or directory\n",
      "rm: cannot remove '../../mod/m_propagator_DAS_FDSG_O4.mod': No such file or directory\n",
      "rm: cannot remove '../../mod/m_Modeling.mod': No such file or directory\n",
      "rm: cannot remove '../../mod/m_shotlist.mod': No such file or directory\n",
      "rm: cannot remove '../../mod/m_cpml.mod': No such file or directory\n",
      "rm: cannot remove '../../mod/m_propagator.mod': No such file or directory\n",
      "rm: cannot remove '../../mod/m_modeling.mod': No such file or directory\n",
      "rm: cannot remove '../../mod/m_propagator_WPI.mod': No such file or directory\n",
      "make[1]: [Makefile:24: clean] Error 1 (ignored)\n",
      "\n",
      "make[1]: Leaving directory '/home/wzhou/Codes/GitHub/SeisJIMU/Modules/Modeling'\n",
      "#\n",
      "make clean\n",
      "make[1]: Entering directory '/home/wzhou/Codes/GitHub/SeisJIMU/Demo/03_AdjointTest'\n",
      "rm main.o\n",
      "rm: cannot remove 'main.o': No such file or directory\n",
      "make[1]: [Makefile:38: clean] Error 1 (ignored)\n",
      "make[1]: Leaving directory '/home/wzhou/Codes/GitHub/SeisJIMU/Demo/03_AdjointTest'\n",
      "#System\n",
      "(cd ../../Modules/System; make)\n",
      "make[1]: Entering directory '/home/wzhou/Codes/GitHub/SeisJIMU/Modules/System'\n",
      "mpif90 -cpp -Dgfortran -D\"git_commit='c925b17'\" -D\"git_branch='DAS_FS'\" -Ofast -fopenmp -ffree-line-length-none -fbacktrace  -fno-unsafe-math-optimizations -frounding-math -fsignaling-nans -J ../../mod/ -c m_either.f90 -o m_either.o\n",
      "\n",
      "mpif90 -cpp -Dgfortran -D\"git_commit='c925b17'\" -D\"git_branch='DAS_FS'\" -Ofast -fopenmp -ffree-line-length-none -fbacktrace  -fno-unsafe-math-optimizations -frounding-math -fsignaling-nans -J ../../mod/ -c m_string.f90 -o m_string.o\n",
      "\n",
      "mpif90 -cpp -Dgfortran -D\"git_commit='c925b17'\" -D\"git_branch='DAS_FS'\" -Ofast -fopenmp -ffree-line-length-none -fbacktrace  -fno-unsafe-math-optimizations -frounding-math -fsignaling-nans -J ../../mod/ -c m_mpienv.f90 -o m_mpienv.o\n",
      "\n",
      "mpif90 -cpp -Dgfortran -D\"git_commit='c925b17'\" -D\"git_branch='DAS_FS'\" -Ofast -fopenmp -ffree-line-length-none -fbacktrace  -fno-unsafe-math-optimizations -frounding-math -fsignaling-nans -J ../../mod/ -c m_message.f90 -o m_message.o\n",
      "\n",
      "mpif90 -cpp -Dgfortran -D\"git_commit='c925b17'\" -D\"git_branch='DAS_FS'\" -Ofast -fopenmp -ffree-line-length-none -fbacktrace  -fno-unsafe-math-optimizations -frounding-math -fsignaling-nans -J ../../mod/ -c m_arrayop.f90 -o m_arrayop.o\n"
     ]
    },
    {
     "name": "stdout",
     "output_type": "stream",
     "text": [
      "\n",
      "mpif90 -cpp -Dgfortran -D\"git_commit='c925b17'\" -D\"git_branch='DAS_FS'\" -Ofast -fopenmp -ffree-line-length-none -fbacktrace  -fno-unsafe-math-optimizations -frounding-math -fsignaling-nans -J ../../mod/ -c m_setup.f90 -o m_setup.o\n",
      "\n",
      "mpif90 -cpp -Dgfortran -D\"git_commit='c925b17'\" -D\"git_branch='DAS_FS'\" -Ofast -fopenmp -ffree-line-length-none -fbacktrace  -fno-unsafe-math-optimizations -frounding-math -fsignaling-nans -J ../../mod/ -c m_sysio.f90 -o m_sysio.o\n",
      "\n",
      "mpif90 -cpp -Dgfortran -D\"git_commit='c925b17'\" -D\"git_branch='DAS_FS'\" -Ofast -fopenmp -ffree-line-length-none -fbacktrace  -fno-unsafe-math-optimizations -frounding-math -fsignaling-nans -J ../../mod/ -c m_checkpoint.f90 -o m_checkpoint.o\n",
      "\n",
      "mpif90 -cpp -Dgfortran -D\"git_commit='c925b17'\" -D\"git_branch='DAS_FS'\" -Ofast -fopenmp -ffree-line-length-none -fbacktrace  -fno-unsafe-math-optimizations -frounding-math -fsignaling-nans -J ../../mod/ -c m_suformat.f90 -o m_suformat.o\n",
      "\n",
      "mpif90 -cpp -Dgfortran -D\"git_commit='c925b17'\" -D\"git_branch='DAS_FS'\" -Ofast -fopenmp -ffree-line-length-none -fbacktrace  -fno-unsafe-math-optimizations -frounding-math -fsignaling-nans -J ../../mod/ -c m_System.f90 -o m_System.o\n",
      "\n",
      "\n",
      "make[1]: Leaving directory '/home/wzhou/Codes/GitHub/SeisJIMU/Modules/System'\n",
      "#Etc\n",
      "(cd ../../Modules/Etc; make)\n",
      "make[1]: Entering directory '/home/wzhou/Codes/GitHub/SeisJIMU/Modules/Etc'\n",
      "mpif77        -Ofast -fopenmp                         -fbacktrace          -c sgtsv.f -o sgtsv.o\n",
      "\n",
      "mpif90 -cpp -Dgfortran -D\"git_commit='c925b17'\" -D\"git_branch='DAS_FS'\" -Ofast -fopenmp -ffree-line-length-none -fbacktrace  -fno-unsafe-math-optimizations -frounding-math -fsignaling-nans -J ../../mod/ -c m_math.f90 -o m_math.o\n",
      "\n",
      "mpif90 -cpp -Dgfortran -D\"git_commit='c925b17'\" -D\"git_branch='DAS_FS'\" -Ofast -fopenmp -ffree-line-length-none -fbacktrace  -fno-unsafe-math-optimizations -frounding-math -fsignaling-nans -J ../../mod/ -c singleton.f90 -o singleton.o\n",
      "\n",
      "\n",
      "make[1]: Leaving directory '/home/wzhou/Codes/GitHub/SeisJIMU/Modules/Etc'\n",
      "#Signal\n",
      "(cd ../../Modules/Signal; make)\n",
      "make[1]: Entering directory '/home/wzhou/Codes/GitHub/SeisJIMU/Modules/Signal'\n",
      "mpif90 -cpp -Dgfortran -D\"git_commit='c925b17'\" -D\"git_branch='DAS_FS'\" -Ofast -fopenmp -ffree-line-length-none -fbacktrace  -fno-unsafe-math-optimizations -frounding-math -fsignaling-nans -J ../../mod/ -c m_hicks.f90 -o m_hicks.o\n",
      "\n",
      "mpif90 -cpp -Dgfortran -D\"git_commit='c925b17'\" -D\"git_branch='DAS_FS'\" -Ofast -fopenmp -ffree-line-length-none -fbacktrace  -fno-unsafe-math-optimizations -frounding-math -fsignaling-nans -J ../../mod/ -c m_butterworth.f90 -o m_butterworth.o\n",
      "\n",
      "mpif90 -cpp -Dgfortran -D\"git_commit='c925b17'\" -D\"git_branch='DAS_FS'\" -Ofast -fopenmp -ffree-line-length-none -fbacktrace  -fno-unsafe-math-optimizations -frounding-math -fsignaling-nans -J ../../mod/ -c m_resampler.f90 -o m_resampler.o\n",
      "\n",
      "mpif90 -cpp -Dgfortran -D\"git_commit='c925b17'\" -D\"git_branch='DAS_FS'\" -Ofast -fopenmp -ffree-line-length-none -fbacktrace  -fno-unsafe-math-optimizations -frounding-math -fsignaling-nans -J ../../mod/ -c m_wavelet.f90 -o m_wavelet.o\n",
      "\n",
      "mpif90 -cpp -Dgfortran -D\"git_commit='c925b17'\" -D\"git_branch='DAS_FS'\" -Ofast -fopenmp -ffree-line-length-none -fbacktrace  -fno-unsafe-math-optimizations -frounding-math -fsignaling-nans -J ../../mod/ -c m_matchfilter.f90 -o m_matchfilter.o\n",
      "\n",
      "mpif90 -cpp -Dgfortran -D\"git_commit='c925b17'\" -D\"git_branch='DAS_FS'\" -Ofast -fopenmp -ffree-line-length-none -fbacktrace  -fno-unsafe-math-optimizations -frounding-math -fsignaling-nans -J ../../mod/ -c m_Hilbert.f90 -o m_Hilbert.o\n",
      "\n",
      "mpif90 -cpp -Dgfortran -D\"git_commit='c925b17'\" -D\"git_branch='DAS_FS'\" -Ofast -fopenmp -ffree-line-length-none -fbacktrace  -fno-unsafe-math-optimizations -frounding-math -fsignaling-nans -J ../../mod/ -c m_Lpnorm.f90 -o m_Lpnorm.o\n",
      "\n",
      "mpif90 -cpp -Dgfortran -D\"git_commit='c925b17'\" -D\"git_branch='DAS_FS'\" -Ofast -fopenmp -ffree-line-length-none -fbacktrace  -fno-unsafe-math-optimizations -frounding-math -fsignaling-nans -J ../../mod/ -c m_pseudotime.f90 -o m_pseudotime.o\n",
      "\n",
      "mpif90 -cpp -Dgfortran -D\"git_commit='c925b17'\" -D\"git_branch='DAS_FS'\" -Ofast -fopenmp -ffree-line-length-none -fbacktrace  -fno-unsafe-math-optimizations -frounding-math -fsignaling-nans -J ../../mod/ -c m_smoother_Laplacian_sparse.f90 -o m_smoother_Laplacian_sparse.o\n",
      "\n",
      "\n",
      "make[1]: Leaving directory '/home/wzhou/Codes/GitHub/SeisJIMU/Modules/Signal'\n",
      "#Modeling\n",
      "(cd ../../Modules/Modeling; make)\n",
      "make[1]: Entering directory '/home/wzhou/Codes/GitHub/SeisJIMU/Modules/Modeling'\n",
      "mpif90 -cpp -Dgfortran -D\"git_commit='c925b17'\" -D\"git_branch='DAS_FS'\" -Ofast -fopenmp -ffree-line-length-none -fbacktrace  -fno-unsafe-math-optimizations -frounding-math -fsignaling-nans -J ../../mod/ -c m_model.f90 -o m_model.o\n",
      "\n",
      "mpif90 -cpp -Dgfortran -D\"git_commit='c925b17'\" -D\"git_branch='DAS_FS'\" -Ofast -fopenmp -ffree-line-length-none -fbacktrace  -fno-unsafe-math-optimizations -frounding-math -fsignaling-nans -J ../../mod/ -c m_shotlist_batching.f90 -o m_shotlist_batching.o\n",
      "\n",
      "mpif90 -cpp -Dgfortran -D\"git_commit='c925b17'\" -D\"git_branch='DAS_FS'\" -Ofast -fopenmp -ffree-line-length-none -fbacktrace  -fno-unsafe-math-optimizations -frounding-math -fsignaling-nans -J ../../mod/ -c m_shot.f90 -o m_shot.o\n",
      "\n",
      "mpif90 -cpp -Dgfortran -D\"git_commit='c925b17'\" -D\"git_branch='DAS_FS'\" -Ofast -fopenmp -ffree-line-length-none -fbacktrace  -fno-unsafe-math-optimizations -frounding-math -fsignaling-nans -J ../../mod/ -c m_computebox.f90 -o m_computebox.o\n",
      "\n",
      "mpif90 -cpp -Dgfortran -D\"git_commit='c925b17'\" -D\"git_branch='DAS_FS'\" -Ofast -fopenmp -ffree-line-length-none -fbacktrace  -fno-unsafe-math-optimizations -frounding-math -fsignaling-nans -J ../../mod/ -c m_field.f90 -o m_field.o\n",
      "\n",
      "mpif90 -cpp -Dgfortran -D\"git_commit='c925b17'\" -D\"git_branch='DAS_FS'\" -Ofast -fopenmp -ffree-line-length-none -fbacktrace  -fno-unsafe-math-optimizations -frounding-math -fsignaling-nans -J ../../mod/ -c m_correlate.f90 -o m_correlate.o\n",
      "\n",
      "mpif90 -cpp -Dgfortran -D\"git_commit='c925b17'\" -D\"git_branch='DAS_FS'\" -Ofast -fopenmp -ffree-line-length-none -fbacktrace  -fno-unsafe-math-optimizations -frounding-math -fsignaling-nans -J ../../mod/ -c m_cpml.f90 -o m_cpml.o\n",
      "\n",
      "mpif90 -cpp -Dgfortran -D\"git_commit='c925b17'\" -D\"git_branch='DAS_FS'\" -Ofast -fopenmp -ffree-line-length-none -fbacktrace  -fno-unsafe-math-optimizations -frounding-math -fsignaling-nans -J ../../mod/ -c m_propagator_DAS_FDSG_O4.f90 -o m_propagator_DAS_FDSG_O4.o\n",
      "\n",
      "mpif90 -cpp -Dgfortran -D\"git_commit='c925b17'\" -D\"git_branch='DAS_FS'\" -Ofast -fopenmp -ffree-line-length-none -fbacktrace  -fno-unsafe-math-optimizations -frounding-math -fsignaling-nans -J ../../mod/ -c m_Modeling.f90 -o m_Modeling.o\n",
      "\n",
      "\n",
      "make[1]: Leaving directory '/home/wzhou/Codes/GitHub/SeisJIMU/Modules/Modeling'\n",
      "mpif90 -cpp -Dgfortran -D\"git_commit='c925b17'\" -D\"git_branch='DAS_FS'\" -Ofast -fopenmp -ffree-line-length-none -fbacktrace  -fno-unsafe-math-optimizations -frounding-math -fsignaling-nans -J ../../mod/ -c main.f90 -o main.o\n",
      "\n",
      "mpif90 -Ofast -fopenmp -ffree-line-length-none -fbacktrace  -fno-unsafe-math-optimizations -frounding-math -fsignaling-nans -J ../../mod/ ../../Modules/System/*.o ../../Modules/Etc/*.o ../../Modules/Signal/*.o ../../Modules/Modeling/m_model.o ../../Modules/Modeling/m_shotlist_batching.o ../../Modules/Modeling/m_shot.o ../../Modules/Modeling/m_computebox.o ../../Modules/Modeling/m_field.o ../../Modules/Modeling/m_correlate.o ../../Modules/Modeling/m_cpml.o ../../Modules/Modeling/m_propagator_DAS_FDSG_O4.o ../../Modules/Modeling/m_Modeling.o main.o -o ../../exe/adjointtest_DAS_FDSG_O4\n",
      "\u001b[01m\u001b[K../../Modules/Modeling/m_correlate.f90:117:140:\u001b[m\u001b[K \u001b[01;35m\u001b[Kwarning: \u001b[m\u001b[Ktype of ‘\u001b[01m\u001b[Kmpi_reduce\u001b[m\u001b[K’ does not match original declaration [\u001b[01;35m\u001b[K\u001b]8;;https://gcc.gnu.org/onlinedocs/gcc/Warning-Options.html#index-Wlto-type-mismatch\u0007-Wlto-type-mismatch\u001b]8;;\u0007\u001b[m\u001b[K]\n",
      "  117 | gkpa,  m%n, mpi_real, mpi_sum, 0, mpiworld%communicator, mpiworld%ierr)\n",
      "      |                                                                       \u001b[01;35m\u001b[K^\u001b[m\u001b[K\n",
      "\n",
      "\u001b[01m\u001b[K../../Modules/System/m_mpienv.f90:140:90:\u001b[m\u001b[K \u001b[01;36m\u001b[Knote: \u001b[m\u001b[K‘\u001b[01m\u001b[Kmpi_reduce\u001b[m\u001b[K’ was previously declared here\n",
      "  140 | duce(array, tmp, n, mpi_real, mpi_sum, 0, self%communicator, self%ierr)\n",
      "      |                                                                       \u001b[01;36m\u001b[K^\u001b[m\u001b[K\n",
      "\n",
      "\u001b[01m\u001b[K../../Modules/System/m_mpienv.f90:140:90:\u001b[m\u001b[K \u001b[01;36m\u001b[Knote: \u001b[m\u001b[Kcode may be misoptimized unless ‘\u001b[01m\u001b[K-fno-strict-aliasing\u001b[m\u001b[K’ is used\n"
     ]
    },
    {
     "name": "stdout",
     "output_type": "stream",
     "text": [
      "(cd ../../exe; ln -sf adjointtest_DAS_FDSG_O4 AdjointTest )\r\n"
     ]
    }
   ],
   "source": [
    "!cd ../../; sed -i 's/WaveEq=PSV/WaveEq=DAS/' modules.inc\n",
    "#!make\n",
    "!make cleanall; make"
   ]
  },
  {
   "cell_type": "markdown",
   "id": "b55b2179",
   "metadata": {},
   "source": [
    "### ez-ez"
   ]
  },
  {
   "cell_type": "code",
   "execution_count": 26,
   "id": "128a2317",
   "metadata": {},
   "outputs": [
    {
     "name": "stdout",
     "output_type": "stream",
     "text": [
      " LHS = <  v|Lu> =    2.4580415087667588E-030\r\n",
      " RHS = <Lᴴv| u> =    1.8391796835217730E-030\r\n",
      " relative difference =    25.177029071225054       %\r\n",
      " ===================================\r\n",
      "   SeisJIMU has finished the job   \r\n",
      "===================================\r\n",
      " System date: 03/31/2024\r\n",
      "System time: 15:31:18\r\n",
      "System timezone: +03:00\r\n",
      "                        \r\n"
     ]
    }
   ],
   "source": [
    "!cp setup_default setup\n",
    "!echo 'SCOMP ez' >> setup\n",
    "!echo 'RCOMP ez' >> setup\n",
    "!../../exe/AdjointTest  setup > out\n",
    "\n",
    "!tail -10 out"
   ]
  },
  {
   "cell_type": "markdown",
   "id": "0b945493",
   "metadata": {},
   "source": [
    "### ex-ex"
   ]
  },
  {
   "cell_type": "code",
   "execution_count": 27,
   "id": "276d11e6",
   "metadata": {},
   "outputs": [
    {
     "name": "stdout",
     "output_type": "stream",
     "text": [
      " LHS = <  v|Lu> =    1.2065469411481439E-029\r\n",
      " RHS = <Lᴴv| u> =    9.7664584067614370E-030\r\n",
      " relative difference =    19.054467972313414       %\r\n",
      " ===================================\r\n",
      "   SeisJIMU has finished the job   \r\n",
      "===================================\r\n",
      " System date: 03/31/2024\r\n",
      "System time: 15:31:23\r\n",
      "System timezone: +03:00\r\n",
      "                        \r\n"
     ]
    }
   ],
   "source": [
    "!cp setup_default setup\n",
    "!echo 'SCOMP ex' >> setup\n",
    "!echo 'RCOMP ex'  >> setup\n",
    "!../../exe/AdjointTest  setup > out\n",
    "\n",
    "!tail -10 out"
   ]
  },
  {
   "cell_type": "markdown",
   "id": "45f1913f",
   "metadata": {},
   "source": [
    "### ez-ex"
   ]
  },
  {
   "cell_type": "code",
   "execution_count": 28,
   "id": "83dfd9f4",
   "metadata": {},
   "outputs": [
    {
     "name": "stdout",
     "output_type": "stream",
     "text": [
      " LHS = <  v|Lu> =    1.0139717692240912E-029\r\n",
      " RHS = <Lᴴv| u> =    1.4284184473162778E-030\r\n",
      " relative difference =    85.912640857749636       %\r\n",
      " ===================================\r\n",
      "   SeisJIMU has finished the job   \r\n",
      "===================================\r\n",
      " System date: 03/31/2024\r\n",
      "System time: 15:31:28\r\n",
      "System timezone: +03:00\r\n",
      "                        \r\n"
     ]
    }
   ],
   "source": [
    "!cp setup_default setup\n",
    "!echo 'SCOMP ez' >> setup\n",
    "!echo 'RCOMP ex' >> setup\n",
    "!../../exe/AdjointTest  setup > out\n",
    "\n",
    "!tail -10 out"
   ]
  },
  {
   "cell_type": "markdown",
   "id": "14594e4e",
   "metadata": {},
   "source": [
    " not so successful when close to free surface"
   ]
  },
  {
   "cell_type": "markdown",
   "id": "57aacda5",
   "metadata": {},
   "source": [
    "### pz-ez"
   ]
  },
  {
   "cell_type": "code",
   "execution_count": 29,
   "id": "71a346a4",
   "metadata": {},
   "outputs": [
    {
     "name": "stdout",
     "output_type": "stream",
     "text": [
      " LHS = <  v|Lu> =    1.2091801058102605E-016\r\n",
      " RHS = <Lᴴv| u> =   -9.0820320163417418E-018\r\n",
      " relative difference =    107.51090095900639       %\r\n",
      " ===================================\r\n",
      "   SeisJIMU has finished the job   \r\n",
      "===================================\r\n",
      " System date: 03/31/2024\r\n",
      "System time: 15:31:33\r\n",
      "System timezone: +03:00\r\n",
      "                        \r\n"
     ]
    }
   ],
   "source": [
    "!cp setup_default setup\n",
    "!echo 'SCOMP pz' >> setup\n",
    "!echo 'RCOMP ez' >> setup\n",
    "!../../exe/AdjointTest  setup > out\n",
    "\n",
    "!tail -10 out"
   ]
  },
  {
   "cell_type": "markdown",
   "id": "35c4c5ab",
   "metadata": {},
   "source": [
    "### px-ez"
   ]
  },
  {
   "cell_type": "code",
   "execution_count": 30,
   "id": "a68a5c89",
   "metadata": {},
   "outputs": [
    {
     "name": "stdout",
     "output_type": "stream",
     "text": [
      " LHS = <  v|Lu> =    1.6970237282716995E-016\r\n",
      " RHS = <Lᴴv| u> =    1.0736203857024895E-017\r\n",
      " relative difference =    93.673509876046950       %\r\n",
      " ===================================\r\n",
      "   SeisJIMU has finished the job   \r\n",
      "===================================\r\n",
      " System date: 03/31/2024\r\n",
      "System time: 15:31:38\r\n",
      "System timezone: +03:00\r\n",
      "                        \r\n"
     ]
    }
   ],
   "source": [
    "!cp setup_default setup\n",
    "!echo 'SCOMP px' >> setup\n",
    "!echo 'RCOMP ez' >> setup\n",
    "!../../exe/AdjointTest  setup > out\n",
    "\n",
    "!tail -10 out"
   ]
  },
  {
   "cell_type": "markdown",
   "id": "ca818600",
   "metadata": {},
   "source": [
    "### pz-ex"
   ]
  },
  {
   "cell_type": "code",
   "execution_count": 31,
   "id": "5188e628",
   "metadata": {},
   "outputs": [
    {
     "name": "stdout",
     "output_type": "stream",
     "text": [
      " LHS = <  v|Lu> =    1.5147544705178562E-015\r\n",
      " RHS = <Lᴴv| u> =    5.9308881708471870E-017\r\n",
      " relative difference =    96.084587775588759       %\r\n",
      " ===================================\r\n",
      "   SeisJIMU has finished the job   \r\n",
      "===================================\r\n",
      " System date: 03/31/2024\r\n",
      "System time: 15:31:45\r\n",
      "System timezone: +03:00\r\n",
      "                        \r\n"
     ]
    }
   ],
   "source": [
    "!cp setup_default setup\n",
    "!echo 'SCOMP pz' >> setup\n",
    "!echo 'RCOMP ex' >> setup\n",
    "!../../exe/AdjointTest  setup > out\n",
    "\n",
    "!tail -10 out"
   ]
  },
  {
   "cell_type": "markdown",
   "id": "76b215b8",
   "metadata": {},
   "source": [
    "### px-ex"
   ]
  },
  {
   "cell_type": "code",
   "execution_count": 32,
   "id": "c1ee4b02",
   "metadata": {},
   "outputs": [
    {
     "name": "stdout",
     "output_type": "stream",
     "text": [
      " LHS = <  v|Lu> =    1.8390010916849090E-015\r\n",
      " RHS = <Lᴴv| u> =    1.1084970334499739E-016\r\n",
      " relative difference =    93.972287246255206       %\r\n",
      " ===================================\r\n",
      "   SeisJIMU has finished the job   \r\n",
      "===================================\r\n",
      " System date: 03/31/2024\r\n",
      "System time: 15:31:50\r\n",
      "System timezone: +03:00\r\n",
      "                        \r\n"
     ]
    }
   ],
   "source": [
    "!cp setup_default setup\n",
    "!echo 'SCOMP px' >> setup\n",
    "!echo 'RCOMP ex' >> setup\n",
    "!../../exe/AdjointTest  setup > out\n",
    "\n",
    "!tail -10 out"
   ]
  },
  {
   "cell_type": "markdown",
   "id": "64e4334e",
   "metadata": {},
   "source": [
    "### es-es"
   ]
  },
  {
   "cell_type": "code",
   "execution_count": 33,
   "id": "7516c574",
   "metadata": {},
   "outputs": [
    {
     "name": "stdout",
     "output_type": "stream",
     "text": [
      " LHS = <  v|Lu> =    5.8379835208620848E-028\r\n",
      " RHS = <Lᴴv| u> =    5.8379864991174054E-028\r\n",
      " relative difference =    5.1015111477412654E-005  %\r\n",
      " ===================================\r\n",
      "   SeisJIMU has finished the job   \r\n",
      "===================================\r\n",
      " System date: 03/31/2024\r\n",
      "System time: 15:31:55\r\n",
      "System timezone: +03:00\r\n",
      "                        \r\n"
     ]
    }
   ],
   "source": [
    "!cp setup_default setup\n",
    "!echo 'SCOMP es' >> setup\n",
    "!echo 'RCOMP es' >> setup\n",
    "!../../exe/AdjointTest  setup > out\n",
    "\n",
    "!tail -10 out"
   ]
  },
  {
   "cell_type": "markdown",
   "id": "ac649195",
   "metadata": {},
   "source": [
    "### pz-es"
   ]
  },
  {
   "cell_type": "code",
   "execution_count": 34,
   "id": "7e83a406",
   "metadata": {},
   "outputs": [
    {
     "name": "stdout",
     "output_type": "stream",
     "text": [
      " LHS = <  v|Lu> =    7.3793373687678673E-016\r\n",
      " RHS = <Lᴴv| u> =    7.3925067219252481E-016\r\n",
      " relative difference =   0.17814462201734779       %\r\n",
      " ===================================\r\n",
      "   SeisJIMU has finished the job   \r\n",
      "===================================\r\n",
      " System date: 03/31/2024\r\n",
      "System time: 15:32:00\r\n",
      "System timezone: +03:00\r\n",
      "                        \r\n"
     ]
    }
   ],
   "source": [
    "!cp setup_default setup\n",
    "!echo 'SCOMP pz' >> setup\n",
    "!echo 'RCOMP es' >> setup\n",
    "!../../exe/AdjointTest  setup > out\n",
    "\n",
    "!tail -10 out"
   ]
  },
  {
   "cell_type": "markdown",
   "id": "81a3e7b6",
   "metadata": {},
   "source": [
    "### px-es"
   ]
  },
  {
   "cell_type": "code",
   "execution_count": 35,
   "id": "1972fa43",
   "metadata": {},
   "outputs": [
    {
     "name": "stdout",
     "output_type": "stream",
     "text": [
      " LHS = <  v|Lu> =    5.0020269075732602E-016\r\n",
      " RHS = <Lᴴv| u> =    5.0103176968889599E-016\r\n",
      " relative difference =   0.16547432353137326       %\r\n",
      " ===================================\r\n",
      "   SeisJIMU has finished the job   \r\n",
      "===================================\r\n",
      " System date: 03/31/2024\r\n",
      "System time: 15:32:05\r\n",
      "System timezone: +03:00\r\n",
      "                        \r\n"
     ]
    }
   ],
   "source": [
    "!cp setup_default setup\n",
    "!echo 'SCOMP px' >> setup\n",
    "!echo 'RCOMP es' >> setup\n",
    "!../../exe/AdjointTest  setup > out\n",
    "\n",
    "!tail -10 out"
   ]
  },
  {
   "cell_type": "markdown",
   "id": "e5ea64de",
   "metadata": {},
   "source": [
    "### ez-es"
   ]
  },
  {
   "cell_type": "code",
   "execution_count": 36,
   "id": "b402f0d0",
   "metadata": {},
   "outputs": [
    {
     "name": "stdout",
     "output_type": "stream",
     "text": [
      " LHS = <  v|Lu> =    5.8379835208620848E-028\r\n",
      " RHS = <Lᴴv| u> =    5.8379864991174054E-028\r\n",
      " relative difference =    5.1015111477412654E-005  %\r\n",
      " ===================================\r\n",
      "   SeisJIMU has finished the job   \r\n",
      "===================================\r\n",
      " System date: 03/31/2024\r\n",
      "System time: 15:32:10\r\n",
      "System timezone: +03:00\r\n",
      "                        \r\n"
     ]
    }
   ],
   "source": [
    "!cp setup_default setup\n",
    "!echo 'SCOMP es'  >> setup\n",
    "!echo 'RCOMP es' >> setup\n",
    "!../../exe/AdjointTest  setup > out\n",
    "\n",
    "!tail -10 out"
   ]
  },
  {
   "cell_type": "markdown",
   "id": "92067a50",
   "metadata": {},
   "source": [
    "### ex-es"
   ]
  },
  {
   "cell_type": "code",
   "execution_count": 37,
   "id": "cee335fb",
   "metadata": {},
   "outputs": [
    {
     "name": "stdout",
     "output_type": "stream",
     "text": [
      " LHS = <  v|Lu> =    7.2527417611312440E-030\r\n",
      " RHS = <Lᴴv| u> =   -1.2350517846650250E-029\r\n",
      " relative difference =    270.28757197504143       %\r\n",
      " ===================================\r\n",
      "   SeisJIMU has finished the job   \r\n",
      "===================================\r\n",
      " System date: 03/31/2024\r\n",
      "System time: 15:32:15\r\n",
      "System timezone: +03:00\r\n",
      "                        \r\n"
     ]
    }
   ],
   "source": [
    "!cp setup_default setup\n",
    "!echo 'SCOMP ex'  >> setup\n",
    "!echo 'RCOMP es' >> setup\n",
    "!../../exe/AdjointTest  setup > out\n",
    "\n",
    "!tail -10 out"
   ]
  },
  {
   "cell_type": "markdown",
   "id": "ca697bf7",
   "metadata": {},
   "source": [
    "## Close to Free Surface w/ Hicks Matrix Transposed\n",
    "\n",
    "$$\\frac{1}{8}\\left(\\begin{matrix} -9 & -3 \\\\ 3 & 1 \\end{matrix}\\right)^T$$\n",
    "\n",
    "FS                      '2 500 500'\n",
    "\n",
    "FR                      '2 10  0'"
   ]
  },
  {
   "cell_type": "code",
   "execution_count": 48,
   "id": "4d9bad52",
   "metadata": {
    "scrolled": true
   },
   "outputs": [
    {
     "name": "stdout",
     "output_type": "stream",
     "text": [
      "#System\n",
      "(cd ../../Modules/System; make clean)\n",
      "make[1]: Entering directory '/home/wzhou/Codes/GitHub/SeisJIMU/Modules/System'\n",
      "rm m_either.o m_string.o m_mpienv.o m_message.o m_arrayop.o m_setup.o m_sysio.o m_checkpoint.o m_suformat.o m_System.o\n",
      "rm: cannot remove 'm_either.o': No such file or directory\n",
      "rm: cannot remove 'm_string.o': No such file or directory\n",
      "rm: cannot remove 'm_mpienv.o': No such file or directory\n",
      "rm: cannot remove 'm_message.o': No such file or directory\n",
      "rm: cannot remove 'm_arrayop.o': No such file or directory\n",
      "rm: cannot remove 'm_setup.o': No such file or directory\n",
      "rm: cannot remove 'm_sysio.o': No such file or directory\n",
      "rm: cannot remove 'm_checkpoint.o': No such file or directory\n",
      "rm: cannot remove 'm_suformat.o': No such file or directory\n",
      "rm: cannot remove 'm_System.o': No such file or directory\n",
      "make[1]: [Makefile:23: clean] Error 1 (ignored)\n",
      "\n",
      "rm ../../mod/m_either.mod ../../mod/m_string.mod ../../mod/m_mpienv.mod ../../mod/m_message.mod ../../mod/m_arrayop.mod ../../mod/m_setup.mod ../../mod/m_sysio.mod ../../mod/m_checkpoint.mod ../../mod/m_suformat.mod ../../mod/m_System.mod ../../mod/m_system.mod\n",
      "rm: cannot remove '../../mod/m_either.mod': No such file or directory\n",
      "rm: cannot remove '../../mod/m_string.mod': No such file or directory\n",
      "rm: cannot remove '../../mod/m_mpienv.mod': No such file or directory\n",
      "rm: cannot remove '../../mod/m_message.mod': No such file or directory\n",
      "rm: cannot remove '../../mod/m_arrayop.mod': No such file or directory\n",
      "rm: cannot remove '../../mod/m_setup.mod': No such file or directory\n",
      "rm: cannot remove '../../mod/m_sysio.mod': No such file or directory\n",
      "rm: cannot remove '../../mod/m_checkpoint.mod': No such file or directory\n",
      "rm: cannot remove '../../mod/m_suformat.mod': No such file or directory\n",
      "rm: cannot remove '../../mod/m_System.mod': No such file or directory\n",
      "rm: cannot remove '../../mod/m_system.mod': No such file or directory\n",
      "make[1]: [Makefile:25: clean] Error 1 (ignored)\n",
      "\n",
      "make[1]: Leaving directory '/home/wzhou/Codes/GitHub/SeisJIMU/Modules/System'\n",
      "#Etc\n",
      "(cd ../../Modules/Etc; make clean)\n",
      "make[1]: Entering directory '/home/wzhou/Codes/GitHub/SeisJIMU/Modules/Etc'\n",
      "rm sgtsv.o m_math.o singleton.o\n",
      "rm: cannot remove 'sgtsv.o': No such file or directory\n",
      "rm: cannot remove 'm_math.o': No such file or directory\n",
      "rm: cannot remove 'singleton.o': No such file or directory\n",
      "make[1]: [Makefile:18: clean] Error 1 (ignored)\n",
      "\n",
      "rm ../../mod/m_math.mod ../../mod/singleton.mod\n",
      "rm: cannot remove '../../mod/m_math.mod': No such file or directory\n",
      "rm: cannot remove '../../mod/singleton.mod': No such file or directory\n",
      "make[1]: [Makefile:20: clean] Error 1 (ignored)\n",
      "\n",
      "make[1]: Leaving directory '/home/wzhou/Codes/GitHub/SeisJIMU/Modules/Etc'\n",
      "#Signal\n",
      "(cd ../../Modules/Signal; make clean)\n",
      "make[1]: Entering directory '/home/wzhou/Codes/GitHub/SeisJIMU/Modules/Signal'\n",
      "rm m_hicks.o m_butterworth.o m_resampler.o m_wavelet.o m_matchfilter.o m_Hilbert.o m_Lpnorm.o m_pseudotime.o m_smoother_Laplacian_sparse.o\n",
      "rm: cannot remove 'm_hicks.o': No such file or directory\n",
      "rm: cannot remove 'm_butterworth.o': No such file or directory\n",
      "rm: cannot remove 'm_resampler.o': No such file or directory\n",
      "rm: cannot remove 'm_wavelet.o': No such file or directory\n",
      "rm: cannot remove 'm_matchfilter.o': No such file or directory\n",
      "rm: cannot remove 'm_Hilbert.o': No such file or directory\n",
      "rm: cannot remove 'm_Lpnorm.o': No such file or directory\n",
      "rm: cannot remove 'm_pseudotime.o': No such file or directory\n",
      "rm: cannot remove 'm_smoother_Laplacian_sparse.o': No such file or directory\n",
      "make[1]: [Makefile:22: clean] Error 1 (ignored)\n",
      "\n",
      "rm ../../mod/m_hicks.mod ../../mod/m_butterworth.mod ../../mod/m_resampler.mod ../../mod/m_wavelet.mod ../../mod/m_matchfilter.mod ../../mod/m_Hilbert.mod ../../mod/m_Lpnorm.mod ../../mod/m_pseudotime.mod ../../mod/m_smoother_Laplacian_sparse.mod  ../../mod/m_lpnorm.mod ../../mod/m_smoother_laplacian_sparse.mod\n",
      "rm: cannot remove '../../mod/m_hicks.mod': No such file or directory\n",
      "rm: cannot remove '../../mod/m_butterworth.mod': No such file or directory\n",
      "rm: cannot remove '../../mod/m_resampler.mod': No such file or directory\n",
      "rm: cannot remove '../../mod/m_wavelet.mod': No such file or directory\n",
      "rm: cannot remove '../../mod/m_matchfilter.mod': No such file or directory\n",
      "rm: cannot remove '../../mod/m_Hilbert.mod': No such file or directory\n",
      "rm: cannot remove '../../mod/m_Lpnorm.mod': No such file or directory\n",
      "rm: cannot remove '../../mod/m_pseudotime.mod': No such file or directory\n",
      "rm: cannot remove '../../mod/m_smoother_Laplacian_sparse.mod': No such file or directory\n",
      "rm: cannot remove '../../mod/m_lpnorm.mod': No such file or directory\n",
      "rm: cannot remove '../../mod/m_smoother_laplacian_sparse.mod': No such file or directory\n",
      "make[1]: [Makefile:24: clean] Error 1 (ignored)\n",
      "\n",
      "make[1]: Leaving directory '/home/wzhou/Codes/GitHub/SeisJIMU/Modules/Signal'\n",
      "#Modeling\n",
      "(cd ../../Modules/Modeling; make clean)\n",
      "make[1]: Entering directory '/home/wzhou/Codes/GitHub/SeisJIMU/Modules/Modeling'\n",
      "rm *.o\n",
      "rm: cannot remove '*.o': No such file or directory\n",
      "make[1]: [Makefile:22: clean] Error 1 (ignored)\n",
      "\n",
      "rm ../../mod/m_model.mod ../../mod/m_shotlist_batching.mod ../../mod/m_shot.mod ../../mod/m_computebox.mod ../../mod/m_field.mod ../../mod/m_correlate.mod ../../mod/m_cpml.mod ../../mod/m_propagator_DAS_FDSG_O4.mod ../../mod/m_Modeling.mod ../../mod/m_shotlist.mod ../../mod/m_cpml.mod ../../mod/m_propagator.mod ../../mod/m_modeling.mod ../../mod/m_propagator_WPI.mod\n",
      "rm: cannot remove '../../mod/m_model.mod': No such file or directory\n",
      "rm: cannot remove '../../mod/m_shotlist_batching.mod': No such file or directory\n",
      "rm: cannot remove '../../mod/m_shot.mod': No such file or directory\n",
      "rm: cannot remove '../../mod/m_computebox.mod': No such file or directory\n",
      "rm: cannot remove '../../mod/m_field.mod': No such file or directory\n",
      "rm: cannot remove '../../mod/m_correlate.mod': No such file or directory\n",
      "rm: cannot remove '../../mod/m_cpml.mod': No such file or directory\n",
      "rm: cannot remove '../../mod/m_propagator_DAS_FDSG_O4.mod': No such file or directory\n",
      "rm: cannot remove '../../mod/m_Modeling.mod': No such file or directory\n",
      "rm: cannot remove '../../mod/m_shotlist.mod': No such file or directory\n",
      "rm: cannot remove '../../mod/m_cpml.mod': No such file or directory\n",
      "rm: cannot remove '../../mod/m_propagator.mod': No such file or directory\n",
      "rm: cannot remove '../../mod/m_modeling.mod': No such file or directory\n",
      "rm: cannot remove '../../mod/m_propagator_WPI.mod': No such file or directory\n",
      "make[1]: [Makefile:24: clean] Error 1 (ignored)\n",
      "\n",
      "make[1]: Leaving directory '/home/wzhou/Codes/GitHub/SeisJIMU/Modules/Modeling'\n",
      "#\n",
      "make clean\n",
      "make[1]: Entering directory '/home/wzhou/Codes/GitHub/SeisJIMU/Demo/03_AdjointTest'\n",
      "rm main.o\n",
      "make[1]: Leaving directory '/home/wzhou/Codes/GitHub/SeisJIMU/Demo/03_AdjointTest'\n",
      "#System\n",
      "(cd ../../Modules/System; make)\n",
      "make[1]: Entering directory '/home/wzhou/Codes/GitHub/SeisJIMU/Modules/System'\n",
      "mpif90 -cpp -Dgfortran -D\"git_commit='c925b17'\" -D\"git_branch='DAS_FS'\" -Ofast -fopenmp -ffree-line-length-none -fbacktrace  -fno-unsafe-math-optimizations -frounding-math -fsignaling-nans -J ../../mod/ -c m_either.f90 -o m_either.o\n",
      "\n",
      "mpif90 -cpp -Dgfortran -D\"git_commit='c925b17'\" -D\"git_branch='DAS_FS'\" -Ofast -fopenmp -ffree-line-length-none -fbacktrace  -fno-unsafe-math-optimizations -frounding-math -fsignaling-nans -J ../../mod/ -c m_string.f90 -o m_string.o\n",
      "\n",
      "mpif90 -cpp -Dgfortran -D\"git_commit='c925b17'\" -D\"git_branch='DAS_FS'\" -Ofast -fopenmp -ffree-line-length-none -fbacktrace  -fno-unsafe-math-optimizations -frounding-math -fsignaling-nans -J ../../mod/ -c m_mpienv.f90 -o m_mpienv.o\n",
      "\n",
      "mpif90 -cpp -Dgfortran -D\"git_commit='c925b17'\" -D\"git_branch='DAS_FS'\" -Ofast -fopenmp -ffree-line-length-none -fbacktrace  -fno-unsafe-math-optimizations -frounding-math -fsignaling-nans -J ../../mod/ -c m_message.f90 -o m_message.o\n",
      "\n",
      "mpif90 -cpp -Dgfortran -D\"git_commit='c925b17'\" -D\"git_branch='DAS_FS'\" -Ofast -fopenmp -ffree-line-length-none -fbacktrace  -fno-unsafe-math-optimizations -frounding-math -fsignaling-nans -J ../../mod/ -c m_arrayop.f90 -o m_arrayop.o\n",
      "\n",
      "mpif90 -cpp -Dgfortran -D\"git_commit='c925b17'\" -D\"git_branch='DAS_FS'\" -Ofast -fopenmp -ffree-line-length-none -fbacktrace  -fno-unsafe-math-optimizations -frounding-math -fsignaling-nans -J ../../mod/ -c m_setup.f90 -o m_setup.o\n"
     ]
    },
    {
     "name": "stdout",
     "output_type": "stream",
     "text": [
      "\n",
      "mpif90 -cpp -Dgfortran -D\"git_commit='c925b17'\" -D\"git_branch='DAS_FS'\" -Ofast -fopenmp -ffree-line-length-none -fbacktrace  -fno-unsafe-math-optimizations -frounding-math -fsignaling-nans -J ../../mod/ -c m_sysio.f90 -o m_sysio.o\n",
      "\n",
      "mpif90 -cpp -Dgfortran -D\"git_commit='c925b17'\" -D\"git_branch='DAS_FS'\" -Ofast -fopenmp -ffree-line-length-none -fbacktrace  -fno-unsafe-math-optimizations -frounding-math -fsignaling-nans -J ../../mod/ -c m_checkpoint.f90 -o m_checkpoint.o\n",
      "\n",
      "mpif90 -cpp -Dgfortran -D\"git_commit='c925b17'\" -D\"git_branch='DAS_FS'\" -Ofast -fopenmp -ffree-line-length-none -fbacktrace  -fno-unsafe-math-optimizations -frounding-math -fsignaling-nans -J ../../mod/ -c m_suformat.f90 -o m_suformat.o\n",
      "\n",
      "mpif90 -cpp -Dgfortran -D\"git_commit='c925b17'\" -D\"git_branch='DAS_FS'\" -Ofast -fopenmp -ffree-line-length-none -fbacktrace  -fno-unsafe-math-optimizations -frounding-math -fsignaling-nans -J ../../mod/ -c m_System.f90 -o m_System.o\n",
      "\n",
      "\n",
      "make[1]: Leaving directory '/home/wzhou/Codes/GitHub/SeisJIMU/Modules/System'\n",
      "#Etc\n",
      "(cd ../../Modules/Etc; make)\n",
      "make[1]: Entering directory '/home/wzhou/Codes/GitHub/SeisJIMU/Modules/Etc'\n",
      "mpif77        -Ofast -fopenmp                         -fbacktrace          -c sgtsv.f -o sgtsv.o\n",
      "\n",
      "mpif90 -cpp -Dgfortran -D\"git_commit='c925b17'\" -D\"git_branch='DAS_FS'\" -Ofast -fopenmp -ffree-line-length-none -fbacktrace  -fno-unsafe-math-optimizations -frounding-math -fsignaling-nans -J ../../mod/ -c m_math.f90 -o m_math.o\n",
      "\n",
      "mpif90 -cpp -Dgfortran -D\"git_commit='c925b17'\" -D\"git_branch='DAS_FS'\" -Ofast -fopenmp -ffree-line-length-none -fbacktrace  -fno-unsafe-math-optimizations -frounding-math -fsignaling-nans -J ../../mod/ -c singleton.f90 -o singleton.o\n",
      "\n",
      "\n",
      "make[1]: Leaving directory '/home/wzhou/Codes/GitHub/SeisJIMU/Modules/Etc'\n",
      "#Signal\n",
      "(cd ../../Modules/Signal; make)\n",
      "make[1]: Entering directory '/home/wzhou/Codes/GitHub/SeisJIMU/Modules/Signal'\n",
      "mpif90 -cpp -Dgfortran -D\"git_commit='c925b17'\" -D\"git_branch='DAS_FS'\" -Ofast -fopenmp -ffree-line-length-none -fbacktrace  -fno-unsafe-math-optimizations -frounding-math -fsignaling-nans -J ../../mod/ -c m_hicks.f90 -o m_hicks.o\n",
      "\n",
      "mpif90 -cpp -Dgfortran -D\"git_commit='c925b17'\" -D\"git_branch='DAS_FS'\" -Ofast -fopenmp -ffree-line-length-none -fbacktrace  -fno-unsafe-math-optimizations -frounding-math -fsignaling-nans -J ../../mod/ -c m_butterworth.f90 -o m_butterworth.o\n",
      "\n",
      "mpif90 -cpp -Dgfortran -D\"git_commit='c925b17'\" -D\"git_branch='DAS_FS'\" -Ofast -fopenmp -ffree-line-length-none -fbacktrace  -fno-unsafe-math-optimizations -frounding-math -fsignaling-nans -J ../../mod/ -c m_resampler.f90 -o m_resampler.o\n",
      "\n",
      "mpif90 -cpp -Dgfortran -D\"git_commit='c925b17'\" -D\"git_branch='DAS_FS'\" -Ofast -fopenmp -ffree-line-length-none -fbacktrace  -fno-unsafe-math-optimizations -frounding-math -fsignaling-nans -J ../../mod/ -c m_wavelet.f90 -o m_wavelet.o\n",
      "\n",
      "mpif90 -cpp -Dgfortran -D\"git_commit='c925b17'\" -D\"git_branch='DAS_FS'\" -Ofast -fopenmp -ffree-line-length-none -fbacktrace  -fno-unsafe-math-optimizations -frounding-math -fsignaling-nans -J ../../mod/ -c m_matchfilter.f90 -o m_matchfilter.o\n",
      "\n",
      "mpif90 -cpp -Dgfortran -D\"git_commit='c925b17'\" -D\"git_branch='DAS_FS'\" -Ofast -fopenmp -ffree-line-length-none -fbacktrace  -fno-unsafe-math-optimizations -frounding-math -fsignaling-nans -J ../../mod/ -c m_Hilbert.f90 -o m_Hilbert.o\n",
      "\n",
      "mpif90 -cpp -Dgfortran -D\"git_commit='c925b17'\" -D\"git_branch='DAS_FS'\" -Ofast -fopenmp -ffree-line-length-none -fbacktrace  -fno-unsafe-math-optimizations -frounding-math -fsignaling-nans -J ../../mod/ -c m_Lpnorm.f90 -o m_Lpnorm.o\n",
      "\n",
      "mpif90 -cpp -Dgfortran -D\"git_commit='c925b17'\" -D\"git_branch='DAS_FS'\" -Ofast -fopenmp -ffree-line-length-none -fbacktrace  -fno-unsafe-math-optimizations -frounding-math -fsignaling-nans -J ../../mod/ -c m_pseudotime.f90 -o m_pseudotime.o\n",
      "\n",
      "mpif90 -cpp -Dgfortran -D\"git_commit='c925b17'\" -D\"git_branch='DAS_FS'\" -Ofast -fopenmp -ffree-line-length-none -fbacktrace  -fno-unsafe-math-optimizations -frounding-math -fsignaling-nans -J ../../mod/ -c m_smoother_Laplacian_sparse.f90 -o m_smoother_Laplacian_sparse.o\n",
      "\n",
      "\n",
      "make[1]: Leaving directory '/home/wzhou/Codes/GitHub/SeisJIMU/Modules/Signal'\n",
      "#Modeling\n",
      "(cd ../../Modules/Modeling; make)\n",
      "make[1]: Entering directory '/home/wzhou/Codes/GitHub/SeisJIMU/Modules/Modeling'\n",
      "mpif90 -cpp -Dgfortran -D\"git_commit='c925b17'\" -D\"git_branch='DAS_FS'\" -Ofast -fopenmp -ffree-line-length-none -fbacktrace  -fno-unsafe-math-optimizations -frounding-math -fsignaling-nans -J ../../mod/ -c m_model.f90 -o m_model.o\n",
      "\n",
      "mpif90 -cpp -Dgfortran -D\"git_commit='c925b17'\" -D\"git_branch='DAS_FS'\" -Ofast -fopenmp -ffree-line-length-none -fbacktrace  -fno-unsafe-math-optimizations -frounding-math -fsignaling-nans -J ../../mod/ -c m_shotlist_batching.f90 -o m_shotlist_batching.o\n",
      "\n",
      "mpif90 -cpp -Dgfortran -D\"git_commit='c925b17'\" -D\"git_branch='DAS_FS'\" -Ofast -fopenmp -ffree-line-length-none -fbacktrace  -fno-unsafe-math-optimizations -frounding-math -fsignaling-nans -J ../../mod/ -c m_shot.f90 -o m_shot.o\n",
      "\n",
      "mpif90 -cpp -Dgfortran -D\"git_commit='c925b17'\" -D\"git_branch='DAS_FS'\" -Ofast -fopenmp -ffree-line-length-none -fbacktrace  -fno-unsafe-math-optimizations -frounding-math -fsignaling-nans -J ../../mod/ -c m_computebox.f90 -o m_computebox.o\n",
      "\n",
      "mpif90 -cpp -Dgfortran -D\"git_commit='c925b17'\" -D\"git_branch='DAS_FS'\" -Ofast -fopenmp -ffree-line-length-none -fbacktrace  -fno-unsafe-math-optimizations -frounding-math -fsignaling-nans -J ../../mod/ -c m_field.f90 -o m_field.o\n",
      "\n",
      "mpif90 -cpp -Dgfortran -D\"git_commit='c925b17'\" -D\"git_branch='DAS_FS'\" -Ofast -fopenmp -ffree-line-length-none -fbacktrace  -fno-unsafe-math-optimizations -frounding-math -fsignaling-nans -J ../../mod/ -c m_correlate.f90 -o m_correlate.o\n",
      "\n",
      "mpif90 -cpp -Dgfortran -D\"git_commit='c925b17'\" -D\"git_branch='DAS_FS'\" -Ofast -fopenmp -ffree-line-length-none -fbacktrace  -fno-unsafe-math-optimizations -frounding-math -fsignaling-nans -J ../../mod/ -c m_cpml.f90 -o m_cpml.o\n",
      "\n",
      "mpif90 -cpp -Dgfortran -D\"git_commit='c925b17'\" -D\"git_branch='DAS_FS'\" -Ofast -fopenmp -ffree-line-length-none -fbacktrace  -fno-unsafe-math-optimizations -frounding-math -fsignaling-nans -J ../../mod/ -c m_propagator_DAS_FDSG_O4.f90 -o m_propagator_DAS_FDSG_O4.o\n",
      "\n",
      "mpif90 -cpp -Dgfortran -D\"git_commit='c925b17'\" -D\"git_branch='DAS_FS'\" -Ofast -fopenmp -ffree-line-length-none -fbacktrace  -fno-unsafe-math-optimizations -frounding-math -fsignaling-nans -J ../../mod/ -c m_Modeling.f90 -o m_Modeling.o\n",
      "\n",
      "\n",
      "make[1]: Leaving directory '/home/wzhou/Codes/GitHub/SeisJIMU/Modules/Modeling'\n",
      "mpif90 -cpp -Dgfortran -D\"git_commit='c925b17'\" -D\"git_branch='DAS_FS'\" -Ofast -fopenmp -ffree-line-length-none -fbacktrace  -fno-unsafe-math-optimizations -frounding-math -fsignaling-nans -J ../../mod/ -c main.f90 -o main.o\n",
      "\n",
      "mpif90 -Ofast -fopenmp -ffree-line-length-none -fbacktrace  -fno-unsafe-math-optimizations -frounding-math -fsignaling-nans -J ../../mod/ ../../Modules/System/*.o ../../Modules/Etc/*.o ../../Modules/Signal/*.o ../../Modules/Modeling/m_model.o ../../Modules/Modeling/m_shotlist_batching.o ../../Modules/Modeling/m_shot.o ../../Modules/Modeling/m_computebox.o ../../Modules/Modeling/m_field.o ../../Modules/Modeling/m_correlate.o ../../Modules/Modeling/m_cpml.o ../../Modules/Modeling/m_propagator_DAS_FDSG_O4.o ../../Modules/Modeling/m_Modeling.o main.o -o ../../exe/adjointtest_DAS_FDSG_O4\n",
      "\u001b[01m\u001b[K../../Modules/Modeling/m_correlate.f90:117:140:\u001b[m\u001b[K \u001b[01;35m\u001b[Kwarning: \u001b[m\u001b[Ktype of ‘\u001b[01m\u001b[Kmpi_reduce\u001b[m\u001b[K’ does not match original declaration [\u001b[01;35m\u001b[K\u001b]8;;https://gcc.gnu.org/onlinedocs/gcc/Warning-Options.html#index-Wlto-type-mismatch\u0007-Wlto-type-mismatch\u001b]8;;\u0007\u001b[m\u001b[K]\n",
      "  117 | gkpa,  m%n, mpi_real, mpi_sum, 0, mpiworld%communicator, mpiworld%ierr)\n",
      "      |                                                                       \u001b[01;35m\u001b[K^\u001b[m\u001b[K\n",
      "\n",
      "\u001b[01m\u001b[K../../Modules/System/m_mpienv.f90:140:90:\u001b[m\u001b[K \u001b[01;36m\u001b[Knote: \u001b[m\u001b[K‘\u001b[01m\u001b[Kmpi_reduce\u001b[m\u001b[K’ was previously declared here\n",
      "  140 | duce(array, tmp, n, mpi_real, mpi_sum, 0, self%communicator, self%ierr)\n",
      "      |                                                                       \u001b[01;36m\u001b[K^\u001b[m\u001b[K\n",
      "\n",
      "\u001b[01m\u001b[K../../Modules/System/m_mpienv.f90:140:90:\u001b[m\u001b[K \u001b[01;36m\u001b[Knote: \u001b[m\u001b[Kcode may be misoptimized unless ‘\u001b[01m\u001b[K-fno-strict-aliasing\u001b[m\u001b[K’ is used\n"
     ]
    },
    {
     "name": "stdout",
     "output_type": "stream",
     "text": [
      "(cd ../../exe; ln -sf adjointtest_DAS_FDSG_O4 AdjointTest )\r\n"
     ]
    }
   ],
   "source": [
    "!cd ../../; sed -i 's/WaveEq=PSV/WaveEq=DAS/' modules.inc\n",
    "#!make\n",
    "!make cleanall; make"
   ]
  },
  {
   "cell_type": "markdown",
   "id": "7ec8e52e",
   "metadata": {},
   "source": [
    "### ez-ez"
   ]
  },
  {
   "cell_type": "code",
   "execution_count": 49,
   "id": "369d26cb",
   "metadata": {},
   "outputs": [
    {
     "name": "stdout",
     "output_type": "stream",
     "text": [
      " LHS = <  v|Lu> =    2.0183825764909836E-031\r\n",
      " RHS = <Lᴴv| u> =    1.2591830748251830E-031\r\n",
      " relative difference =    37.614251654197837       %\r\n",
      " ===================================\r\n",
      "   SeisJIMU has finished the job   \r\n",
      "===================================\r\n",
      " System date: 03/31/2024\r\n",
      "System time: 15:37:17\r\n",
      "System timezone: +03:00\r\n",
      "                        \r\n"
     ]
    }
   ],
   "source": [
    "!cp setup_default setup\n",
    "!echo 'SCOMP ez' >> setup\n",
    "!echo 'RCOMP ez' >> setup\n",
    "!../../exe/AdjointTest  setup > out\n",
    "\n",
    "!tail -10 out"
   ]
  },
  {
   "cell_type": "markdown",
   "id": "b8308516",
   "metadata": {},
   "source": [
    "### ex-ex"
   ]
  },
  {
   "cell_type": "code",
   "execution_count": 50,
   "id": "5ac8a953",
   "metadata": {},
   "outputs": [
    {
     "name": "stdout",
     "output_type": "stream",
     "text": [
      " LHS = <  v|Lu> =    3.4165947190467898E-030\r\n",
      " RHS = <Lᴴv| u> =    1.5322192343262915E-030\r\n",
      " relative difference =    55.153614627321915       %\r\n",
      " ===================================\r\n",
      "   SeisJIMU has finished the job   \r\n",
      "===================================\r\n",
      " System date: 03/31/2024\r\n",
      "System time: 15:37:22\r\n",
      "System timezone: +03:00\r\n",
      "                        \r\n"
     ]
    }
   ],
   "source": [
    "!cp setup_default setup\n",
    "!echo 'SCOMP ex' >> setup\n",
    "!echo 'RCOMP ex'  >> setup\n",
    "!../../exe/AdjointTest  setup > out\n",
    "\n",
    "!tail -10 out"
   ]
  },
  {
   "cell_type": "markdown",
   "id": "a68b75c9",
   "metadata": {},
   "source": [
    "### ez-ex"
   ]
  },
  {
   "cell_type": "code",
   "execution_count": 51,
   "id": "ac69cfb4",
   "metadata": {},
   "outputs": [
    {
     "name": "stdout",
     "output_type": "stream",
     "text": [
      " LHS = <  v|Lu> =    7.6874849209172992E-031\r\n",
      " RHS = <Lᴴv| u> =    8.0918526160201910E-032\r\n",
      " relative difference =    89.473992210374789       %\r\n",
      " ===================================\r\n",
      "   SeisJIMU has finished the job   \r\n",
      "===================================\r\n",
      " System date: 03/31/2024\r\n",
      "System time: 15:37:28\r\n",
      "System timezone: +03:00\r\n",
      "                        \r\n"
     ]
    }
   ],
   "source": [
    "!cp setup_default setup\n",
    "!echo 'SCOMP ez' >> setup\n",
    "!echo 'RCOMP ex' >> setup\n",
    "!../../exe/AdjointTest  setup > out\n",
    "\n",
    "!tail -10 out"
   ]
  },
  {
   "cell_type": "markdown",
   "id": "835ac797",
   "metadata": {},
   "source": [
    " not so successful when close to free surface"
   ]
  },
  {
   "cell_type": "markdown",
   "id": "1a3da4f4",
   "metadata": {},
   "source": [
    "### pz-ez"
   ]
  },
  {
   "cell_type": "code",
   "execution_count": 52,
   "id": "7402ea1f",
   "metadata": {},
   "outputs": [
    {
     "name": "stdout",
     "output_type": "stream",
     "text": [
      " LHS = <  v|Lu> =    1.2091801058102605E-016\r\n",
      " RHS = <Lᴴv| u> =   -3.6047539223158750E-018\r\n",
      " relative difference =    102.98115549949473       %\r\n",
      " ===================================\r\n",
      "   SeisJIMU has finished the job   \r\n",
      "===================================\r\n",
      " System date: 03/31/2024\r\n",
      "System time: 15:37:33\r\n",
      "System timezone: +03:00\r\n",
      "                        \r\n"
     ]
    }
   ],
   "source": [
    "!cp setup_default setup\n",
    "!echo 'SCOMP pz' >> setup\n",
    "!echo 'RCOMP ez' >> setup\n",
    "!../../exe/AdjointTest  setup > out\n",
    "\n",
    "!tail -10 out"
   ]
  },
  {
   "cell_type": "markdown",
   "id": "82ab5055",
   "metadata": {},
   "source": [
    "### px-ez"
   ]
  },
  {
   "cell_type": "code",
   "execution_count": 53,
   "id": "bb5cbee2",
   "metadata": {},
   "outputs": [
    {
     "name": "stdout",
     "output_type": "stream",
     "text": [
      " LHS = <  v|Lu> =    1.6970237282716995E-016\r\n",
      " RHS = <Lᴴv| u> =    1.1882322193819007E-018\r\n",
      " relative difference =    99.299814021697827       %\r\n",
      " ===================================\r\n",
      "   SeisJIMU has finished the job   \r\n",
      "===================================\r\n",
      " System date: 03/31/2024\r\n",
      "System time: 15:37:39\r\n",
      "System timezone: +03:00\r\n",
      "                        \r\n"
     ]
    }
   ],
   "source": [
    "!cp setup_default setup\n",
    "!echo 'SCOMP px' >> setup\n",
    "!echo 'RCOMP ez' >> setup\n",
    "!../../exe/AdjointTest  setup > out\n",
    "\n",
    "!tail -10 out"
   ]
  },
  {
   "cell_type": "markdown",
   "id": "3395003f",
   "metadata": {},
   "source": [
    "### pz-ex"
   ]
  },
  {
   "cell_type": "code",
   "execution_count": 54,
   "id": "b0761afa",
   "metadata": {},
   "outputs": [
    {
     "name": "stdout",
     "output_type": "stream",
     "text": [
      " LHS = <  v|Lu> =    1.5147544705178562E-015\r\n",
      " RHS = <Lᴴv| u> =    2.8017725290599200E-017\r\n",
      " relative difference =    98.150345429842460       %\r\n",
      " ===================================\r\n",
      "   SeisJIMU has finished the job   \r\n",
      "===================================\r\n",
      " System date: 03/31/2024\r\n",
      "System time: 15:37:44\r\n",
      "System timezone: +03:00\r\n",
      "                        \r\n"
     ]
    }
   ],
   "source": [
    "!cp setup_default setup\n",
    "!echo 'SCOMP pz' >> setup\n",
    "!echo 'RCOMP ex' >> setup\n",
    "!../../exe/AdjointTest  setup > out\n",
    "\n",
    "!tail -10 out"
   ]
  },
  {
   "cell_type": "markdown",
   "id": "62bfba52",
   "metadata": {},
   "source": [
    "### px-ex"
   ]
  },
  {
   "cell_type": "code",
   "execution_count": 55,
   "id": "c94786f2",
   "metadata": {},
   "outputs": [
    {
     "name": "stdout",
     "output_type": "stream",
     "text": [
      " LHS = <  v|Lu> =    1.8390010916849090E-015\r\n",
      " RHS = <Lᴴv| u> =    5.8017477549538125E-017\r\n",
      " relative difference =    96.845163506869795       %\r\n",
      " ===================================\r\n",
      "   SeisJIMU has finished the job   \r\n",
      "===================================\r\n",
      " System date: 03/31/2024\r\n",
      "System time: 15:37:51\r\n",
      "System timezone: +03:00\r\n",
      "                        \r\n"
     ]
    }
   ],
   "source": [
    "!cp setup_default setup\n",
    "!echo 'SCOMP px' >> setup\n",
    "!echo 'RCOMP ex' >> setup\n",
    "!../../exe/AdjointTest  setup > out\n",
    "\n",
    "!tail -10 out"
   ]
  },
  {
   "cell_type": "markdown",
   "id": "8dfb104e",
   "metadata": {},
   "source": [
    "### ez-es"
   ]
  },
  {
   "cell_type": "code",
   "execution_count": 56,
   "id": "b6cee991",
   "metadata": {},
   "outputs": [
    {
     "name": "stdout",
     "output_type": "stream",
     "text": [
      " LHS = <  v|Lu> =    5.8379835208620848E-028\r\n",
      " RHS = <Lᴴv| u> =    5.8379864991174054E-028\r\n",
      " relative difference =    5.1015111477412654E-005  %\r\n",
      " ===================================\r\n",
      "   SeisJIMU has finished the job   \r\n",
      "===================================\r\n",
      " System date: 03/31/2024\r\n",
      "System time: 15:37:59\r\n",
      "System timezone: +03:00\r\n",
      "                        \r\n"
     ]
    }
   ],
   "source": [
    "!cp setup_default setup\n",
    "!echo 'SCOMP es'  >> setup\n",
    "!echo 'RCOMP es' >> setup\n",
    "!../../exe/AdjointTest  setup > out\n",
    "\n",
    "!tail -10 out"
   ]
  },
  {
   "cell_type": "markdown",
   "id": "c8958b09",
   "metadata": {},
   "source": [
    "### ex-es"
   ]
  },
  {
   "cell_type": "code",
   "execution_count": 57,
   "id": "56cdffaa",
   "metadata": {},
   "outputs": [
    {
     "name": "stdout",
     "output_type": "stream",
     "text": [
      " LHS = <  v|Lu> =    1.4503304627045737E-030\r\n",
      " RHS = <Lᴴv| u> =   -5.5414940721689648E-030\r\n",
      " relative difference =    482.08492579237401       %\r\n",
      " ===================================\r\n",
      "   SeisJIMU has finished the job   \r\n",
      "===================================\r\n",
      " System date: 03/31/2024\r\n",
      "System time: 15:38:05\r\n",
      "System timezone: +03:00\r\n",
      "                        \r\n"
     ]
    }
   ],
   "source": [
    "!cp setup_default setup\n",
    "!echo 'SCOMP ex'  >> setup\n",
    "!echo 'RCOMP es' >> setup\n",
    "!../../exe/AdjointTest  setup > out\n",
    "\n",
    "!tail -10 out"
   ]
  },
  {
   "cell_type": "code",
   "execution_count": null,
   "id": "ab47cfb8",
   "metadata": {},
   "outputs": [],
   "source": []
  },
  {
   "cell_type": "markdown",
   "id": "f7f22033",
   "metadata": {},
   "source": [
    "## Close to Free Surface w/ Hicks Matrix implementation\n",
    "\n",
    "$$\\frac{1}{8}\\left(\\begin{matrix} -10 & -6 \\\\ 6 & 10 \\end{matrix}\\right)$$\n",
    "\n",
    "FS                      '2 500 500'\n",
    "\n",
    "FR                      '2 10  0'"
   ]
  },
  {
   "cell_type": "code",
   "execution_count": 71,
   "id": "58bf6e4d",
   "metadata": {
    "scrolled": true
   },
   "outputs": [
    {
     "name": "stdout",
     "output_type": "stream",
     "text": [
      "#System\n",
      "(cd ../../Modules/System; make clean)\n",
      "make[1]: Entering directory '/home/wzhou/Codes/GitHub/SeisJIMU/Modules/System'\n",
      "rm m_either.o m_string.o m_mpienv.o m_message.o m_arrayop.o m_setup.o m_sysio.o m_checkpoint.o m_suformat.o m_System.o\n",
      "rm: cannot remove 'm_either.o': No such file or directory\n",
      "rm: cannot remove 'm_string.o': No such file or directory\n",
      "rm: cannot remove 'm_mpienv.o': No such file or directory\n",
      "rm: cannot remove 'm_message.o': No such file or directory\n",
      "rm: cannot remove 'm_arrayop.o': No such file or directory\n",
      "rm: cannot remove 'm_setup.o': No such file or directory\n",
      "rm: cannot remove 'm_sysio.o': No such file or directory\n",
      "rm: cannot remove 'm_checkpoint.o': No such file or directory\n",
      "rm: cannot remove 'm_suformat.o': No such file or directory\n",
      "rm: cannot remove 'm_System.o': No such file or directory\n",
      "make[1]: [Makefile:23: clean] Error 1 (ignored)\n",
      "\n",
      "rm ../../mod/m_either.mod ../../mod/m_string.mod ../../mod/m_mpienv.mod ../../mod/m_message.mod ../../mod/m_arrayop.mod ../../mod/m_setup.mod ../../mod/m_sysio.mod ../../mod/m_checkpoint.mod ../../mod/m_suformat.mod ../../mod/m_System.mod ../../mod/m_system.mod\n",
      "rm: cannot remove '../../mod/m_either.mod': No such file or directory\n",
      "rm: cannot remove '../../mod/m_string.mod': No such file or directory\n",
      "rm: cannot remove '../../mod/m_mpienv.mod': No such file or directory\n",
      "rm: cannot remove '../../mod/m_message.mod': No such file or directory\n",
      "rm: cannot remove '../../mod/m_arrayop.mod': No such file or directory\n",
      "rm: cannot remove '../../mod/m_setup.mod': No such file or directory\n",
      "rm: cannot remove '../../mod/m_sysio.mod': No such file or directory\n",
      "rm: cannot remove '../../mod/m_checkpoint.mod': No such file or directory\n",
      "rm: cannot remove '../../mod/m_suformat.mod': No such file or directory\n",
      "rm: cannot remove '../../mod/m_System.mod': No such file or directory\n",
      "rm: cannot remove '../../mod/m_system.mod': No such file or directory\n",
      "make[1]: [Makefile:25: clean] Error 1 (ignored)\n",
      "\n",
      "make[1]: Leaving directory '/home/wzhou/Codes/GitHub/SeisJIMU/Modules/System'\n",
      "#Etc\n",
      "(cd ../../Modules/Etc; make clean)\n",
      "make[1]: Entering directory '/home/wzhou/Codes/GitHub/SeisJIMU/Modules/Etc'\n",
      "rm sgtsv.o m_math.o singleton.o\n",
      "rm: cannot remove 'sgtsv.o': No such file or directory\n",
      "rm: cannot remove 'm_math.o': No such file or directory\n",
      "rm: cannot remove 'singleton.o': No such file or directory\n",
      "make[1]: [Makefile:18: clean] Error 1 (ignored)\n",
      "\n",
      "rm ../../mod/m_math.mod ../../mod/singleton.mod\n",
      "rm: cannot remove '../../mod/m_math.mod': No such file or directory\n",
      "rm: cannot remove '../../mod/singleton.mod': No such file or directory\n",
      "make[1]: [Makefile:20: clean] Error 1 (ignored)\n",
      "\n",
      "make[1]: Leaving directory '/home/wzhou/Codes/GitHub/SeisJIMU/Modules/Etc'\n",
      "#Signal\n",
      "(cd ../../Modules/Signal; make clean)\n",
      "make[1]: Entering directory '/home/wzhou/Codes/GitHub/SeisJIMU/Modules/Signal'\n",
      "rm m_hicks.o m_butterworth.o m_resampler.o m_wavelet.o m_matchfilter.o m_Hilbert.o m_Lpnorm.o m_pseudotime.o m_smoother_Laplacian_sparse.o\n",
      "rm: cannot remove 'm_hicks.o': No such file or directory\n",
      "rm: cannot remove 'm_butterworth.o': No such file or directory\n",
      "rm: cannot remove 'm_resampler.o': No such file or directory\n",
      "rm: cannot remove 'm_wavelet.o': No such file or directory\n",
      "rm: cannot remove 'm_matchfilter.o': No such file or directory\n",
      "rm: cannot remove 'm_Hilbert.o': No such file or directory\n",
      "rm: cannot remove 'm_Lpnorm.o': No such file or directory\n",
      "rm: cannot remove 'm_pseudotime.o': No such file or directory\n",
      "rm: cannot remove 'm_smoother_Laplacian_sparse.o': No such file or directory\n",
      "make[1]: [Makefile:22: clean] Error 1 (ignored)\n",
      "\n",
      "rm ../../mod/m_hicks.mod ../../mod/m_butterworth.mod ../../mod/m_resampler.mod ../../mod/m_wavelet.mod ../../mod/m_matchfilter.mod ../../mod/m_Hilbert.mod ../../mod/m_Lpnorm.mod ../../mod/m_pseudotime.mod ../../mod/m_smoother_Laplacian_sparse.mod  ../../mod/m_lpnorm.mod ../../mod/m_smoother_laplacian_sparse.mod\n",
      "rm: cannot remove '../../mod/m_hicks.mod': No such file or directory\n",
      "rm: cannot remove '../../mod/m_butterworth.mod': No such file or directory\n",
      "rm: cannot remove '../../mod/m_resampler.mod': No such file or directory\n",
      "rm: cannot remove '../../mod/m_wavelet.mod': No such file or directory\n",
      "rm: cannot remove '../../mod/m_matchfilter.mod': No such file or directory\n",
      "rm: cannot remove '../../mod/m_Hilbert.mod': No such file or directory\n",
      "rm: cannot remove '../../mod/m_Lpnorm.mod': No such file or directory\n",
      "rm: cannot remove '../../mod/m_pseudotime.mod': No such file or directory\n",
      "rm: cannot remove '../../mod/m_smoother_Laplacian_sparse.mod': No such file or directory\n",
      "rm: cannot remove '../../mod/m_lpnorm.mod': No such file or directory\n",
      "rm: cannot remove '../../mod/m_smoother_laplacian_sparse.mod': No such file or directory\n",
      "make[1]: [Makefile:24: clean] Error 1 (ignored)\n",
      "\n",
      "make[1]: Leaving directory '/home/wzhou/Codes/GitHub/SeisJIMU/Modules/Signal'\n",
      "#Modeling\n",
      "(cd ../../Modules/Modeling; make clean)\n",
      "make[1]: Entering directory '/home/wzhou/Codes/GitHub/SeisJIMU/Modules/Modeling'\n",
      "rm *.o\n",
      "rm: cannot remove '*.o': No such file or directory\n",
      "make[1]: [Makefile:22: clean] Error 1 (ignored)\n",
      "\n",
      "rm ../../mod/m_model.mod ../../mod/m_shotlist_batching.mod ../../mod/m_shot.mod ../../mod/m_computebox.mod ../../mod/m_field.mod ../../mod/m_correlate.mod ../../mod/m_cpml.mod ../../mod/m_propagator_DAS_FDSG_O4.mod ../../mod/m_Modeling.mod ../../mod/m_shotlist.mod ../../mod/m_cpml.mod ../../mod/m_propagator.mod ../../mod/m_modeling.mod ../../mod/m_propagator_WPI.mod\n",
      "rm: cannot remove '../../mod/m_model.mod': No such file or directory\n",
      "rm: cannot remove '../../mod/m_shotlist_batching.mod': No such file or directory\n",
      "rm: cannot remove '../../mod/m_shot.mod': No such file or directory\n",
      "rm: cannot remove '../../mod/m_computebox.mod': No such file or directory\n",
      "rm: cannot remove '../../mod/m_field.mod': No such file or directory\n",
      "rm: cannot remove '../../mod/m_correlate.mod': No such file or directory\n",
      "rm: cannot remove '../../mod/m_cpml.mod': No such file or directory\n",
      "rm: cannot remove '../../mod/m_propagator_DAS_FDSG_O4.mod': No such file or directory\n",
      "rm: cannot remove '../../mod/m_Modeling.mod': No such file or directory\n",
      "rm: cannot remove '../../mod/m_shotlist.mod': No such file or directory\n",
      "rm: cannot remove '../../mod/m_cpml.mod': No such file or directory\n",
      "rm: cannot remove '../../mod/m_propagator.mod': No such file or directory\n",
      "rm: cannot remove '../../mod/m_modeling.mod': No such file or directory\n",
      "rm: cannot remove '../../mod/m_propagator_WPI.mod': No such file or directory\n",
      "make[1]: [Makefile:24: clean] Error 1 (ignored)\n",
      "\n",
      "make[1]: Leaving directory '/home/wzhou/Codes/GitHub/SeisJIMU/Modules/Modeling'\n",
      "#\n",
      "make clean\n",
      "make[1]: Entering directory '/home/wzhou/Codes/GitHub/SeisJIMU/Demo/03_AdjointTest'\n",
      "rm main.o\n",
      "rm: cannot remove 'main.o': No such file or directory\n",
      "make[1]: [Makefile:38: clean] Error 1 (ignored)\n",
      "make[1]: Leaving directory '/home/wzhou/Codes/GitHub/SeisJIMU/Demo/03_AdjointTest'\n",
      "#System\n",
      "(cd ../../Modules/System; make)\n",
      "make[1]: Entering directory '/home/wzhou/Codes/GitHub/SeisJIMU/Modules/System'\n",
      "mpif90 -cpp -Dgfortran -D\"git_commit='c925b17'\" -D\"git_branch='DAS_FS'\" -Ofast -fopenmp -ffree-line-length-none -fbacktrace  -fno-unsafe-math-optimizations -frounding-math -fsignaling-nans -J ../../mod/ -c m_either.f90 -o m_either.o\n",
      "\n",
      "mpif90 -cpp -Dgfortran -D\"git_commit='c925b17'\" -D\"git_branch='DAS_FS'\" -Ofast -fopenmp -ffree-line-length-none -fbacktrace  -fno-unsafe-math-optimizations -frounding-math -fsignaling-nans -J ../../mod/ -c m_string.f90 -o m_string.o\n",
      "\n",
      "mpif90 -cpp -Dgfortran -D\"git_commit='c925b17'\" -D\"git_branch='DAS_FS'\" -Ofast -fopenmp -ffree-line-length-none -fbacktrace  -fno-unsafe-math-optimizations -frounding-math -fsignaling-nans -J ../../mod/ -c m_mpienv.f90 -o m_mpienv.o\n",
      "\n",
      "mpif90 -cpp -Dgfortran -D\"git_commit='c925b17'\" -D\"git_branch='DAS_FS'\" -Ofast -fopenmp -ffree-line-length-none -fbacktrace  -fno-unsafe-math-optimizations -frounding-math -fsignaling-nans -J ../../mod/ -c m_message.f90 -o m_message.o\n",
      "\n",
      "mpif90 -cpp -Dgfortran -D\"git_commit='c925b17'\" -D\"git_branch='DAS_FS'\" -Ofast -fopenmp -ffree-line-length-none -fbacktrace  -fno-unsafe-math-optimizations -frounding-math -fsignaling-nans -J ../../mod/ -c m_arrayop.f90 -o m_arrayop.o\n"
     ]
    },
    {
     "name": "stdout",
     "output_type": "stream",
     "text": [
      "\n",
      "mpif90 -cpp -Dgfortran -D\"git_commit='c925b17'\" -D\"git_branch='DAS_FS'\" -Ofast -fopenmp -ffree-line-length-none -fbacktrace  -fno-unsafe-math-optimizations -frounding-math -fsignaling-nans -J ../../mod/ -c m_setup.f90 -o m_setup.o\n",
      "\n",
      "mpif90 -cpp -Dgfortran -D\"git_commit='c925b17'\" -D\"git_branch='DAS_FS'\" -Ofast -fopenmp -ffree-line-length-none -fbacktrace  -fno-unsafe-math-optimizations -frounding-math -fsignaling-nans -J ../../mod/ -c m_sysio.f90 -o m_sysio.o\n",
      "\n",
      "mpif90 -cpp -Dgfortran -D\"git_commit='c925b17'\" -D\"git_branch='DAS_FS'\" -Ofast -fopenmp -ffree-line-length-none -fbacktrace  -fno-unsafe-math-optimizations -frounding-math -fsignaling-nans -J ../../mod/ -c m_checkpoint.f90 -o m_checkpoint.o\n",
      "\n",
      "mpif90 -cpp -Dgfortran -D\"git_commit='c925b17'\" -D\"git_branch='DAS_FS'\" -Ofast -fopenmp -ffree-line-length-none -fbacktrace  -fno-unsafe-math-optimizations -frounding-math -fsignaling-nans -J ../../mod/ -c m_suformat.f90 -o m_suformat.o\n",
      "\n",
      "mpif90 -cpp -Dgfortran -D\"git_commit='c925b17'\" -D\"git_branch='DAS_FS'\" -Ofast -fopenmp -ffree-line-length-none -fbacktrace  -fno-unsafe-math-optimizations -frounding-math -fsignaling-nans -J ../../mod/ -c m_System.f90 -o m_System.o\n",
      "\n",
      "\n",
      "make[1]: Leaving directory '/home/wzhou/Codes/GitHub/SeisJIMU/Modules/System'\n",
      "#Etc\n",
      "(cd ../../Modules/Etc; make)\n",
      "make[1]: Entering directory '/home/wzhou/Codes/GitHub/SeisJIMU/Modules/Etc'\n",
      "mpif77        -Ofast -fopenmp                         -fbacktrace          -c sgtsv.f -o sgtsv.o\n",
      "\n",
      "mpif90 -cpp -Dgfortran -D\"git_commit='c925b17'\" -D\"git_branch='DAS_FS'\" -Ofast -fopenmp -ffree-line-length-none -fbacktrace  -fno-unsafe-math-optimizations -frounding-math -fsignaling-nans -J ../../mod/ -c m_math.f90 -o m_math.o\n",
      "\n",
      "mpif90 -cpp -Dgfortran -D\"git_commit='c925b17'\" -D\"git_branch='DAS_FS'\" -Ofast -fopenmp -ffree-line-length-none -fbacktrace  -fno-unsafe-math-optimizations -frounding-math -fsignaling-nans -J ../../mod/ -c singleton.f90 -o singleton.o\n",
      "\n",
      "\n",
      "make[1]: Leaving directory '/home/wzhou/Codes/GitHub/SeisJIMU/Modules/Etc'\n",
      "#Signal\n",
      "(cd ../../Modules/Signal; make)\n",
      "make[1]: Entering directory '/home/wzhou/Codes/GitHub/SeisJIMU/Modules/Signal'\n",
      "mpif90 -cpp -Dgfortran -D\"git_commit='c925b17'\" -D\"git_branch='DAS_FS'\" -Ofast -fopenmp -ffree-line-length-none -fbacktrace  -fno-unsafe-math-optimizations -frounding-math -fsignaling-nans -J ../../mod/ -c m_hicks.f90 -o m_hicks.o\n",
      "\n",
      "mpif90 -cpp -Dgfortran -D\"git_commit='c925b17'\" -D\"git_branch='DAS_FS'\" -Ofast -fopenmp -ffree-line-length-none -fbacktrace  -fno-unsafe-math-optimizations -frounding-math -fsignaling-nans -J ../../mod/ -c m_butterworth.f90 -o m_butterworth.o\n",
      "\n",
      "mpif90 -cpp -Dgfortran -D\"git_commit='c925b17'\" -D\"git_branch='DAS_FS'\" -Ofast -fopenmp -ffree-line-length-none -fbacktrace  -fno-unsafe-math-optimizations -frounding-math -fsignaling-nans -J ../../mod/ -c m_resampler.f90 -o m_resampler.o\n",
      "\n",
      "mpif90 -cpp -Dgfortran -D\"git_commit='c925b17'\" -D\"git_branch='DAS_FS'\" -Ofast -fopenmp -ffree-line-length-none -fbacktrace  -fno-unsafe-math-optimizations -frounding-math -fsignaling-nans -J ../../mod/ -c m_wavelet.f90 -o m_wavelet.o\n",
      "\n",
      "mpif90 -cpp -Dgfortran -D\"git_commit='c925b17'\" -D\"git_branch='DAS_FS'\" -Ofast -fopenmp -ffree-line-length-none -fbacktrace  -fno-unsafe-math-optimizations -frounding-math -fsignaling-nans -J ../../mod/ -c m_matchfilter.f90 -o m_matchfilter.o\n",
      "\n",
      "mpif90 -cpp -Dgfortran -D\"git_commit='c925b17'\" -D\"git_branch='DAS_FS'\" -Ofast -fopenmp -ffree-line-length-none -fbacktrace  -fno-unsafe-math-optimizations -frounding-math -fsignaling-nans -J ../../mod/ -c m_Hilbert.f90 -o m_Hilbert.o\n",
      "\n",
      "mpif90 -cpp -Dgfortran -D\"git_commit='c925b17'\" -D\"git_branch='DAS_FS'\" -Ofast -fopenmp -ffree-line-length-none -fbacktrace  -fno-unsafe-math-optimizations -frounding-math -fsignaling-nans -J ../../mod/ -c m_Lpnorm.f90 -o m_Lpnorm.o\n",
      "\n",
      "mpif90 -cpp -Dgfortran -D\"git_commit='c925b17'\" -D\"git_branch='DAS_FS'\" -Ofast -fopenmp -ffree-line-length-none -fbacktrace  -fno-unsafe-math-optimizations -frounding-math -fsignaling-nans -J ../../mod/ -c m_pseudotime.f90 -o m_pseudotime.o\n",
      "\n",
      "mpif90 -cpp -Dgfortran -D\"git_commit='c925b17'\" -D\"git_branch='DAS_FS'\" -Ofast -fopenmp -ffree-line-length-none -fbacktrace  -fno-unsafe-math-optimizations -frounding-math -fsignaling-nans -J ../../mod/ -c m_smoother_Laplacian_sparse.f90 -o m_smoother_Laplacian_sparse.o\n",
      "\n",
      "\n",
      "make[1]: Leaving directory '/home/wzhou/Codes/GitHub/SeisJIMU/Modules/Signal'\n",
      "#Modeling\n",
      "(cd ../../Modules/Modeling; make)\n",
      "make[1]: Entering directory '/home/wzhou/Codes/GitHub/SeisJIMU/Modules/Modeling'\n",
      "mpif90 -cpp -Dgfortran -D\"git_commit='c925b17'\" -D\"git_branch='DAS_FS'\" -Ofast -fopenmp -ffree-line-length-none -fbacktrace  -fno-unsafe-math-optimizations -frounding-math -fsignaling-nans -J ../../mod/ -c m_model.f90 -o m_model.o\n",
      "\n",
      "mpif90 -cpp -Dgfortran -D\"git_commit='c925b17'\" -D\"git_branch='DAS_FS'\" -Ofast -fopenmp -ffree-line-length-none -fbacktrace  -fno-unsafe-math-optimizations -frounding-math -fsignaling-nans -J ../../mod/ -c m_shotlist_batching.f90 -o m_shotlist_batching.o\n",
      "\n",
      "mpif90 -cpp -Dgfortran -D\"git_commit='c925b17'\" -D\"git_branch='DAS_FS'\" -Ofast -fopenmp -ffree-line-length-none -fbacktrace  -fno-unsafe-math-optimizations -frounding-math -fsignaling-nans -J ../../mod/ -c m_shot.f90 -o m_shot.o\n",
      "\n",
      "mpif90 -cpp -Dgfortran -D\"git_commit='c925b17'\" -D\"git_branch='DAS_FS'\" -Ofast -fopenmp -ffree-line-length-none -fbacktrace  -fno-unsafe-math-optimizations -frounding-math -fsignaling-nans -J ../../mod/ -c m_computebox.f90 -o m_computebox.o\n",
      "\n",
      "mpif90 -cpp -Dgfortran -D\"git_commit='c925b17'\" -D\"git_branch='DAS_FS'\" -Ofast -fopenmp -ffree-line-length-none -fbacktrace  -fno-unsafe-math-optimizations -frounding-math -fsignaling-nans -J ../../mod/ -c m_field.f90 -o m_field.o\n",
      "\n",
      "mpif90 -cpp -Dgfortran -D\"git_commit='c925b17'\" -D\"git_branch='DAS_FS'\" -Ofast -fopenmp -ffree-line-length-none -fbacktrace  -fno-unsafe-math-optimizations -frounding-math -fsignaling-nans -J ../../mod/ -c m_correlate.f90 -o m_correlate.o\n",
      "\n",
      "mpif90 -cpp -Dgfortran -D\"git_commit='c925b17'\" -D\"git_branch='DAS_FS'\" -Ofast -fopenmp -ffree-line-length-none -fbacktrace  -fno-unsafe-math-optimizations -frounding-math -fsignaling-nans -J ../../mod/ -c m_cpml.f90 -o m_cpml.o\n",
      "\n",
      "mpif90 -cpp -Dgfortran -D\"git_commit='c925b17'\" -D\"git_branch='DAS_FS'\" -Ofast -fopenmp -ffree-line-length-none -fbacktrace  -fno-unsafe-math-optimizations -frounding-math -fsignaling-nans -J ../../mod/ -c m_propagator_DAS_FDSG_O4.f90 -o m_propagator_DAS_FDSG_O4.o\n",
      "\n",
      "mpif90 -cpp -Dgfortran -D\"git_commit='c925b17'\" -D\"git_branch='DAS_FS'\" -Ofast -fopenmp -ffree-line-length-none -fbacktrace  -fno-unsafe-math-optimizations -frounding-math -fsignaling-nans -J ../../mod/ -c m_Modeling.f90 -o m_Modeling.o\n",
      "\n",
      "\n",
      "make[1]: Leaving directory '/home/wzhou/Codes/GitHub/SeisJIMU/Modules/Modeling'\n",
      "mpif90 -cpp -Dgfortran -D\"git_commit='c925b17'\" -D\"git_branch='DAS_FS'\" -Ofast -fopenmp -ffree-line-length-none -fbacktrace  -fno-unsafe-math-optimizations -frounding-math -fsignaling-nans -J ../../mod/ -c main.f90 -o main.o\n",
      "\n",
      "mpif90 -Ofast -fopenmp -ffree-line-length-none -fbacktrace  -fno-unsafe-math-optimizations -frounding-math -fsignaling-nans -J ../../mod/ ../../Modules/System/*.o ../../Modules/Etc/*.o ../../Modules/Signal/*.o ../../Modules/Modeling/m_model.o ../../Modules/Modeling/m_shotlist_batching.o ../../Modules/Modeling/m_shot.o ../../Modules/Modeling/m_computebox.o ../../Modules/Modeling/m_field.o ../../Modules/Modeling/m_correlate.o ../../Modules/Modeling/m_cpml.o ../../Modules/Modeling/m_propagator_DAS_FDSG_O4.o ../../Modules/Modeling/m_Modeling.o main.o -o ../../exe/adjointtest_DAS_FDSG_O4\n",
      "\u001b[01m\u001b[K../../Modules/Modeling/m_correlate.f90:117:140:\u001b[m\u001b[K \u001b[01;35m\u001b[Kwarning: \u001b[m\u001b[Ktype of ‘\u001b[01m\u001b[Kmpi_reduce\u001b[m\u001b[K’ does not match original declaration [\u001b[01;35m\u001b[K\u001b]8;;https://gcc.gnu.org/onlinedocs/gcc/Warning-Options.html#index-Wlto-type-mismatch\u0007-Wlto-type-mismatch\u001b]8;;\u0007\u001b[m\u001b[K]\n",
      "  117 | gkpa,  m%n, mpi_real, mpi_sum, 0, mpiworld%communicator, mpiworld%ierr)\n",
      "      |                                                                       \u001b[01;35m\u001b[K^\u001b[m\u001b[K\n",
      "\n",
      "\u001b[01m\u001b[K../../Modules/System/m_mpienv.f90:140:90:\u001b[m\u001b[K \u001b[01;36m\u001b[Knote: \u001b[m\u001b[K‘\u001b[01m\u001b[Kmpi_reduce\u001b[m\u001b[K’ was previously declared here\n",
      "  140 | duce(array, tmp, n, mpi_real, mpi_sum, 0, self%communicator, self%ierr)\n",
      "      |                                                                       \u001b[01;36m\u001b[K^\u001b[m\u001b[K\n",
      "\n",
      "\u001b[01m\u001b[K../../Modules/System/m_mpienv.f90:140:90:\u001b[m\u001b[K \u001b[01;36m\u001b[Knote: \u001b[m\u001b[Kcode may be misoptimized unless ‘\u001b[01m\u001b[K-fno-strict-aliasing\u001b[m\u001b[K’ is used\n"
     ]
    },
    {
     "name": "stdout",
     "output_type": "stream",
     "text": [
      "(cd ../../exe; ln -sf adjointtest_DAS_FDSG_O4 AdjointTest )\r\n"
     ]
    }
   ],
   "source": [
    "!cd ../../; sed -i 's/WaveEq=PSV/WaveEq=DAS/' modules.inc\n",
    "#!make\n",
    "!make cleanall; make"
   ]
  },
  {
   "cell_type": "markdown",
   "id": "5bfc9d65",
   "metadata": {},
   "source": [
    "### ez-ez"
   ]
  },
  {
   "cell_type": "code",
   "execution_count": 72,
   "id": "c8ccb441",
   "metadata": {},
   "outputs": [
    {
     "name": "stdout",
     "output_type": "stream",
     "text": [
      " LHS = <  v|Lu> =    3.0880803288032010E-030\r\n",
      " RHS = <Lᴴv| u> =    2.3661214316559684E-030\r\n",
      " relative difference =    23.378889804561233       %\r\n",
      " ===================================\r\n",
      "   SeisJIMU has finished the job   \r\n",
      "===================================\r\n",
      " System date: 03/31/2024\r\n",
      "System time: 15:43:41\r\n",
      "System timezone: +03:00\r\n",
      "                        \r\n"
     ]
    }
   ],
   "source": [
    "!cp setup_default setup\n",
    "!echo 'SCOMP ez' >> setup\n",
    "!echo 'RCOMP ez' >> setup\n",
    "!../../exe/AdjointTest  setup > out\n",
    "\n",
    "!tail -10 out"
   ]
  },
  {
   "cell_type": "markdown",
   "id": "dc574d2a",
   "metadata": {},
   "source": [
    "### ex-ex"
   ]
  },
  {
   "cell_type": "code",
   "execution_count": 73,
   "id": "2fe0cb68",
   "metadata": {},
   "outputs": [
    {
     "name": "stdout",
     "output_type": "stream",
     "text": [
      " LHS = <  v|Lu> =    1.8572989708558327E-030\r\n",
      " RHS = <Lᴴv| u> =    3.5368594486222208E-031\r\n",
      " relative difference =    80.956972980001936       %\r\n",
      " ===================================\r\n",
      "   SeisJIMU has finished the job   \r\n",
      "===================================\r\n",
      " System date: 03/31/2024\r\n",
      "System time: 15:43:47\r\n",
      "System timezone: +03:00\r\n",
      "                        \r\n"
     ]
    }
   ],
   "source": [
    "!cp setup_default setup\n",
    "!echo 'SCOMP ex' >> setup\n",
    "!echo 'RCOMP ex'  >> setup\n",
    "!../../exe/AdjointTest  setup > out\n",
    "\n",
    "!tail -10 out"
   ]
  },
  {
   "cell_type": "markdown",
   "id": "595143c4",
   "metadata": {},
   "source": [
    "### ez-ex"
   ]
  },
  {
   "cell_type": "code",
   "execution_count": 74,
   "id": "f2108264",
   "metadata": {},
   "outputs": [
    {
     "name": "stdout",
     "output_type": "stream",
     "text": [
      " LHS = <  v|Lu> =    1.3777248166989201E-029\r\n",
      " RHS = <Lᴴv| u> =    5.1895947355978484E-032\r\n",
      " relative difference =    99.623321386629854       %\r\n",
      " ===================================\r\n",
      "   SeisJIMU has finished the job   \r\n",
      "===================================\r\n",
      " System date: 03/31/2024\r\n",
      "System time: 15:43:55\r\n",
      "System timezone: +03:00\r\n",
      "                        \r\n"
     ]
    }
   ],
   "source": [
    "!cp setup_default setup\n",
    "!echo 'SCOMP ez' >> setup\n",
    "!echo 'RCOMP ex' >> setup\n",
    "!../../exe/AdjointTest  setup > out\n",
    "\n",
    "!tail -10 out"
   ]
  },
  {
   "cell_type": "markdown",
   "id": "9629006d",
   "metadata": {},
   "source": [
    " not so successful when close to free surface"
   ]
  },
  {
   "cell_type": "markdown",
   "id": "3f838e33",
   "metadata": {},
   "source": [
    "### pz-ez"
   ]
  },
  {
   "cell_type": "code",
   "execution_count": 75,
   "id": "5027e12b",
   "metadata": {},
   "outputs": [
    {
     "name": "stdout",
     "output_type": "stream",
     "text": [
      " LHS = <  v|Lu> =    1.2091801058102605E-016\r\n",
      " RHS = <Lᴴv| u> =   -6.4647013016530248E-018\r\n",
      " relative difference =    105.34635102793153       %\r\n",
      " ===================================\r\n",
      "   SeisJIMU has finished the job   \r\n",
      "===================================\r\n",
      " System date: 03/31/2024\r\n",
      "System time: 15:44:01\r\n",
      "System timezone: +03:00\r\n",
      "                        \r\n"
     ]
    }
   ],
   "source": [
    "!cp setup_default setup\n",
    "!echo 'SCOMP pz' >> setup\n",
    "!echo 'RCOMP ez' >> setup\n",
    "!../../exe/AdjointTest  setup > out\n",
    "\n",
    "!tail -10 out"
   ]
  },
  {
   "cell_type": "markdown",
   "id": "f62b3ec9",
   "metadata": {},
   "source": [
    "### px-ez"
   ]
  },
  {
   "cell_type": "code",
   "execution_count": 76,
   "id": "fb379ee0",
   "metadata": {},
   "outputs": [
    {
     "name": "stdout",
     "output_type": "stream",
     "text": [
      " LHS = <  v|Lu> =    1.6970237282716995E-016\r\n",
      " RHS = <Lᴴv| u> =    1.8130899992492016E-017\r\n",
      " relative difference =    89.316059822594767       %\r\n",
      " ===================================\r\n",
      "   SeisJIMU has finished the job   \r\n",
      "===================================\r\n",
      " System date: 03/31/2024\r\n",
      "System time: 15:44:09\r\n",
      "System timezone: +03:00\r\n",
      "                        \r\n"
     ]
    }
   ],
   "source": [
    "!cp setup_default setup\n",
    "!echo 'SCOMP px' >> setup\n",
    "!echo 'RCOMP ez' >> setup\n",
    "!../../exe/AdjointTest  setup > out\n",
    "\n",
    "!tail -10 out"
   ]
  },
  {
   "cell_type": "markdown",
   "id": "dcbb0729",
   "metadata": {},
   "source": [
    "### pz-ex"
   ]
  },
  {
   "cell_type": "code",
   "execution_count": 77,
   "id": "5d918e56",
   "metadata": {},
   "outputs": [
    {
     "name": "stdout",
     "output_type": "stream",
     "text": [
      " LHS = <  v|Lu> =    1.5147544705178562E-015\r\n",
      " RHS = <Lᴴv| u> =    3.3261163080291644E-017\r\n",
      " relative difference =    97.804187825310024       %\r\n",
      " ===================================\r\n",
      "   SeisJIMU has finished the job   \r\n",
      "===================================\r\n",
      " System date: 03/31/2024\r\n",
      "System time: 15:44:15\r\n",
      "System timezone: +03:00\r\n",
      "                        \r\n"
     ]
    }
   ],
   "source": [
    "!cp setup_default setup\n",
    "!echo 'SCOMP pz' >> setup\n",
    "!echo 'RCOMP ex' >> setup\n",
    "!../../exe/AdjointTest  setup > out\n",
    "\n",
    "!tail -10 out"
   ]
  },
  {
   "cell_type": "markdown",
   "id": "8d033030",
   "metadata": {},
   "source": [
    "### px-ex"
   ]
  },
  {
   "cell_type": "code",
   "execution_count": 78,
   "id": "287c1d72",
   "metadata": {},
   "outputs": [
    {
     "name": "stdout",
     "output_type": "stream",
     "text": [
      " LHS = <  v|Lu> =    1.8390010916849090E-015\r\n",
      " RHS = <Lᴴv| u> =    4.2013113127322226E-017\r\n",
      " relative difference =    97.715438380255151       %\r\n",
      " ===================================\r\n",
      "   SeisJIMU has finished the job   \r\n",
      "===================================\r\n",
      " System date: 03/31/2024\r\n",
      "System time: 15:44:24\r\n",
      "System timezone: +03:00\r\n",
      "                        \r\n"
     ]
    }
   ],
   "source": [
    "!cp setup_default setup\n",
    "!echo 'SCOMP px' >> setup\n",
    "!echo 'RCOMP ex' >> setup\n",
    "!../../exe/AdjointTest  setup > out\n",
    "\n",
    "!tail -10 out"
   ]
  },
  {
   "cell_type": "markdown",
   "id": "130d654f",
   "metadata": {},
   "source": [
    "### es-es"
   ]
  },
  {
   "cell_type": "code",
   "execution_count": 79,
   "id": "956a0f83",
   "metadata": {},
   "outputs": [
    {
     "name": "stdout",
     "output_type": "stream",
     "text": [
      " LHS = <  v|Lu> =    5.8379835208620848E-028\r\n",
      " RHS = <Lᴴv| u> =    5.8379864991174054E-028\r\n",
      " relative difference =    5.1015111477412654E-005  %\r\n",
      " ===================================\r\n",
      "   SeisJIMU has finished the job   \r\n",
      "===================================\r\n",
      " System date: 03/31/2024\r\n",
      "System time: 15:44:31\r\n",
      "System timezone: +03:00\r\n",
      "                        \r\n"
     ]
    }
   ],
   "source": [
    "!cp setup_default setup\n",
    "!echo 'SCOMP es' >> setup\n",
    "!echo 'RCOMP es' >> setup\n",
    "!../../exe/AdjointTest  setup > out\n",
    "\n",
    "!tail -10 out"
   ]
  },
  {
   "cell_type": "markdown",
   "id": "ccc728e6",
   "metadata": {},
   "source": [
    "### pz-es"
   ]
  },
  {
   "cell_type": "code",
   "execution_count": 80,
   "id": "04adb51f",
   "metadata": {},
   "outputs": [
    {
     "name": "stdout",
     "output_type": "stream",
     "text": [
      " LHS = <  v|Lu> =    7.3793373687678673E-016\r\n",
      " RHS = <Lᴴv| u> =    7.3925067219252481E-016\r\n",
      " relative difference =   0.17814462201734779       %\r\n",
      " ===================================\r\n",
      "   SeisJIMU has finished the job   \r\n",
      "===================================\r\n",
      " System date: 03/31/2024\r\n",
      "System time: 15:44:38\r\n",
      "System timezone: +03:00\r\n",
      "                        \r\n"
     ]
    }
   ],
   "source": [
    "!cp setup_default setup\n",
    "!echo 'SCOMP pz' >> setup\n",
    "!echo 'RCOMP es' >> setup\n",
    "!../../exe/AdjointTest  setup > out\n",
    "\n",
    "!tail -10 out"
   ]
  },
  {
   "cell_type": "markdown",
   "id": "2c64b51f",
   "metadata": {},
   "source": [
    "### px-es"
   ]
  },
  {
   "cell_type": "code",
   "execution_count": 81,
   "id": "0c2f3860",
   "metadata": {},
   "outputs": [
    {
     "name": "stdout",
     "output_type": "stream",
     "text": [
      " LHS = <  v|Lu> =    5.0020269075732602E-016\r\n",
      " RHS = <Lᴴv| u> =    5.0103176968889599E-016\r\n",
      " relative difference =   0.16547432353137326       %\r\n",
      " ===================================\r\n",
      "   SeisJIMU has finished the job   \r\n",
      "===================================\r\n",
      " System date: 03/31/2024\r\n",
      "System time: 15:44:43\r\n",
      "System timezone: +03:00\r\n",
      "                        \r\n"
     ]
    }
   ],
   "source": [
    "!cp setup_default setup\n",
    "!echo 'SCOMP px' >> setup\n",
    "!echo 'RCOMP es' >> setup\n",
    "!../../exe/AdjointTest  setup > out\n",
    "\n",
    "!tail -10 out"
   ]
  },
  {
   "cell_type": "markdown",
   "id": "5e60943f",
   "metadata": {},
   "source": [
    "### ez-es"
   ]
  },
  {
   "cell_type": "code",
   "execution_count": 82,
   "id": "f7821bbc",
   "metadata": {},
   "outputs": [
    {
     "name": "stdout",
     "output_type": "stream",
     "text": [
      " LHS = <  v|Lu> =    5.8379835208620848E-028\r\n",
      " RHS = <Lᴴv| u> =    5.8379864991174054E-028\r\n",
      " relative difference =    5.1015111477412654E-005  %\r\n",
      " ===================================\r\n",
      "   SeisJIMU has finished the job   \r\n",
      "===================================\r\n",
      " System date: 03/31/2024\r\n",
      "System time: 15:44:49\r\n",
      "System timezone: +03:00\r\n",
      "                        \r\n"
     ]
    }
   ],
   "source": [
    "!cp setup_default setup\n",
    "!echo 'SCOMP es'  >> setup\n",
    "!echo 'RCOMP es' >> setup\n",
    "!../../exe/AdjointTest  setup > out\n",
    "\n",
    "!tail -10 out"
   ]
  },
  {
   "cell_type": "markdown",
   "id": "1f8f2075",
   "metadata": {},
   "source": [
    "### ex-es"
   ]
  },
  {
   "cell_type": "code",
   "execution_count": 83,
   "id": "abbfced7",
   "metadata": {},
   "outputs": [
    {
     "name": "stdout",
     "output_type": "stream",
     "text": [
      " LHS = <  v|Lu> =    3.1394919032235150E-030\r\n",
      " RHS = <Lᴴv| u> =   -7.4777444888255811E-030\r\n",
      " relative difference =    338.18327039313931       %\r\n",
      " ===================================\r\n",
      "   SeisJIMU has finished the job   \r\n",
      "===================================\r\n",
      " System date: 03/31/2024\r\n",
      "System time: 15:44:54\r\n",
      "System timezone: +03:00\r\n",
      "                        \r\n"
     ]
    }
   ],
   "source": [
    "!cp setup_default setup\n",
    "!echo 'SCOMP ex'  >> setup\n",
    "!echo 'RCOMP es' >> setup\n",
    "!../../exe/AdjointTest  setup > out\n",
    "\n",
    "!tail -10 out"
   ]
  }
 ],
 "metadata": {
  "kernelspec": {
   "display_name": "Python 3 (ipykernel)",
   "language": "python",
   "name": "python3"
  },
  "language_info": {
   "codemirror_mode": {
    "name": "ipython",
    "version": 3
   },
   "file_extension": ".py",
   "mimetype": "text/x-python",
   "name": "python",
   "nbconvert_exporter": "python",
   "pygments_lexer": "ipython3",
   "version": "3.10.12"
  },
  "toc": {
   "base_numbering": 1,
   "nav_menu": {},
   "number_sections": true,
   "sideBar": true,
   "skip_h1_title": false,
   "title_cell": "Table of Contents",
   "title_sidebar": "Contents",
   "toc_cell": false,
   "toc_position": {
    "height": "calc(100% - 180px)",
    "left": "10px",
    "top": "150px",
    "width": "336.833px"
   },
   "toc_section_display": true,
   "toc_window_display": true
  },
  "varInspector": {
   "cols": {
    "lenName": 16,
    "lenType": 16,
    "lenVar": 40
   },
   "kernels_config": {
    "python": {
     "delete_cmd_postfix": "",
     "delete_cmd_prefix": "del ",
     "library": "var_list.py",
     "varRefreshCmd": "print(var_dic_list())"
    },
    "r": {
     "delete_cmd_postfix": ") ",
     "delete_cmd_prefix": "rm(",
     "library": "var_list.r",
     "varRefreshCmd": "cat(var_dic_list()) "
    }
   },
   "position": {
    "height": "447.85px",
    "left": "1453.67px",
    "right": "20px",
    "top": "120px",
    "width": "341.333px"
   },
   "types_to_exclude": [
    "module",
    "function",
    "builtin_function_or_method",
    "instance",
    "_Feature"
   ],
   "window_display": false
  }
 },
 "nbformat": 4,
 "nbformat_minor": 5
}
