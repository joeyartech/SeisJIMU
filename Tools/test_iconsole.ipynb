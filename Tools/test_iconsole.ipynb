{
 "cells": [
  {
   "cell_type": "code",
   "execution_count": 1,
   "metadata": {},
   "outputs": [],
   "source": [
    "%load_ext autoreload\n",
    "%autoreload 1\n",
    "%aimport iconsole\n",
    "\n",
    "import iconsole as ic\n",
    "from iconsole import run as Run\n",
    "from iconsole import load as Load\n",
    "import numpy as np\n",
    "import matplotlib.pyplot as plt\n",
    "\n",
    "import sys\n",
    "sys.path.append(r'/home/zhouw/Codes/GitHub/Misc/Python')\n",
    "from wiggle import wiggle_2d"
   ]
  },
  {
   "cell_type": "code",
   "execution_count": 2,
   "metadata": {},
   "outputs": [
    {
     "name": "stdout",
     "output_type": "stream",
     "text": [
      "setup.in will include:\n",
      "MODEL_SIZE \t '301   301   1'\n",
      "MODEL_SPACING \t '10    10    2'\n",
      "IS_FREESURFACE \t F\n",
      "ACQUI_GEOMETRY \t spread\n",
      "FS \t '1500 1000  1'\n",
      "DS \t '0    500   0'\n",
      "NS \t 2\n",
      "FR \t '1500 1500  1'\n",
      "DR \t '0    500  0'\n",
      "NR \t 2\n",
      "IF_HICKS \t F\n",
      "NT \t 1000\n",
      "DT \t 0.004\n",
      "FPEAK \t 6\n",
      "IF_USE_CHECKPOINT \t F\n"
     ]
    }
   ],
   "source": [
    "ic.setup_update({\n",
    "    \"MODEL_SIZE\":\"'301   301   1'\",\n",
    "    \"MODEL_SPACING\":\"'10    10    1'\",\n",
    "    \"MODEL_SPACING\":\"'10    10    2'\",\n",
    "    })\n",
    "\n",
    "ic.setup_update({\n",
    "    \"IS_FREESURFACE\": \"F\",\n",
    "    \"ACQUI_GEOMETRY\": \"spread\",\n",
    "    \"FS\":             \"'1500 1000  1'\",\n",
    "    \"DS\":             \"'0    500   0'\",\n",
    "    \"NS\":               2,\n",
    "    \"FR\":             \"'1500 1500  1'\",\n",
    "    \"DR\":             \"'0    500  0'\",\n",
    "    \"NR\":               2,\n",
    "    \"IF_HICKS\": \"F\"\n",
    "    })\n",
    "\n",
    "ic.setup_update({\n",
    "    \"NT\":           1000,\n",
    "    \"DT\":           0.004,\n",
    "    \"FPEAK\":        6,\n",
    "    })\n",
    "\n",
    "ic.setup_update({\"IF_USE_CHECKPOINT\":\"F\"})\n",
    "\n",
    "ic.setup_print()"
   ]
  },
  {
   "cell_type": "code",
   "execution_count": 3,
   "metadata": {
    "scrolled": true
   },
   "outputs": [
    {
     "name": "stdout",
     "output_type": "stream",
     "text": [
      "Writing setup.in ...\n",
      "Running ...\n",
      " MPIWorld info:\n",
      "  MPI_INIT_THREAD level:           0\n",
      "  Number of MPI processors:           1\n",
      "  Max number of OMP threads / processor:           8\n",
      " Working directory: (pwd)\n",
      "/home/zhouw/Codes/GitHub/SeisJIMU/Tools\n",
      " Using executable: (ls -l $exe)\n",
      "lrwxrwxrwx 1 zhouw ondes 14 Aug 30 16:15 /home/zhouw/Codes/GitHub/SeisJIMU/exe/FWD -> fwd_AC_FDSG_O4\n",
      " Git Commit: 371d0c4\n",
      " Git Branch: future\n",
      " Compiler: gfortran v9.3.0\n",
      " Version: 9.3.0\n",
      " Endianness:         1234\n",
      " System date: 11/28/2021\n",
      "System time: 18:12:20\n",
      "System timezone: +01:00\n",
      "                        \n",
      " ======================================\n",
      "   WELCOME TO SeisJIMU FWD MODELING   \n",
      "======================================\n",
      " Setup file: setup.in\n",
      " DIR_IN is NOT found, take default: ./\n",
      " Input directory: ./\n",
      " DIR_OUT is NOT found, take default: ./results/\n",
      " Output directory:./results/\n",
      " Invoked field & propagator modules info : \n",
      "Time-domain ISOtropic 2D/3D ACoustic propagation\n",
      "1st-order Velocity-Stress formulation\n",
      "Vireux-Levandar Staggered-Grid Finite-Difference (FDSG) method\n",
      "Cartesian O(x4,t2) stencil\n",
      "CFL=Sum|coef|*Vmax*dt/rev_cell_volume\n",
      "   -> dt <= 0.606(2D) or 0.494(3D) *Vmax/dx\n",
      "Required model attributes: vp, rho\n",
      "Required field components: vx, vy, vz, p\n",
      "Required boundary layer thickness: 2\n",
      "Basic gradients: grho gkpa\n",
      "Imaging conditions: P-Pxcorr\n",
      "Energy terms: Sum_shot int sfield%P^2 dt                                            \n",
      " FDGS Coef : 1.12500000, -4.16666679E-02\n",
      " IF_CHECKPOINT is NOT found, take default: F\n",
      " IF_USE_CHECKPOINT : F\n",
      " DIR_CHECKPOINT (DIR_CHP) is NOT found, take default: ./checkpoints/\n",
      " MODEL_SIZE (NZXY) : 301   301   1\n",
      " MODEL_SPACING (DZXY) : 10    10    2\n",
      " 2D geometry\n",
      " MODEL_ORIGIN (OZXY) is NOT found, take default: 0. 0. 0.\n",
      " FILE_MODEL is NOT found, take 0, '' or F.\n",
      " MODEL_ATTRIBUTES is NOT found, take default: vp rho\n",
      " MODEL_ATTRIBUTES_WRITE is NOT found, take default: vp rho\n",
      " IS_FREESURFACE : F\n",
      " \u001b[40m\u001b[33m\u001b[1mWARNING:\u001b[0m Constant vp model (1.5 km/s) is allocated by propagator.\n",
      " \u001b[40m\u001b[33m\u001b[1mWARNING:\u001b[0m Constant rho model (1 g/cc) is allocated by propagator.\n",
      " ACQUI_GEOMETRY : spread\n",
      " NUMBER_SOURCE (NS) : 2\n",
      " Will compute 2 synthetic shots.\n",
      " FILE_SHOT_BATCH is NOT found, take 0, '' or F.\n",
      " SHOT_BATCH_SIZE (NBATCH) is NOT found, take default: 1\n",
      " SHOT_SAMPLE_METHOD is NOT found, take default: cyclic\n",
      "  Proc# 0000 has 2 assigned shots.\n",
      " See file \"shotlist\" for details.\n",
      " ===== START LOOP OVER SHOTS =====\n",
      " TIME_STEP (NT) : 1000\n",
      " TIME_INTERVAL (DT) : 0.004\n",
      " SOURCE_COMPONENT (SCOMP) is NOT found, take default: p\n",
      " ACQUI_GEOMETRY : spread\n",
      " SOURCE_FIRST (FS) : 1500 1000  1\n",
      " RECEIVER_FIRST (FR) : 1500 1500  1\n",
      " SOURCE_SPACING (DS) : 0    500   0\n",
      " RECEIVER_SPACING (DR) : 0    500  0\n",
      " NUMBER_RECEIVER (NR) : 2\n",
      " RECEIVER_COMPONENT (RCOMP) is NOT found, take default: p\n",
      " PEAK_FREQUENCY (FPEAK) : 6\n",
      " MAX_FREQUENCY (FMAX) is NOT found, take default: 12.0000000\n",
      " FILE_SRC_TIME_FUNC (FILE_WAVELET) is NOT found, take 0, '' or F.\n",
      " WAVELET_TYPE is NOT found, take default: sinexp\n",
      " Use filtered sinexp wavelet\n",
      " WAVELET_SCALING is NOT found, take 0, '' or F.\n",
      "rm: cannot remove './results/wavelet.su': No such file or directory\n",
      " SU data write success.\n",
      " IF_HICKS : F\n",
      " =================================\n",
      " Shot# 0001 info:\n",
      " =================================\n",
      "   nt,dt:        1000   4.00000019E-03\n",
      " ---------------------------------\n",
      " S/R positions after removing m%oz,ox,iy,\n",
      "   sz,iz:   1500.00000             151\n",
      "   sx,ix:   1000.00000             101\n",
      "   sy,iy:   0.00000000               1\n",
      "   ifz,ilz:           0           0\n",
      "   ifx,ilx:           0           0\n",
      "   ify,ily:           0           0\n",
      " ---------------------------------\n",
      "   minmax rz,iz:   1500.00000       1500.00000             151         151\n",
      "   minmax rx,ix:   1500.00000       2000.00000             151         201\n",
      "   minmax ry,iy:   0.00000000       0.00000000               1           1\n",
      "   minmax ifz,ilz:           0           0           0           0\n",
      "   minmax ifx,ilx:           0           0           0           0\n",
      "   minmax ify,ily:           0           0           0           0\n",
      "   nrcv:           2\n",
      " ---------------------------------\n",
      " Modeling Shot# 0001\n",
      " APERTURE is NOT found, take default: -99999 99999 -99999 99999\n",
      " REF_BNDLAYER_THICKNESS (NCPML) is NOT found, take default: 20\n",
      " Computebox Size = [ifz,ilz] x [ifx,ilx] x [ify,ily] =       121801\n",
      "   [ifz,ilz],nz:         -23         325         349\n",
      "   [ifx,ilx],nx:         -23         325         349\n",
      "   [ify,ilx],ny:           1           1           1\n",
      " Inner area of Computebox:\n",
      "   ioz,mz:           1         301\n",
      "   iox,mx:           1         301\n",
      "   ioy,my:           1           1\n",
      " Computebox value ranges:\n",
      " vp   1500.00000       1500.00000    \n",
      " rho   1000.00000       1000.00000    \n",
      " ip   1500000.00       1500000.00    \n",
      " CFL value: 0.989949524\n",
      " SNAPSHOT is NOT found, take 0, '' or F.\n",
      " REF_RECT_TIME_INTEVAL (RDT) is NOT found, take default: 4.16666679E-02\n",
      " rdt, irdt = 4.00000028E-02, 10\n",
      " IF_BLOOM is NOT found, take default: T\n",
      " it----         500\n",
      " field minmax values:  -2.52356640E-05   2.16799581E-05\n",
      " it----        1000\n",
      " field minmax values:  -1.21889900E-06   8.71572894E-08\n",
      " Elapsed time to add source velocities   4.76539135E-05\n",
      " Elapsed time to update velocities      0.230166137    \n",
      " Elapsed time to add source stresses     5.80251217E-05\n",
      " Elapsed time to update stresses        0.182612985    \n",
      " Elapsed time to extract field           6.16908073E-05\n",
      " Elapsed time to save boundary           0.00000000    \n",
      " Viewing the snapshots (if written) with SU ximage/xmovie:\n",
      "ximage < snap_sfield%*  n1=00349 perc=99\n",
      "xmovie < snap_sfield%*  n1=00349 n2=00349 clip=?e-?? loop=2 title=%g\n",
      " DATA_FORMAT is NOT found, take default: su\n",
      " Found proper SU scalel = 1.00000000\n",
      " SU_SCALEL is NOT found, take default: 1.00000000\n",
      " Found proper SU scalco = 1.00000000\n",
      " SU_SCALCO is NOT found, take default: 1.00000000\n",
      "rm: cannot remove './results/dsyn_0001.su': No such file or directory\n",
      " SU data write success.\n",
      " ACQUI_GEOMETRY : spread\n",
      " PEAK_FREQUENCY (FPEAK) : 6\n",
      " MAX_FREQUENCY (FMAX) is NOT found, take default: 12.0000000\n",
      " FILE_SRC_TIME_FUNC (FILE_WAVELET) is NOT found, take 0, '' or F.\n",
      " WAVELET_TYPE is NOT found, take default: sinexp\n",
      " Use filtered sinexp wavelet\n",
      " WAVELET_SCALING is NOT found, take 0, '' or F.\n",
      " SU data write success.\n",
      " =================================\n",
      " Shot# 0002 info:\n",
      " =================================\n",
      "   nt,dt:        1000   4.00000019E-03\n",
      " ---------------------------------\n",
      " S/R positions after removing m%oz,ox,iy,\n",
      "   sz,iz:   1500.00000             151\n",
      "   sx,ix:   1500.00000             151\n",
      "   sy,iy:   0.00000000               1\n",
      "   ifz,ilz:           0           0\n",
      "   ifx,ilx:           0           0\n",
      "   ify,ily:           0           0\n",
      " ---------------------------------\n",
      "   minmax rz,iz:   1500.00000       1500.00000             151         151\n",
      "   minmax rx,ix:   1500.00000       2000.00000             151         201\n",
      "   minmax ry,iy:   0.00000000       0.00000000               1           1\n",
      "   minmax ifz,ilz:           0           0           0           0\n",
      "   minmax ifx,ilx:           0           0           0           0\n",
      "   minmax ify,ily:           0           0           0           0\n",
      "   nrcv:           2\n",
      " ---------------------------------\n",
      " Modeling Shot# 0002\n",
      " APERTURE is NOT found, take default: -99999 99999 -99999 99999\n",
      " REF_BNDLAYER_THICKNESS (NCPML) is NOT found, take default: 20\n",
      " Computebox Size = [ifz,ilz] x [ifx,ilx] x [ify,ily] =       121801\n",
      "   [ifz,ilz],nz:         -23         325         349\n",
      "   [ifx,ilx],nx:         -23         325         349\n",
      "   [ify,ilx],ny:           1           1           1\n",
      " Inner area of Computebox:\n",
      "   ioz,mz:           1         301\n",
      "   iox,mx:           1         301\n",
      "   ioy,my:           1           1\n",
      " Computebox value ranges:\n",
      " vp   1500.00000       1500.00000    \n",
      " rho   1000.00000       1000.00000    \n",
      " ip   1500000.00       1500000.00    \n",
      " CFL value: 0.989949524\n",
      " SNAPSHOT is NOT found, take 0, '' or F.\n",
      " REF_RECT_TIME_INTEVAL (RDT) is NOT found, take default: 4.16666679E-02\n",
      " rdt, irdt = 4.00000028E-02, 10\n",
      " IF_BLOOM is NOT found, take default: T\n",
      " it----         500\n",
      " field minmax values:  -3.59142064E-06   2.33715878E-06\n",
      " it----        1000\n",
      " field minmax values:  -1.22577353E-06   9.59128670E-08\n",
      " Elapsed time to add source velocities   4.94122505E-05\n",
      " Elapsed time to update velocities      0.138889372    \n",
      " Elapsed time to add source stresses     5.62071800E-05\n",
      " Elapsed time to update stresses        0.142829299    \n",
      " Elapsed time to extract field           6.19888306E-05\n",
      " Elapsed time to save boundary           0.00000000    \n",
      " Viewing the snapshots (if written) with SU ximage/xmovie:\n",
      "ximage < snap_sfield%*  n1=00349 perc=99\n",
      "xmovie < snap_sfield%*  n1=00349 n2=00349 clip=?e-?? loop=2 title=%g\n",
      "rm: cannot remove './results/dsyn_0002.su': No such file or directory\n",
      " SU data write success.\n",
      "         END LOOP OVER SHOTS        \n",
      " ===================================\n",
      "   SeisJIMU has finished the job   \n",
      "===================================\n",
      " System date: 11/28/2021\n",
      "System time: 18:12:20\n",
      "System timezone: +01:00\n",
      "                        \n",
      "\n",
      "Finished running\n",
      "Finish with success.\n"
     ]
    }
   ],
   "source": [
    "ic.exedir='/home/zhouw/Codes/GitHub/SeisJIMU/exe/'\n",
    "Run(\"FWD\")"
   ]
  },
  {
   "cell_type": "code",
   "execution_count": 4,
   "metadata": {},
   "outputs": [
    {
     "name": "stdout",
     "output_type": "stream",
     "text": [
      "./results/dsyn_0001.su\n",
      "(1000, 2)\n"
     ]
    },
    {
     "data": {
      "text/plain": [
       "<AxesSubplot:>"
      ]
     },
     "execution_count": 4,
     "metadata": {},
     "output_type": "execute_result"
    },
    {
     "data": {
      "image/png": "[encoded data removed]",
      "text/plain": [
       "<Figure size 1152x576 with 1 Axes>"
      ]
     },
     "metadata": {
      "needs_background": "light"
     },
     "output_type": "display_data"
    }
   ],
   "source": [
    "dsyn=Load(\"dsyn_0001.su\")\n",
    "print(dsyn.shape)\n",
    "\n",
    "wiggle_2d(np.transpose(dsyn))"
   ]
  },
  {
   "cell_type": "code",
   "execution_count": 5,
   "metadata": {},
   "outputs": [
    {
     "name": "stdout",
     "output_type": "stream",
     "text": [
      "./results/dsyn_0001.su\n",
      "(1000, 2)\n",
      "319.11060729980466\n"
     ]
    },
    {
     "data": {
      "text/plain": [
       "<matplotlib.image.AxesImage at 0x7f7ef8fa6b20>"
      ]
     },
     "execution_count": 5,
     "metadata": {},
     "output_type": "execute_result"
    },
    {
     "data": {
      "image/png": "[encoded data removed]",
      "text/plain": [
       "<Figure size 864x432 with 1 Axes>"
      ]
     },
     "metadata": {
      "needs_background": "light"
     },
     "output_type": "display_data"
    }
   ],
   "source": [
    "dsyn=Load(\"dsyn_0001.su\")\n",
    "print(dsyn.shape)\n",
    "\n",
    "clip=np.percentile(dsyn,99)\n",
    "print(clip)\n",
    "\n",
    "plt.figure(figsize=(12,6))\n",
    "plt.imshow(dsyn,vmin=-clip,vmax=clip, cmap='gray', aspect='auto')"
   ]
  },
  {
   "cell_type": "code",
   "execution_count": 6,
   "metadata": {},
   "outputs": [
    {
     "name": "stdout",
     "output_type": "stream",
     "text": [
      "n1=1000 n2=2 d1=0.004000\n",
      "nt=1000 ntr=2 dt=0.004000\n",
      "ns=1000\n",
      "(1000, 2)\n",
      "319.11060729980466\n"
     ]
    },
    {
     "data": {
      "text/plain": [
       "<matplotlib.image.AxesImage at 0x7f7ef8f14340>"
      ]
     },
     "execution_count": 6,
     "metadata": {},
     "output_type": "execute_result"
    },
    {
     "data": {
      "image/png": "[encoded data removed]",
      "text/plain": [
       "<Figure size 864x432 with 1 Axes>"
      ]
     },
     "metadata": {
      "needs_background": "light"
     },
     "output_type": "display_data"
    }
   ],
   "source": [
    "!sustrip < ./results/dsyn_0001.su > temp\n",
    "\n",
    "dsyn=Load(\"temp\",dir='./',n=[1000,2])\n",
    "print(dsyn.shape)\n",
    "\n",
    "clip=np.percentile(dsyn,99)\n",
    "print(clip)\n",
    "\n",
    "plt.figure(figsize=(12,6))\n",
    "plt.imshow(dsyn,vmin=-clip,vmax=clip, cmap='gray', aspect='auto')"
   ]
  }
 ],
 "metadata": {
  "kernelspec": {
   "display_name": "Python 3",
   "language": "python",
   "name": "python3"
  },
  "language_info": {
   "codemirror_mode": {
    "name": "ipython",
    "version": 3
   },
   "file_extension": ".py",
   "mimetype": "text/x-python",
   "name": "python",
   "nbconvert_exporter": "python",
   "pygments_lexer": "ipython3",
   "version": "3.8.10"
  }
 },
 "nbformat": 4,
 "nbformat_minor": 4
}
